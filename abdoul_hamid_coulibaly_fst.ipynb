{
  "cells": [
    {
      "cell_type": "markdown",
      "metadata": {
        "id": "view-in-github",
        "colab_type": "text"
      },
      "source": [
        "<a href=\"https://colab.research.google.com/github/bamanan/Exam-Machine-Learnig/blob/main/abdoul_hamid_coulibaly_fst.ipynb\" target=\"_parent\"><img src=\"https://colab.research.google.com/assets/colab-badge.svg\" alt=\"Open In Colab\"/></a>"
      ]
    },
    {
      "cell_type": "markdown",
      "source": [
        "# Imports"
      ],
      "metadata": {
        "id": "B-jwjOwiHkGH"
      }
    },
    {
      "cell_type": "code",
      "execution_count": 273,
      "metadata": {
        "id": "p7LhvRsD1RVj"
      },
      "outputs": [],
      "source": [
        "import numpy as np\n",
        "import pandas as pd\n",
        "import matplotlib.pyplot as plt\n",
        "\n",
        "from sklearn.model_selection import train_test_split, validation_curve\n",
        "from sklearn.preprocessing import StandardScaler, LabelBinarizer, PolynomialFeatures\n",
        "\n",
        "\n",
        "from sklearn.tree import DecisionTreeClassifier, plot_tree\n",
        "from sklearn.neighbors import KNeighborsClassifier\n",
        "from sklearn.svm import SVC\n",
        "from sklearn.ensemble import RandomForestClassifier\n",
        "from sklearn.linear_model import LogisticRegression\n",
        "\n",
        "import tensorflow as tf\n",
        "\n",
        "import random\n",
        "\n",
        "# import warnings filter\n",
        "from warnings import simplefilter\n",
        "# ignore all future warnings\n",
        "simplefilter(action='ignore', category=FutureWarning)"
      ]
    },
    {
      "cell_type": "markdown",
      "metadata": {
        "id": "k6tQqPpo1RVr"
      },
      "source": [
        "# Chargement des jeux de données"
      ]
    },
    {
      "cell_type": "code",
      "source": [
        "from google.colab import drive\n",
        "drive.mount('/content/drive')"
      ],
      "metadata": {
        "colab": {
          "base_uri": "https://localhost:8080/"
        },
        "id": "QxAssPpdEDEG",
        "outputId": "35d72d06-4fb1-4ee3-f9da-6e398b39d57b"
      },
      "execution_count": 2,
      "outputs": [
        {
          "output_type": "stream",
          "name": "stdout",
          "text": [
            "Mounted at /content/drive\n"
          ]
        }
      ]
    },
    {
      "cell_type": "code",
      "execution_count": 3,
      "metadata": {
        "colab": {
          "base_uri": "https://localhost:8080/",
          "height": 488
        },
        "id": "e3sFtMQ21RVv",
        "outputId": "3c6e505f-e6dc-4e3c-a051-1d4cfd3195a3"
      },
      "outputs": [
        {
          "output_type": "execute_result",
          "data": {
            "text/plain": [
              "      label  pixel1  pixel2  pixel3  pixel4  pixel5  pixel6  pixel7  pixel8  \\\n",
              "1        12       0       0       0       0       0       0       0       0   \n",
              "2        22       0       0       0       0       0       0       0       0   \n",
              "3        16       0       0       0       0       0       0       0       0   \n",
              "4         1       0       0       0       0       0       0       0       0   \n",
              "5         2       0       0       0       0       0       0       0       0   \n",
              "...     ...     ...     ...     ...     ...     ...     ...     ...     ...   \n",
              "1696      1       0       0       0       0       0       0       0       0   \n",
              "1697     12       0       0       0       0       0       0       0       0   \n",
              "1698     22       0       0       0       0       0       0       0       0   \n",
              "1699     12       0       0       0       0       0       0       0       0   \n",
              "1700     16       0       0       0       0       0       0       0       0   \n",
              "\n",
              "      pixel9  ...  pixel1015  pixel1016  pixel1017  pixel1018  pixel1019  \\\n",
              "1          0  ...          0          0          0          0          0   \n",
              "2          0  ...          0          0          0          0          0   \n",
              "3          0  ...          0          0          0          0          0   \n",
              "4          0  ...          0          0          0          0          0   \n",
              "5          0  ...          0          0          0          0          0   \n",
              "...      ...  ...        ...        ...        ...        ...        ...   \n",
              "1696       0  ...          0          0          0          0          0   \n",
              "1697       0  ...          0          0          0          0          0   \n",
              "1698       0  ...          0          0          0          0          0   \n",
              "1699       0  ...          0          0          0          0          0   \n",
              "1700       0  ...          0          0          0          0          0   \n",
              "\n",
              "      pixel1020  pixel1021  pixel1022  pixel1023  pixel1024  \n",
              "1             0          0          0          0          0  \n",
              "2             0          0          0          0          0  \n",
              "3             0          0          0          0          0  \n",
              "4             0          0          0          0          0  \n",
              "5             0          0          0          0          0  \n",
              "...         ...        ...        ...        ...        ...  \n",
              "1696          0          0          0          0          0  \n",
              "1697          0          0          0          0          0  \n",
              "1698          0          0          0          0          0  \n",
              "1699          0          0          0          0          0  \n",
              "1700          0          0          0          0          0  \n",
              "\n",
              "[1700 rows x 1025 columns]"
            ],
            "text/html": [
              "\n",
              "  <div id=\"df-dc872c68-380e-4c87-93a6-0928072556eb\">\n",
              "    <div class=\"colab-df-container\">\n",
              "      <div>\n",
              "<style scoped>\n",
              "    .dataframe tbody tr th:only-of-type {\n",
              "        vertical-align: middle;\n",
              "    }\n",
              "\n",
              "    .dataframe tbody tr th {\n",
              "        vertical-align: top;\n",
              "    }\n",
              "\n",
              "    .dataframe thead th {\n",
              "        text-align: right;\n",
              "    }\n",
              "</style>\n",
              "<table border=\"1\" class=\"dataframe\">\n",
              "  <thead>\n",
              "    <tr style=\"text-align: right;\">\n",
              "      <th></th>\n",
              "      <th>label</th>\n",
              "      <th>pixel1</th>\n",
              "      <th>pixel2</th>\n",
              "      <th>pixel3</th>\n",
              "      <th>pixel4</th>\n",
              "      <th>pixel5</th>\n",
              "      <th>pixel6</th>\n",
              "      <th>pixel7</th>\n",
              "      <th>pixel8</th>\n",
              "      <th>pixel9</th>\n",
              "      <th>...</th>\n",
              "      <th>pixel1015</th>\n",
              "      <th>pixel1016</th>\n",
              "      <th>pixel1017</th>\n",
              "      <th>pixel1018</th>\n",
              "      <th>pixel1019</th>\n",
              "      <th>pixel1020</th>\n",
              "      <th>pixel1021</th>\n",
              "      <th>pixel1022</th>\n",
              "      <th>pixel1023</th>\n",
              "      <th>pixel1024</th>\n",
              "    </tr>\n",
              "  </thead>\n",
              "  <tbody>\n",
              "    <tr>\n",
              "      <th>1</th>\n",
              "      <td>12</td>\n",
              "      <td>0</td>\n",
              "      <td>0</td>\n",
              "      <td>0</td>\n",
              "      <td>0</td>\n",
              "      <td>0</td>\n",
              "      <td>0</td>\n",
              "      <td>0</td>\n",
              "      <td>0</td>\n",
              "      <td>0</td>\n",
              "      <td>...</td>\n",
              "      <td>0</td>\n",
              "      <td>0</td>\n",
              "      <td>0</td>\n",
              "      <td>0</td>\n",
              "      <td>0</td>\n",
              "      <td>0</td>\n",
              "      <td>0</td>\n",
              "      <td>0</td>\n",
              "      <td>0</td>\n",
              "      <td>0</td>\n",
              "    </tr>\n",
              "    <tr>\n",
              "      <th>2</th>\n",
              "      <td>22</td>\n",
              "      <td>0</td>\n",
              "      <td>0</td>\n",
              "      <td>0</td>\n",
              "      <td>0</td>\n",
              "      <td>0</td>\n",
              "      <td>0</td>\n",
              "      <td>0</td>\n",
              "      <td>0</td>\n",
              "      <td>0</td>\n",
              "      <td>...</td>\n",
              "      <td>0</td>\n",
              "      <td>0</td>\n",
              "      <td>0</td>\n",
              "      <td>0</td>\n",
              "      <td>0</td>\n",
              "      <td>0</td>\n",
              "      <td>0</td>\n",
              "      <td>0</td>\n",
              "      <td>0</td>\n",
              "      <td>0</td>\n",
              "    </tr>\n",
              "    <tr>\n",
              "      <th>3</th>\n",
              "      <td>16</td>\n",
              "      <td>0</td>\n",
              "      <td>0</td>\n",
              "      <td>0</td>\n",
              "      <td>0</td>\n",
              "      <td>0</td>\n",
              "      <td>0</td>\n",
              "      <td>0</td>\n",
              "      <td>0</td>\n",
              "      <td>0</td>\n",
              "      <td>...</td>\n",
              "      <td>0</td>\n",
              "      <td>0</td>\n",
              "      <td>0</td>\n",
              "      <td>0</td>\n",
              "      <td>0</td>\n",
              "      <td>0</td>\n",
              "      <td>0</td>\n",
              "      <td>0</td>\n",
              "      <td>0</td>\n",
              "      <td>0</td>\n",
              "    </tr>\n",
              "    <tr>\n",
              "      <th>4</th>\n",
              "      <td>1</td>\n",
              "      <td>0</td>\n",
              "      <td>0</td>\n",
              "      <td>0</td>\n",
              "      <td>0</td>\n",
              "      <td>0</td>\n",
              "      <td>0</td>\n",
              "      <td>0</td>\n",
              "      <td>0</td>\n",
              "      <td>0</td>\n",
              "      <td>...</td>\n",
              "      <td>0</td>\n",
              "      <td>0</td>\n",
              "      <td>0</td>\n",
              "      <td>0</td>\n",
              "      <td>0</td>\n",
              "      <td>0</td>\n",
              "      <td>0</td>\n",
              "      <td>0</td>\n",
              "      <td>0</td>\n",
              "      <td>0</td>\n",
              "    </tr>\n",
              "    <tr>\n",
              "      <th>5</th>\n",
              "      <td>2</td>\n",
              "      <td>0</td>\n",
              "      <td>0</td>\n",
              "      <td>0</td>\n",
              "      <td>0</td>\n",
              "      <td>0</td>\n",
              "      <td>0</td>\n",
              "      <td>0</td>\n",
              "      <td>0</td>\n",
              "      <td>0</td>\n",
              "      <td>...</td>\n",
              "      <td>0</td>\n",
              "      <td>0</td>\n",
              "      <td>0</td>\n",
              "      <td>0</td>\n",
              "      <td>0</td>\n",
              "      <td>0</td>\n",
              "      <td>0</td>\n",
              "      <td>0</td>\n",
              "      <td>0</td>\n",
              "      <td>0</td>\n",
              "    </tr>\n",
              "    <tr>\n",
              "      <th>...</th>\n",
              "      <td>...</td>\n",
              "      <td>...</td>\n",
              "      <td>...</td>\n",
              "      <td>...</td>\n",
              "      <td>...</td>\n",
              "      <td>...</td>\n",
              "      <td>...</td>\n",
              "      <td>...</td>\n",
              "      <td>...</td>\n",
              "      <td>...</td>\n",
              "      <td>...</td>\n",
              "      <td>...</td>\n",
              "      <td>...</td>\n",
              "      <td>...</td>\n",
              "      <td>...</td>\n",
              "      <td>...</td>\n",
              "      <td>...</td>\n",
              "      <td>...</td>\n",
              "      <td>...</td>\n",
              "      <td>...</td>\n",
              "      <td>...</td>\n",
              "    </tr>\n",
              "    <tr>\n",
              "      <th>1696</th>\n",
              "      <td>1</td>\n",
              "      <td>0</td>\n",
              "      <td>0</td>\n",
              "      <td>0</td>\n",
              "      <td>0</td>\n",
              "      <td>0</td>\n",
              "      <td>0</td>\n",
              "      <td>0</td>\n",
              "      <td>0</td>\n",
              "      <td>0</td>\n",
              "      <td>...</td>\n",
              "      <td>0</td>\n",
              "      <td>0</td>\n",
              "      <td>0</td>\n",
              "      <td>0</td>\n",
              "      <td>0</td>\n",
              "      <td>0</td>\n",
              "      <td>0</td>\n",
              "      <td>0</td>\n",
              "      <td>0</td>\n",
              "      <td>0</td>\n",
              "    </tr>\n",
              "    <tr>\n",
              "      <th>1697</th>\n",
              "      <td>12</td>\n",
              "      <td>0</td>\n",
              "      <td>0</td>\n",
              "      <td>0</td>\n",
              "      <td>0</td>\n",
              "      <td>0</td>\n",
              "      <td>0</td>\n",
              "      <td>0</td>\n",
              "      <td>0</td>\n",
              "      <td>0</td>\n",
              "      <td>...</td>\n",
              "      <td>0</td>\n",
              "      <td>0</td>\n",
              "      <td>0</td>\n",
              "      <td>0</td>\n",
              "      <td>0</td>\n",
              "      <td>0</td>\n",
              "      <td>0</td>\n",
              "      <td>0</td>\n",
              "      <td>0</td>\n",
              "      <td>0</td>\n",
              "    </tr>\n",
              "    <tr>\n",
              "      <th>1698</th>\n",
              "      <td>22</td>\n",
              "      <td>0</td>\n",
              "      <td>0</td>\n",
              "      <td>0</td>\n",
              "      <td>0</td>\n",
              "      <td>0</td>\n",
              "      <td>0</td>\n",
              "      <td>0</td>\n",
              "      <td>0</td>\n",
              "      <td>0</td>\n",
              "      <td>...</td>\n",
              "      <td>0</td>\n",
              "      <td>0</td>\n",
              "      <td>0</td>\n",
              "      <td>0</td>\n",
              "      <td>0</td>\n",
              "      <td>0</td>\n",
              "      <td>0</td>\n",
              "      <td>0</td>\n",
              "      <td>0</td>\n",
              "      <td>0</td>\n",
              "    </tr>\n",
              "    <tr>\n",
              "      <th>1699</th>\n",
              "      <td>12</td>\n",
              "      <td>0</td>\n",
              "      <td>0</td>\n",
              "      <td>0</td>\n",
              "      <td>0</td>\n",
              "      <td>0</td>\n",
              "      <td>0</td>\n",
              "      <td>0</td>\n",
              "      <td>0</td>\n",
              "      <td>0</td>\n",
              "      <td>...</td>\n",
              "      <td>0</td>\n",
              "      <td>0</td>\n",
              "      <td>0</td>\n",
              "      <td>0</td>\n",
              "      <td>0</td>\n",
              "      <td>0</td>\n",
              "      <td>0</td>\n",
              "      <td>0</td>\n",
              "      <td>0</td>\n",
              "      <td>0</td>\n",
              "    </tr>\n",
              "    <tr>\n",
              "      <th>1700</th>\n",
              "      <td>16</td>\n",
              "      <td>0</td>\n",
              "      <td>0</td>\n",
              "      <td>0</td>\n",
              "      <td>0</td>\n",
              "      <td>0</td>\n",
              "      <td>0</td>\n",
              "      <td>0</td>\n",
              "      <td>0</td>\n",
              "      <td>0</td>\n",
              "      <td>...</td>\n",
              "      <td>0</td>\n",
              "      <td>0</td>\n",
              "      <td>0</td>\n",
              "      <td>0</td>\n",
              "      <td>0</td>\n",
              "      <td>0</td>\n",
              "      <td>0</td>\n",
              "      <td>0</td>\n",
              "      <td>0</td>\n",
              "      <td>0</td>\n",
              "    </tr>\n",
              "  </tbody>\n",
              "</table>\n",
              "<p>1700 rows × 1025 columns</p>\n",
              "</div>\n",
              "      <button class=\"colab-df-convert\" onclick=\"convertToInteractive('df-dc872c68-380e-4c87-93a6-0928072556eb')\"\n",
              "              title=\"Convert this dataframe to an interactive table.\"\n",
              "              style=\"display:none;\">\n",
              "        \n",
              "  <svg xmlns=\"http://www.w3.org/2000/svg\" height=\"24px\"viewBox=\"0 0 24 24\"\n",
              "       width=\"24px\">\n",
              "    <path d=\"M0 0h24v24H0V0z\" fill=\"none\"/>\n",
              "    <path d=\"M18.56 5.44l.94 2.06.94-2.06 2.06-.94-2.06-.94-.94-2.06-.94 2.06-2.06.94zm-11 1L8.5 8.5l.94-2.06 2.06-.94-2.06-.94L8.5 2.5l-.94 2.06-2.06.94zm10 10l.94 2.06.94-2.06 2.06-.94-2.06-.94-.94-2.06-.94 2.06-2.06.94z\"/><path d=\"M17.41 7.96l-1.37-1.37c-.4-.4-.92-.59-1.43-.59-.52 0-1.04.2-1.43.59L10.3 9.45l-7.72 7.72c-.78.78-.78 2.05 0 2.83L4 21.41c.39.39.9.59 1.41.59.51 0 1.02-.2 1.41-.59l7.78-7.78 2.81-2.81c.8-.78.8-2.07 0-2.86zM5.41 20L4 18.59l7.72-7.72 1.47 1.35L5.41 20z\"/>\n",
              "  </svg>\n",
              "      </button>\n",
              "      \n",
              "  <style>\n",
              "    .colab-df-container {\n",
              "      display:flex;\n",
              "      flex-wrap:wrap;\n",
              "      gap: 12px;\n",
              "    }\n",
              "\n",
              "    .colab-df-convert {\n",
              "      background-color: #E8F0FE;\n",
              "      border: none;\n",
              "      border-radius: 50%;\n",
              "      cursor: pointer;\n",
              "      display: none;\n",
              "      fill: #1967D2;\n",
              "      height: 32px;\n",
              "      padding: 0 0 0 0;\n",
              "      width: 32px;\n",
              "    }\n",
              "\n",
              "    .colab-df-convert:hover {\n",
              "      background-color: #E2EBFA;\n",
              "      box-shadow: 0px 1px 2px rgba(60, 64, 67, 0.3), 0px 1px 3px 1px rgba(60, 64, 67, 0.15);\n",
              "      fill: #174EA6;\n",
              "    }\n",
              "\n",
              "    [theme=dark] .colab-df-convert {\n",
              "      background-color: #3B4455;\n",
              "      fill: #D2E3FC;\n",
              "    }\n",
              "\n",
              "    [theme=dark] .colab-df-convert:hover {\n",
              "      background-color: #434B5C;\n",
              "      box-shadow: 0px 1px 3px 1px rgba(0, 0, 0, 0.15);\n",
              "      filter: drop-shadow(0px 1px 2px rgba(0, 0, 0, 0.3));\n",
              "      fill: #FFFFFF;\n",
              "    }\n",
              "  </style>\n",
              "\n",
              "      <script>\n",
              "        const buttonEl =\n",
              "          document.querySelector('#df-dc872c68-380e-4c87-93a6-0928072556eb button.colab-df-convert');\n",
              "        buttonEl.style.display =\n",
              "          google.colab.kernel.accessAllowed ? 'block' : 'none';\n",
              "\n",
              "        async function convertToInteractive(key) {\n",
              "          const element = document.querySelector('#df-dc872c68-380e-4c87-93a6-0928072556eb');\n",
              "          const dataTable =\n",
              "            await google.colab.kernel.invokeFunction('convertToInteractive',\n",
              "                                                     [key], {});\n",
              "          if (!dataTable) return;\n",
              "\n",
              "          const docLinkHtml = 'Like what you see? Visit the ' +\n",
              "            '<a target=\"_blank\" href=https://colab.research.google.com/notebooks/data_table.ipynb>data table notebook</a>'\n",
              "            + ' to learn more about interactive tables.';\n",
              "          element.innerHTML = '';\n",
              "          dataTable['output_type'] = 'display_data';\n",
              "          await google.colab.output.renderOutput(dataTable, element);\n",
              "          const docLink = document.createElement('div');\n",
              "          docLink.innerHTML = docLinkHtml;\n",
              "          element.appendChild(docLink);\n",
              "        }\n",
              "      </script>\n",
              "    </div>\n",
              "  </div>\n",
              "  "
            ]
          },
          "metadata": {},
          "execution_count": 3
        }
      ],
      "source": [
        "# Loading the main dataset and print it\n",
        "dataset = pd.read_csv('/content/drive/MyDrive/examen_fst/arabic_dataset.csv', delimiter=\";\", index_col=0)\n",
        "dataset"
      ]
    },
    {
      "cell_type": "code",
      "execution_count": 4,
      "metadata": {
        "id": "fUIoHq6F1RVx"
      },
      "outputs": [],
      "source": [
        "# Loading the competition set and print it\n",
        "competition = pd.read_csv('/content/drive/MyDrive/examen_fst/competition.csv', delimiter=\";\", index_col=0)"
      ]
    },
    {
      "cell_type": "code",
      "execution_count": 5,
      "metadata": {
        "colab": {
          "base_uri": "https://localhost:8080/",
          "height": 488
        },
        "id": "RAnt8PMs1RVz",
        "outputId": "cb31841d-ceea-4dad-e19a-dec67f851d6b"
      },
      "outputs": [
        {
          "output_type": "execute_result",
          "data": {
            "text/plain": [
              "     pixel1  pixel2  pixel3  pixel4  pixel5  pixel6  pixel7  pixel8  pixel9  \\\n",
              "1         0       0       0       0       0       0       0       0       0   \n",
              "2         0       0       0       0       0       0       0       0       0   \n",
              "3         0       0       0       0       0       0       0       0       0   \n",
              "4         0       0       0       0       0       0       0       0       0   \n",
              "5         0       0       0       0       0       0       0       0       0   \n",
              "..      ...     ...     ...     ...     ...     ...     ...     ...     ...   \n",
              "496       0       0       0       0       0       0       0       0       0   \n",
              "497       0       0       0       0       0       0       0       0       0   \n",
              "498       0       0       0       0       0       0       0       0       0   \n",
              "499       0       0       0       0       0       0       0       0       0   \n",
              "500       0       0       0       0       0       0       0       0       0   \n",
              "\n",
              "     pixel10  ...  pixel1015  pixel1016  pixel1017  pixel1018  pixel1019  \\\n",
              "1          0  ...          0          0          0          0          0   \n",
              "2          0  ...          0          0          0          0          0   \n",
              "3          0  ...          0          0          0          0          0   \n",
              "4          0  ...          0          0          0          0          0   \n",
              "5          0  ...          0          0          0          0          0   \n",
              "..       ...  ...        ...        ...        ...        ...        ...   \n",
              "496        0  ...          0          0          0          0          0   \n",
              "497        0  ...          0          0          0          0          0   \n",
              "498        0  ...          0          0          0          0          0   \n",
              "499        0  ...          0          0          0          0          0   \n",
              "500        0  ...          0          0          0          0          0   \n",
              "\n",
              "     pixel1020  pixel1021  pixel1022  pixel1023  pixel1024  \n",
              "1            0          0          0          0          0  \n",
              "2            0          0          0          0          0  \n",
              "3            0          0          0          0          0  \n",
              "4            0          0          0          0          0  \n",
              "5            0          0          0          0          0  \n",
              "..         ...        ...        ...        ...        ...  \n",
              "496          0          0          0          0          0  \n",
              "497          0          0          0          0          0  \n",
              "498          0          0          0          0          0  \n",
              "499          0          0          0          0          0  \n",
              "500          0          0          0          0          0  \n",
              "\n",
              "[500 rows x 1024 columns]"
            ],
            "text/html": [
              "\n",
              "  <div id=\"df-21ff9c73-1e1a-46f7-beea-922d0002a413\">\n",
              "    <div class=\"colab-df-container\">\n",
              "      <div>\n",
              "<style scoped>\n",
              "    .dataframe tbody tr th:only-of-type {\n",
              "        vertical-align: middle;\n",
              "    }\n",
              "\n",
              "    .dataframe tbody tr th {\n",
              "        vertical-align: top;\n",
              "    }\n",
              "\n",
              "    .dataframe thead th {\n",
              "        text-align: right;\n",
              "    }\n",
              "</style>\n",
              "<table border=\"1\" class=\"dataframe\">\n",
              "  <thead>\n",
              "    <tr style=\"text-align: right;\">\n",
              "      <th></th>\n",
              "      <th>pixel1</th>\n",
              "      <th>pixel2</th>\n",
              "      <th>pixel3</th>\n",
              "      <th>pixel4</th>\n",
              "      <th>pixel5</th>\n",
              "      <th>pixel6</th>\n",
              "      <th>pixel7</th>\n",
              "      <th>pixel8</th>\n",
              "      <th>pixel9</th>\n",
              "      <th>pixel10</th>\n",
              "      <th>...</th>\n",
              "      <th>pixel1015</th>\n",
              "      <th>pixel1016</th>\n",
              "      <th>pixel1017</th>\n",
              "      <th>pixel1018</th>\n",
              "      <th>pixel1019</th>\n",
              "      <th>pixel1020</th>\n",
              "      <th>pixel1021</th>\n",
              "      <th>pixel1022</th>\n",
              "      <th>pixel1023</th>\n",
              "      <th>pixel1024</th>\n",
              "    </tr>\n",
              "  </thead>\n",
              "  <tbody>\n",
              "    <tr>\n",
              "      <th>1</th>\n",
              "      <td>0</td>\n",
              "      <td>0</td>\n",
              "      <td>0</td>\n",
              "      <td>0</td>\n",
              "      <td>0</td>\n",
              "      <td>0</td>\n",
              "      <td>0</td>\n",
              "      <td>0</td>\n",
              "      <td>0</td>\n",
              "      <td>0</td>\n",
              "      <td>...</td>\n",
              "      <td>0</td>\n",
              "      <td>0</td>\n",
              "      <td>0</td>\n",
              "      <td>0</td>\n",
              "      <td>0</td>\n",
              "      <td>0</td>\n",
              "      <td>0</td>\n",
              "      <td>0</td>\n",
              "      <td>0</td>\n",
              "      <td>0</td>\n",
              "    </tr>\n",
              "    <tr>\n",
              "      <th>2</th>\n",
              "      <td>0</td>\n",
              "      <td>0</td>\n",
              "      <td>0</td>\n",
              "      <td>0</td>\n",
              "      <td>0</td>\n",
              "      <td>0</td>\n",
              "      <td>0</td>\n",
              "      <td>0</td>\n",
              "      <td>0</td>\n",
              "      <td>0</td>\n",
              "      <td>...</td>\n",
              "      <td>0</td>\n",
              "      <td>0</td>\n",
              "      <td>0</td>\n",
              "      <td>0</td>\n",
              "      <td>0</td>\n",
              "      <td>0</td>\n",
              "      <td>0</td>\n",
              "      <td>0</td>\n",
              "      <td>0</td>\n",
              "      <td>0</td>\n",
              "    </tr>\n",
              "    <tr>\n",
              "      <th>3</th>\n",
              "      <td>0</td>\n",
              "      <td>0</td>\n",
              "      <td>0</td>\n",
              "      <td>0</td>\n",
              "      <td>0</td>\n",
              "      <td>0</td>\n",
              "      <td>0</td>\n",
              "      <td>0</td>\n",
              "      <td>0</td>\n",
              "      <td>0</td>\n",
              "      <td>...</td>\n",
              "      <td>0</td>\n",
              "      <td>0</td>\n",
              "      <td>0</td>\n",
              "      <td>0</td>\n",
              "      <td>0</td>\n",
              "      <td>0</td>\n",
              "      <td>0</td>\n",
              "      <td>0</td>\n",
              "      <td>0</td>\n",
              "      <td>0</td>\n",
              "    </tr>\n",
              "    <tr>\n",
              "      <th>4</th>\n",
              "      <td>0</td>\n",
              "      <td>0</td>\n",
              "      <td>0</td>\n",
              "      <td>0</td>\n",
              "      <td>0</td>\n",
              "      <td>0</td>\n",
              "      <td>0</td>\n",
              "      <td>0</td>\n",
              "      <td>0</td>\n",
              "      <td>0</td>\n",
              "      <td>...</td>\n",
              "      <td>0</td>\n",
              "      <td>0</td>\n",
              "      <td>0</td>\n",
              "      <td>0</td>\n",
              "      <td>0</td>\n",
              "      <td>0</td>\n",
              "      <td>0</td>\n",
              "      <td>0</td>\n",
              "      <td>0</td>\n",
              "      <td>0</td>\n",
              "    </tr>\n",
              "    <tr>\n",
              "      <th>5</th>\n",
              "      <td>0</td>\n",
              "      <td>0</td>\n",
              "      <td>0</td>\n",
              "      <td>0</td>\n",
              "      <td>0</td>\n",
              "      <td>0</td>\n",
              "      <td>0</td>\n",
              "      <td>0</td>\n",
              "      <td>0</td>\n",
              "      <td>0</td>\n",
              "      <td>...</td>\n",
              "      <td>0</td>\n",
              "      <td>0</td>\n",
              "      <td>0</td>\n",
              "      <td>0</td>\n",
              "      <td>0</td>\n",
              "      <td>0</td>\n",
              "      <td>0</td>\n",
              "      <td>0</td>\n",
              "      <td>0</td>\n",
              "      <td>0</td>\n",
              "    </tr>\n",
              "    <tr>\n",
              "      <th>...</th>\n",
              "      <td>...</td>\n",
              "      <td>...</td>\n",
              "      <td>...</td>\n",
              "      <td>...</td>\n",
              "      <td>...</td>\n",
              "      <td>...</td>\n",
              "      <td>...</td>\n",
              "      <td>...</td>\n",
              "      <td>...</td>\n",
              "      <td>...</td>\n",
              "      <td>...</td>\n",
              "      <td>...</td>\n",
              "      <td>...</td>\n",
              "      <td>...</td>\n",
              "      <td>...</td>\n",
              "      <td>...</td>\n",
              "      <td>...</td>\n",
              "      <td>...</td>\n",
              "      <td>...</td>\n",
              "      <td>...</td>\n",
              "      <td>...</td>\n",
              "    </tr>\n",
              "    <tr>\n",
              "      <th>496</th>\n",
              "      <td>0</td>\n",
              "      <td>0</td>\n",
              "      <td>0</td>\n",
              "      <td>0</td>\n",
              "      <td>0</td>\n",
              "      <td>0</td>\n",
              "      <td>0</td>\n",
              "      <td>0</td>\n",
              "      <td>0</td>\n",
              "      <td>0</td>\n",
              "      <td>...</td>\n",
              "      <td>0</td>\n",
              "      <td>0</td>\n",
              "      <td>0</td>\n",
              "      <td>0</td>\n",
              "      <td>0</td>\n",
              "      <td>0</td>\n",
              "      <td>0</td>\n",
              "      <td>0</td>\n",
              "      <td>0</td>\n",
              "      <td>0</td>\n",
              "    </tr>\n",
              "    <tr>\n",
              "      <th>497</th>\n",
              "      <td>0</td>\n",
              "      <td>0</td>\n",
              "      <td>0</td>\n",
              "      <td>0</td>\n",
              "      <td>0</td>\n",
              "      <td>0</td>\n",
              "      <td>0</td>\n",
              "      <td>0</td>\n",
              "      <td>0</td>\n",
              "      <td>0</td>\n",
              "      <td>...</td>\n",
              "      <td>0</td>\n",
              "      <td>0</td>\n",
              "      <td>0</td>\n",
              "      <td>0</td>\n",
              "      <td>0</td>\n",
              "      <td>0</td>\n",
              "      <td>0</td>\n",
              "      <td>0</td>\n",
              "      <td>0</td>\n",
              "      <td>0</td>\n",
              "    </tr>\n",
              "    <tr>\n",
              "      <th>498</th>\n",
              "      <td>0</td>\n",
              "      <td>0</td>\n",
              "      <td>0</td>\n",
              "      <td>0</td>\n",
              "      <td>0</td>\n",
              "      <td>0</td>\n",
              "      <td>0</td>\n",
              "      <td>0</td>\n",
              "      <td>0</td>\n",
              "      <td>0</td>\n",
              "      <td>...</td>\n",
              "      <td>0</td>\n",
              "      <td>0</td>\n",
              "      <td>0</td>\n",
              "      <td>0</td>\n",
              "      <td>0</td>\n",
              "      <td>0</td>\n",
              "      <td>0</td>\n",
              "      <td>0</td>\n",
              "      <td>0</td>\n",
              "      <td>0</td>\n",
              "    </tr>\n",
              "    <tr>\n",
              "      <th>499</th>\n",
              "      <td>0</td>\n",
              "      <td>0</td>\n",
              "      <td>0</td>\n",
              "      <td>0</td>\n",
              "      <td>0</td>\n",
              "      <td>0</td>\n",
              "      <td>0</td>\n",
              "      <td>0</td>\n",
              "      <td>0</td>\n",
              "      <td>0</td>\n",
              "      <td>...</td>\n",
              "      <td>0</td>\n",
              "      <td>0</td>\n",
              "      <td>0</td>\n",
              "      <td>0</td>\n",
              "      <td>0</td>\n",
              "      <td>0</td>\n",
              "      <td>0</td>\n",
              "      <td>0</td>\n",
              "      <td>0</td>\n",
              "      <td>0</td>\n",
              "    </tr>\n",
              "    <tr>\n",
              "      <th>500</th>\n",
              "      <td>0</td>\n",
              "      <td>0</td>\n",
              "      <td>0</td>\n",
              "      <td>0</td>\n",
              "      <td>0</td>\n",
              "      <td>0</td>\n",
              "      <td>0</td>\n",
              "      <td>0</td>\n",
              "      <td>0</td>\n",
              "      <td>0</td>\n",
              "      <td>...</td>\n",
              "      <td>0</td>\n",
              "      <td>0</td>\n",
              "      <td>0</td>\n",
              "      <td>0</td>\n",
              "      <td>0</td>\n",
              "      <td>0</td>\n",
              "      <td>0</td>\n",
              "      <td>0</td>\n",
              "      <td>0</td>\n",
              "      <td>0</td>\n",
              "    </tr>\n",
              "  </tbody>\n",
              "</table>\n",
              "<p>500 rows × 1024 columns</p>\n",
              "</div>\n",
              "      <button class=\"colab-df-convert\" onclick=\"convertToInteractive('df-21ff9c73-1e1a-46f7-beea-922d0002a413')\"\n",
              "              title=\"Convert this dataframe to an interactive table.\"\n",
              "              style=\"display:none;\">\n",
              "        \n",
              "  <svg xmlns=\"http://www.w3.org/2000/svg\" height=\"24px\"viewBox=\"0 0 24 24\"\n",
              "       width=\"24px\">\n",
              "    <path d=\"M0 0h24v24H0V0z\" fill=\"none\"/>\n",
              "    <path d=\"M18.56 5.44l.94 2.06.94-2.06 2.06-.94-2.06-.94-.94-2.06-.94 2.06-2.06.94zm-11 1L8.5 8.5l.94-2.06 2.06-.94-2.06-.94L8.5 2.5l-.94 2.06-2.06.94zm10 10l.94 2.06.94-2.06 2.06-.94-2.06-.94-.94-2.06-.94 2.06-2.06.94z\"/><path d=\"M17.41 7.96l-1.37-1.37c-.4-.4-.92-.59-1.43-.59-.52 0-1.04.2-1.43.59L10.3 9.45l-7.72 7.72c-.78.78-.78 2.05 0 2.83L4 21.41c.39.39.9.59 1.41.59.51 0 1.02-.2 1.41-.59l7.78-7.78 2.81-2.81c.8-.78.8-2.07 0-2.86zM5.41 20L4 18.59l7.72-7.72 1.47 1.35L5.41 20z\"/>\n",
              "  </svg>\n",
              "      </button>\n",
              "      \n",
              "  <style>\n",
              "    .colab-df-container {\n",
              "      display:flex;\n",
              "      flex-wrap:wrap;\n",
              "      gap: 12px;\n",
              "    }\n",
              "\n",
              "    .colab-df-convert {\n",
              "      background-color: #E8F0FE;\n",
              "      border: none;\n",
              "      border-radius: 50%;\n",
              "      cursor: pointer;\n",
              "      display: none;\n",
              "      fill: #1967D2;\n",
              "      height: 32px;\n",
              "      padding: 0 0 0 0;\n",
              "      width: 32px;\n",
              "    }\n",
              "\n",
              "    .colab-df-convert:hover {\n",
              "      background-color: #E2EBFA;\n",
              "      box-shadow: 0px 1px 2px rgba(60, 64, 67, 0.3), 0px 1px 3px 1px rgba(60, 64, 67, 0.15);\n",
              "      fill: #174EA6;\n",
              "    }\n",
              "\n",
              "    [theme=dark] .colab-df-convert {\n",
              "      background-color: #3B4455;\n",
              "      fill: #D2E3FC;\n",
              "    }\n",
              "\n",
              "    [theme=dark] .colab-df-convert:hover {\n",
              "      background-color: #434B5C;\n",
              "      box-shadow: 0px 1px 3px 1px rgba(0, 0, 0, 0.15);\n",
              "      filter: drop-shadow(0px 1px 2px rgba(0, 0, 0, 0.3));\n",
              "      fill: #FFFFFF;\n",
              "    }\n",
              "  </style>\n",
              "\n",
              "      <script>\n",
              "        const buttonEl =\n",
              "          document.querySelector('#df-21ff9c73-1e1a-46f7-beea-922d0002a413 button.colab-df-convert');\n",
              "        buttonEl.style.display =\n",
              "          google.colab.kernel.accessAllowed ? 'block' : 'none';\n",
              "\n",
              "        async function convertToInteractive(key) {\n",
              "          const element = document.querySelector('#df-21ff9c73-1e1a-46f7-beea-922d0002a413');\n",
              "          const dataTable =\n",
              "            await google.colab.kernel.invokeFunction('convertToInteractive',\n",
              "                                                     [key], {});\n",
              "          if (!dataTable) return;\n",
              "\n",
              "          const docLinkHtml = 'Like what you see? Visit the ' +\n",
              "            '<a target=\"_blank\" href=https://colab.research.google.com/notebooks/data_table.ipynb>data table notebook</a>'\n",
              "            + ' to learn more about interactive tables.';\n",
              "          element.innerHTML = '';\n",
              "          dataTable['output_type'] = 'display_data';\n",
              "          await google.colab.output.renderOutput(dataTable, element);\n",
              "          const docLink = document.createElement('div');\n",
              "          docLink.innerHTML = docLinkHtml;\n",
              "          element.appendChild(docLink);\n",
              "        }\n",
              "      </script>\n",
              "    </div>\n",
              "  </div>\n",
              "  "
            ]
          },
          "metadata": {},
          "execution_count": 5
        }
      ],
      "source": [
        "competition\n",
        "# You should see that there are no labels in this dataset. You'll have to predict them.\n",
        "# So this dataset can not be used to fit any classifier, just to make predictions with classifiers that you designed"
      ]
    },
    {
      "cell_type": "code",
      "execution_count": 6,
      "metadata": {
        "colab": {
          "base_uri": "https://localhost:8080/",
          "height": 283
        },
        "id": "2qk1_RLg1RV1",
        "outputId": "a3f97547-835a-46c8-9cb2-150e0cb59516"
      },
      "outputs": [
        {
          "output_type": "execute_result",
          "data": {
            "text/plain": [
              "<matplotlib.image.AxesImage at 0x7f39054cac70>"
            ]
          },
          "metadata": {},
          "execution_count": 6
        },
        {
          "output_type": "display_data",
          "data": {
            "text/plain": [
              "<Figure size 432x288 with 1 Axes>"
            ],
            "image/png": "[encoded data removed]"
          },
          "metadata": {
            "needs_background": "light"
          }
        }
      ],
      "source": [
        "# Here you can see the image 0 of the dataset\n",
        "idx = 0\n",
        "plt.imshow(dataset.iloc[idx,1:].to_numpy().reshape(32,32),cmap = 'Greys')\n",
        "# you can change the value of idx if you want to see another image"
      ]
    },
    {
      "cell_type": "code",
      "execution_count": 7,
      "metadata": {
        "colab": {
          "base_uri": "https://localhost:8080/",
          "height": 283
        },
        "id": "XQhyC0h01RV5",
        "outputId": "8d6c3f9a-db57-4e1c-f648-12a33cdba190"
      },
      "outputs": [
        {
          "output_type": "execute_result",
          "data": {
            "text/plain": [
              "<matplotlib.image.AxesImage at 0x7f3904bb8e80>"
            ]
          },
          "metadata": {},
          "execution_count": 7
        },
        {
          "output_type": "display_data",
          "data": {
            "text/plain": [
              "<Figure size 432x288 with 1 Axes>"
            ],
            "image/png": "[encoded data removed]"
          },
          "metadata": {
            "needs_background": "light"
          }
        }
      ],
      "source": [
        "# Same with the image 0 of competition\n",
        "idx = 0\n",
        "plt.imshow(competition.iloc[idx,:].to_numpy().reshape(32,32),cmap = 'Greys')"
      ]
    },
    {
      "cell_type": "markdown",
      "metadata": {
        "id": "VQS_B5Ui1RV8"
      },
      "source": [
        "# Part 1 : Analyse préliminaire du jeu de données"
      ]
    },
    {
      "cell_type": "markdown",
      "metadata": {
        "id": "ueuHdUoY1RV9"
      },
      "source": [
        "## Informations générales"
      ]
    },
    {
      "cell_type": "code",
      "execution_count": 8,
      "metadata": {
        "colab": {
          "base_uri": "https://localhost:8080/"
        },
        "id": "NxsPbHHZ1RV-",
        "outputId": "52e2913b-a138-41ea-feea-6a521a625bf3"
      },
      "outputs": [
        {
          "output_type": "stream",
          "name": "stdout",
          "text": [
            "<class 'pandas.core.frame.DataFrame'>\n",
            "Int64Index: 1700 entries, 1 to 1700\n",
            "Columns: 1025 entries, label to pixel1024\n",
            "dtypes: int64(1025)\n",
            "memory usage: 13.3 MB\n"
          ]
        }
      ],
      "source": [
        "dataset.info()"
      ]
    },
    {
      "cell_type": "code",
      "execution_count": 9,
      "metadata": {
        "colab": {
          "base_uri": "https://localhost:8080/",
          "height": 394
        },
        "id": "U32ACQ1v1RV_",
        "outputId": "539a3f5a-3fb2-44b5-9976-1311b89c6048"
      },
      "outputs": [
        {
          "output_type": "execute_result",
          "data": {
            "text/plain": [
              "             label  pixel1  pixel2  pixel3  pixel4  pixel5  pixel6  pixel7  \\\n",
              "count  1700.000000  1700.0  1700.0  1700.0  1700.0  1700.0  1700.0  1700.0   \n",
              "mean     11.017647     0.0     0.0     0.0     0.0     0.0     0.0     0.0   \n",
              "std       7.550554     0.0     0.0     0.0     0.0     0.0     0.0     0.0   \n",
              "min       1.000000     0.0     0.0     0.0     0.0     0.0     0.0     0.0   \n",
              "25%       2.000000     0.0     0.0     0.0     0.0     0.0     0.0     0.0   \n",
              "50%      12.000000     0.0     0.0     0.0     0.0     0.0     0.0     0.0   \n",
              "75%      18.000000     0.0     0.0     0.0     0.0     0.0     0.0     0.0   \n",
              "max      22.000000     0.0     0.0     0.0     0.0     0.0     0.0     0.0   \n",
              "\n",
              "       pixel8  pixel9  ...  pixel1015    pixel1016  pixel1017    pixel1018  \\\n",
              "count  1700.0  1700.0  ...     1700.0  1700.000000     1700.0  1700.000000   \n",
              "mean      0.0     0.0  ...        0.0     0.001176        0.0     0.001765   \n",
              "std       0.0     0.0  ...        0.0     0.034290        0.0     0.041984   \n",
              "min       0.0     0.0  ...        0.0     0.000000        0.0     0.000000   \n",
              "25%       0.0     0.0  ...        0.0     0.000000        0.0     0.000000   \n",
              "50%       0.0     0.0  ...        0.0     0.000000        0.0     0.000000   \n",
              "75%       0.0     0.0  ...        0.0     0.000000        0.0     0.000000   \n",
              "max       0.0     0.0  ...        0.0     1.000000        0.0     1.000000   \n",
              "\n",
              "         pixel1019    pixel1020    pixel1021    pixel1022    pixel1023  \\\n",
              "count  1700.000000  1700.000000  1700.000000  1700.000000  1700.000000   \n",
              "mean      0.002941     0.001176     0.000588     0.001176     0.002353   \n",
              "std       0.054169     0.034290     0.024254     0.034290     0.048464   \n",
              "min       0.000000     0.000000     0.000000     0.000000     0.000000   \n",
              "25%       0.000000     0.000000     0.000000     0.000000     0.000000   \n",
              "50%       0.000000     0.000000     0.000000     0.000000     0.000000   \n",
              "75%       0.000000     0.000000     0.000000     0.000000     0.000000   \n",
              "max       1.000000     1.000000     1.000000     1.000000     1.000000   \n",
              "\n",
              "         pixel1024  \n",
              "count  1700.000000  \n",
              "mean      0.002353  \n",
              "std       0.048464  \n",
              "min       0.000000  \n",
              "25%       0.000000  \n",
              "50%       0.000000  \n",
              "75%       0.000000  \n",
              "max       1.000000  \n",
              "\n",
              "[8 rows x 1025 columns]"
            ],
            "text/html": [
              "\n",
              "  <div id=\"df-9d4f56b6-308b-4eb6-a6c0-b91631e258e5\">\n",
              "    <div class=\"colab-df-container\">\n",
              "      <div>\n",
              "<style scoped>\n",
              "    .dataframe tbody tr th:only-of-type {\n",
              "        vertical-align: middle;\n",
              "    }\n",
              "\n",
              "    .dataframe tbody tr th {\n",
              "        vertical-align: top;\n",
              "    }\n",
              "\n",
              "    .dataframe thead th {\n",
              "        text-align: right;\n",
              "    }\n",
              "</style>\n",
              "<table border=\"1\" class=\"dataframe\">\n",
              "  <thead>\n",
              "    <tr style=\"text-align: right;\">\n",
              "      <th></th>\n",
              "      <th>label</th>\n",
              "      <th>pixel1</th>\n",
              "      <th>pixel2</th>\n",
              "      <th>pixel3</th>\n",
              "      <th>pixel4</th>\n",
              "      <th>pixel5</th>\n",
              "      <th>pixel6</th>\n",
              "      <th>pixel7</th>\n",
              "      <th>pixel8</th>\n",
              "      <th>pixel9</th>\n",
              "      <th>...</th>\n",
              "      <th>pixel1015</th>\n",
              "      <th>pixel1016</th>\n",
              "      <th>pixel1017</th>\n",
              "      <th>pixel1018</th>\n",
              "      <th>pixel1019</th>\n",
              "      <th>pixel1020</th>\n",
              "      <th>pixel1021</th>\n",
              "      <th>pixel1022</th>\n",
              "      <th>pixel1023</th>\n",
              "      <th>pixel1024</th>\n",
              "    </tr>\n",
              "  </thead>\n",
              "  <tbody>\n",
              "    <tr>\n",
              "      <th>count</th>\n",
              "      <td>1700.000000</td>\n",
              "      <td>1700.0</td>\n",
              "      <td>1700.0</td>\n",
              "      <td>1700.0</td>\n",
              "      <td>1700.0</td>\n",
              "      <td>1700.0</td>\n",
              "      <td>1700.0</td>\n",
              "      <td>1700.0</td>\n",
              "      <td>1700.0</td>\n",
              "      <td>1700.0</td>\n",
              "      <td>...</td>\n",
              "      <td>1700.0</td>\n",
              "      <td>1700.000000</td>\n",
              "      <td>1700.0</td>\n",
              "      <td>1700.000000</td>\n",
              "      <td>1700.000000</td>\n",
              "      <td>1700.000000</td>\n",
              "      <td>1700.000000</td>\n",
              "      <td>1700.000000</td>\n",
              "      <td>1700.000000</td>\n",
              "      <td>1700.000000</td>\n",
              "    </tr>\n",
              "    <tr>\n",
              "      <th>mean</th>\n",
              "      <td>11.017647</td>\n",
              "      <td>0.0</td>\n",
              "      <td>0.0</td>\n",
              "      <td>0.0</td>\n",
              "      <td>0.0</td>\n",
              "      <td>0.0</td>\n",
              "      <td>0.0</td>\n",
              "      <td>0.0</td>\n",
              "      <td>0.0</td>\n",
              "      <td>0.0</td>\n",
              "      <td>...</td>\n",
              "      <td>0.0</td>\n",
              "      <td>0.001176</td>\n",
              "      <td>0.0</td>\n",
              "      <td>0.001765</td>\n",
              "      <td>0.002941</td>\n",
              "      <td>0.001176</td>\n",
              "      <td>0.000588</td>\n",
              "      <td>0.001176</td>\n",
              "      <td>0.002353</td>\n",
              "      <td>0.002353</td>\n",
              "    </tr>\n",
              "    <tr>\n",
              "      <th>std</th>\n",
              "      <td>7.550554</td>\n",
              "      <td>0.0</td>\n",
              "      <td>0.0</td>\n",
              "      <td>0.0</td>\n",
              "      <td>0.0</td>\n",
              "      <td>0.0</td>\n",
              "      <td>0.0</td>\n",
              "      <td>0.0</td>\n",
              "      <td>0.0</td>\n",
              "      <td>0.0</td>\n",
              "      <td>...</td>\n",
              "      <td>0.0</td>\n",
              "      <td>0.034290</td>\n",
              "      <td>0.0</td>\n",
              "      <td>0.041984</td>\n",
              "      <td>0.054169</td>\n",
              "      <td>0.034290</td>\n",
              "      <td>0.024254</td>\n",
              "      <td>0.034290</td>\n",
              "      <td>0.048464</td>\n",
              "      <td>0.048464</td>\n",
              "    </tr>\n",
              "    <tr>\n",
              "      <th>min</th>\n",
              "      <td>1.000000</td>\n",
              "      <td>0.0</td>\n",
              "      <td>0.0</td>\n",
              "      <td>0.0</td>\n",
              "      <td>0.0</td>\n",
              "      <td>0.0</td>\n",
              "      <td>0.0</td>\n",
              "      <td>0.0</td>\n",
              "      <td>0.0</td>\n",
              "      <td>0.0</td>\n",
              "      <td>...</td>\n",
              "      <td>0.0</td>\n",
              "      <td>0.000000</td>\n",
              "      <td>0.0</td>\n",
              "      <td>0.000000</td>\n",
              "      <td>0.000000</td>\n",
              "      <td>0.000000</td>\n",
              "      <td>0.000000</td>\n",
              "      <td>0.000000</td>\n",
              "      <td>0.000000</td>\n",
              "      <td>0.000000</td>\n",
              "    </tr>\n",
              "    <tr>\n",
              "      <th>25%</th>\n",
              "      <td>2.000000</td>\n",
              "      <td>0.0</td>\n",
              "      <td>0.0</td>\n",
              "      <td>0.0</td>\n",
              "      <td>0.0</td>\n",
              "      <td>0.0</td>\n",
              "      <td>0.0</td>\n",
              "      <td>0.0</td>\n",
              "      <td>0.0</td>\n",
              "      <td>0.0</td>\n",
              "      <td>...</td>\n",
              "      <td>0.0</td>\n",
              "      <td>0.000000</td>\n",
              "      <td>0.0</td>\n",
              "      <td>0.000000</td>\n",
              "      <td>0.000000</td>\n",
              "      <td>0.000000</td>\n",
              "      <td>0.000000</td>\n",
              "      <td>0.000000</td>\n",
              "      <td>0.000000</td>\n",
              "      <td>0.000000</td>\n",
              "    </tr>\n",
              "    <tr>\n",
              "      <th>50%</th>\n",
              "      <td>12.000000</td>\n",
              "      <td>0.0</td>\n",
              "      <td>0.0</td>\n",
              "      <td>0.0</td>\n",
              "      <td>0.0</td>\n",
              "      <td>0.0</td>\n",
              "      <td>0.0</td>\n",
              "      <td>0.0</td>\n",
              "      <td>0.0</td>\n",
              "      <td>0.0</td>\n",
              "      <td>...</td>\n",
              "      <td>0.0</td>\n",
              "      <td>0.000000</td>\n",
              "      <td>0.0</td>\n",
              "      <td>0.000000</td>\n",
              "      <td>0.000000</td>\n",
              "      <td>0.000000</td>\n",
              "      <td>0.000000</td>\n",
              "      <td>0.000000</td>\n",
              "      <td>0.000000</td>\n",
              "      <td>0.000000</td>\n",
              "    </tr>\n",
              "    <tr>\n",
              "      <th>75%</th>\n",
              "      <td>18.000000</td>\n",
              "      <td>0.0</td>\n",
              "      <td>0.0</td>\n",
              "      <td>0.0</td>\n",
              "      <td>0.0</td>\n",
              "      <td>0.0</td>\n",
              "      <td>0.0</td>\n",
              "      <td>0.0</td>\n",
              "      <td>0.0</td>\n",
              "      <td>0.0</td>\n",
              "      <td>...</td>\n",
              "      <td>0.0</td>\n",
              "      <td>0.000000</td>\n",
              "      <td>0.0</td>\n",
              "      <td>0.000000</td>\n",
              "      <td>0.000000</td>\n",
              "      <td>0.000000</td>\n",
              "      <td>0.000000</td>\n",
              "      <td>0.000000</td>\n",
              "      <td>0.000000</td>\n",
              "      <td>0.000000</td>\n",
              "    </tr>\n",
              "    <tr>\n",
              "      <th>max</th>\n",
              "      <td>22.000000</td>\n",
              "      <td>0.0</td>\n",
              "      <td>0.0</td>\n",
              "      <td>0.0</td>\n",
              "      <td>0.0</td>\n",
              "      <td>0.0</td>\n",
              "      <td>0.0</td>\n",
              "      <td>0.0</td>\n",
              "      <td>0.0</td>\n",
              "      <td>0.0</td>\n",
              "      <td>...</td>\n",
              "      <td>0.0</td>\n",
              "      <td>1.000000</td>\n",
              "      <td>0.0</td>\n",
              "      <td>1.000000</td>\n",
              "      <td>1.000000</td>\n",
              "      <td>1.000000</td>\n",
              "      <td>1.000000</td>\n",
              "      <td>1.000000</td>\n",
              "      <td>1.000000</td>\n",
              "      <td>1.000000</td>\n",
              "    </tr>\n",
              "  </tbody>\n",
              "</table>\n",
              "<p>8 rows × 1025 columns</p>\n",
              "</div>\n",
              "      <button class=\"colab-df-convert\" onclick=\"convertToInteractive('df-9d4f56b6-308b-4eb6-a6c0-b91631e258e5')\"\n",
              "              title=\"Convert this dataframe to an interactive table.\"\n",
              "              style=\"display:none;\">\n",
              "        \n",
              "  <svg xmlns=\"http://www.w3.org/2000/svg\" height=\"24px\"viewBox=\"0 0 24 24\"\n",
              "       width=\"24px\">\n",
              "    <path d=\"M0 0h24v24H0V0z\" fill=\"none\"/>\n",
              "    <path d=\"M18.56 5.44l.94 2.06.94-2.06 2.06-.94-2.06-.94-.94-2.06-.94 2.06-2.06.94zm-11 1L8.5 8.5l.94-2.06 2.06-.94-2.06-.94L8.5 2.5l-.94 2.06-2.06.94zm10 10l.94 2.06.94-2.06 2.06-.94-2.06-.94-.94-2.06-.94 2.06-2.06.94z\"/><path d=\"M17.41 7.96l-1.37-1.37c-.4-.4-.92-.59-1.43-.59-.52 0-1.04.2-1.43.59L10.3 9.45l-7.72 7.72c-.78.78-.78 2.05 0 2.83L4 21.41c.39.39.9.59 1.41.59.51 0 1.02-.2 1.41-.59l7.78-7.78 2.81-2.81c.8-.78.8-2.07 0-2.86zM5.41 20L4 18.59l7.72-7.72 1.47 1.35L5.41 20z\"/>\n",
              "  </svg>\n",
              "      </button>\n",
              "      \n",
              "  <style>\n",
              "    .colab-df-container {\n",
              "      display:flex;\n",
              "      flex-wrap:wrap;\n",
              "      gap: 12px;\n",
              "    }\n",
              "\n",
              "    .colab-df-convert {\n",
              "      background-color: #E8F0FE;\n",
              "      border: none;\n",
              "      border-radius: 50%;\n",
              "      cursor: pointer;\n",
              "      display: none;\n",
              "      fill: #1967D2;\n",
              "      height: 32px;\n",
              "      padding: 0 0 0 0;\n",
              "      width: 32px;\n",
              "    }\n",
              "\n",
              "    .colab-df-convert:hover {\n",
              "      background-color: #E2EBFA;\n",
              "      box-shadow: 0px 1px 2px rgba(60, 64, 67, 0.3), 0px 1px 3px 1px rgba(60, 64, 67, 0.15);\n",
              "      fill: #174EA6;\n",
              "    }\n",
              "\n",
              "    [theme=dark] .colab-df-convert {\n",
              "      background-color: #3B4455;\n",
              "      fill: #D2E3FC;\n",
              "    }\n",
              "\n",
              "    [theme=dark] .colab-df-convert:hover {\n",
              "      background-color: #434B5C;\n",
              "      box-shadow: 0px 1px 3px 1px rgba(0, 0, 0, 0.15);\n",
              "      filter: drop-shadow(0px 1px 2px rgba(0, 0, 0, 0.3));\n",
              "      fill: #FFFFFF;\n",
              "    }\n",
              "  </style>\n",
              "\n",
              "      <script>\n",
              "        const buttonEl =\n",
              "          document.querySelector('#df-9d4f56b6-308b-4eb6-a6c0-b91631e258e5 button.colab-df-convert');\n",
              "        buttonEl.style.display =\n",
              "          google.colab.kernel.accessAllowed ? 'block' : 'none';\n",
              "\n",
              "        async function convertToInteractive(key) {\n",
              "          const element = document.querySelector('#df-9d4f56b6-308b-4eb6-a6c0-b91631e258e5');\n",
              "          const dataTable =\n",
              "            await google.colab.kernel.invokeFunction('convertToInteractive',\n",
              "                                                     [key], {});\n",
              "          if (!dataTable) return;\n",
              "\n",
              "          const docLinkHtml = 'Like what you see? Visit the ' +\n",
              "            '<a target=\"_blank\" href=https://colab.research.google.com/notebooks/data_table.ipynb>data table notebook</a>'\n",
              "            + ' to learn more about interactive tables.';\n",
              "          element.innerHTML = '';\n",
              "          dataTable['output_type'] = 'display_data';\n",
              "          await google.colab.output.renderOutput(dataTable, element);\n",
              "          const docLink = document.createElement('div');\n",
              "          docLink.innerHTML = docLinkHtml;\n",
              "          element.appendChild(docLink);\n",
              "        }\n",
              "      </script>\n",
              "    </div>\n",
              "  </div>\n",
              "  "
            ]
          },
          "metadata": {},
          "execution_count": 9
        }
      ],
      "source": [
        "dataset.describe()"
      ]
    },
    {
      "cell_type": "code",
      "execution_count": 10,
      "metadata": {
        "colab": {
          "base_uri": "https://localhost:8080/"
        },
        "id": "UzNXpPWy1RV_",
        "outputId": "8f223b9a-d983-4a66-8b06-c32a6e698266"
      },
      "outputs": [
        {
          "output_type": "execute_result",
          "data": {
            "text/plain": [
              "12    255\n",
              "6     250\n",
              "22    245\n",
              "18    241\n",
              "1     238\n",
              "2     238\n",
              "16    233\n",
              "Name: label, dtype: int64"
            ]
          },
          "metadata": {},
          "execution_count": 10
        }
      ],
      "source": [
        "dataset.label.value_counts()"
      ]
    },
    {
      "cell_type": "code",
      "source": [
        "plt.figure(figsize=(10, 6))\n",
        "dataset.label.hist(legend=True)\n",
        "plt.xlabel('Classe')\n",
        "plt.ylabel('Individus')\n",
        "plt.title('Distibutivité des classes')\n",
        "plt.show()"
      ],
      "metadata": {
        "colab": {
          "base_uri": "https://localhost:8080/",
          "height": 404
        },
        "id": "js9nhDKWM0lv",
        "outputId": "dc820b97-65fb-412e-b547-dc78a8847c74"
      },
      "execution_count": 11,
      "outputs": [
        {
          "output_type": "display_data",
          "data": {
            "text/plain": [
              "<Figure size 720x432 with 1 Axes>"
            ],
            "image/png": "[encoded data removed]"
          },
          "metadata": {
            "needs_background": "light"
          }
        }
      ]
    },
    {
      "cell_type": "markdown",
      "metadata": {
        "id": "rg6iv79w1RWA"
      },
      "source": [
        "Le jeu de données est constitué de 1700 individus sur 1025 colonnes de label, pixel1 jusqu'à pixel1024.\n",
        "Les features sont les colonnes nommées pixel1...pixel1024 et représentent les niveaux de gris de chaque pixel d'une image en niveaux de gris de la taille 32x32 et la variable cible est la colonne nommée label.\n",
        "La colonne label désigne la classe des individus. \n",
        "\n",
        "Il s'agit ici d'images de caractères de l'alphabet arabes. Le label désignant le numéro d'ordre du caractère dans l'alphabet arabe.\n",
        "\n",
        "Nous avons 7 caractères différents dans ce jeu de données : 1, 2, 6, 12, 16, 18, 22.\n",
        "\n",
        "Il s'agit donc d'un problème de classification multiclasse, où l'objectif est de prédire la classe (la lettre) à laquelle appartient chaque exemple en fonction des niveaux de gris de chaque pixel de l'image correspondante."
      ]
    },
    {
      "cell_type": "markdown",
      "metadata": {
        "id": "STzUoZRD1RWC"
      },
      "source": [
        "## Préparation du jeu de données"
      ]
    },
    {
      "cell_type": "markdown",
      "metadata": {
        "id": "PMRAe-pz1RWD"
      },
      "source": [
        "Divisons le jeu de données en apprentissage, validation et test."
      ]
    },
    {
      "cell_type": "code",
      "execution_count": 12,
      "metadata": {
        "id": "JgwADEgG1RWD"
      },
      "outputs": [],
      "source": [
        "data_train, data_valid_test = train_test_split(dataset, test_size = 0.3, random_state = 4)\n",
        "data_valid, data_test = train_test_split(data_valid_test, test_size = 0.5, random_state = 4)"
      ]
    },
    {
      "cell_type": "code",
      "execution_count": 13,
      "metadata": {
        "colab": {
          "base_uri": "https://localhost:8080/"
        },
        "id": "XgJPiWVE1RWI",
        "outputId": "69a9bb65-222c-4672-85dc-ab5bfcc9ec65"
      },
      "outputs": [
        {
          "output_type": "stream",
          "name": "stdout",
          "text": [
            "train set:(1190, 1025) ; test set:(255, 1025); validation set:(255, 1025)\n"
          ]
        }
      ],
      "source": [
        "print(f'train set:{data_train.shape} ; test set:{data_test.shape}; validation set:{data_valid.shape}')"
      ]
    },
    {
      "cell_type": "markdown",
      "metadata": {
        "id": "X2zn3i-N1RWI"
      },
      "source": [
        "Le jeu de données a été divisé en 1190 individus pour l'entrainement de nos modèles et en 255 pour chacun des jeu de validation et de test."
      ]
    },
    {
      "cell_type": "markdown",
      "metadata": {
        "id": "_RRInB791RWJ"
      },
      "source": [
        "# Part 2 : Classifiers based on raw images"
      ]
    },
    {
      "cell_type": "markdown",
      "metadata": {
        "id": "HwVz6hdS1RWJ"
      },
      "source": [
        "## Decision Tree Classifier"
      ]
    },
    {
      "cell_type": "markdown",
      "metadata": {
        "id": "WPMM0omp1RWK"
      },
      "source": [
        "L'arbre de décision est un modèle d'apprentissage automatique utilisé pour les problème de classification ou de régression. Il consiste à construire un arbre à partir de données d'entraînement en effectuant des séparations successives sur les variables au fur et à mesure qu'on descend dans l'arbre pour créer des sous-ensembles homogènes en termes de variable cible.\n",
        "La division se fait en se basant sur une fonction d'impureté comme l'indice de Gini ou l'entropie. L'arbre est construit en choisissant la division qui maximise la réduction de l'impureté ou le gain d'information. \n",
        "Les feuilles de l'arbre sont utilisées pour prédire la valeur de la variable cible pour de nouvelles observations."
      ]
    },
    {
      "cell_type": "markdown",
      "metadata": {
        "id": "0rsHP9ay1RWK"
      },
      "source": [
        "### Création du modèle"
      ]
    },
    {
      "cell_type": "code",
      "execution_count": 14,
      "metadata": {
        "id": "IhJhUFYF1RWL"
      },
      "outputs": [],
      "source": [
        "dt = DecisionTreeClassifier(random_state = 42).fit(data_train.iloc[:,1:], data_train.label)"
      ]
    },
    {
      "cell_type": "code",
      "execution_count": 15,
      "metadata": {
        "colab": {
          "base_uri": "https://localhost:8080/",
          "height": 520
        },
        "id": "gWxWglz-1RWL",
        "outputId": "c0d2f541-762f-49c2-a730-6ffdb692d105"
      },
      "outputs": [
        {
          "output_type": "display_data",
          "data": {
            "text/plain": [
              "<Figure size 1512x648 with 1 Axes>"
            ],
            "image/png": "[encoded data removed]"
          },
          "metadata": {
            "needs_background": "light"
          }
        }
      ],
      "source": [
        "plt.figure(figsize=(21, 9))\n",
        "plot_tree(dt, filled=True)\n",
        "plt.show()"
      ]
    },
    {
      "cell_type": "code",
      "execution_count": 16,
      "metadata": {
        "colab": {
          "base_uri": "https://localhost:8080/"
        },
        "id": "8Vc3-3yp1RWM",
        "outputId": "a6a04f0d-f1e4-4aa4-e955-982e86cd4d78"
      },
      "outputs": [
        {
          "output_type": "stream",
          "name": "stdout",
          "text": [
            "Profondeur de l'arbre : 28 ; Nombre de noeuds : 631 ; Nombre de feuilles : 316\n",
            "Impureté à la racine : 85.7% ; Impureté au dernier noeud : 0.0%\n"
          ]
        }
      ],
      "source": [
        "print(f'Profondeur de l\\'arbre : {dt.tree_.max_depth} ; Nombre de noeuds : {len(dt.tree_.impurity)} ; Nombre de feuilles : {dt.tree_.n_leaves}')\n",
        "print(f'Impureté à la racine : {round(dt.tree_.impurity[0], 3)*100}% ; Impureté au dernier noeud : {round(dt.tree_.impurity[len(dt.tree_.impurity)-1], 3)*100}%')"
      ]
    },
    {
      "cell_type": "markdown",
      "metadata": {
        "id": "4PkgOFHO1RWM"
      },
      "source": [
        "Profondeur de l'arbre : 28 ; Nombre de noeuds : 631 ; Nombre de feuilles : 316\n",
        "Impureté à la racine : 85.7% ; Impureté au dernier noeud : 0.0%"
      ]
    },
    {
      "cell_type": "code",
      "execution_count": 17,
      "metadata": {
        "colab": {
          "base_uri": "https://localhost:8080/"
        },
        "id": "oTJkky5D1RWN",
        "outputId": "8dd4ac76-ada5-4c98-8104-547c3e5512b2"
      },
      "outputs": [
        {
          "output_type": "execute_result",
          "data": {
            "text/plain": [
              "1.0"
            ]
          },
          "metadata": {},
          "execution_count": 17
        }
      ],
      "source": [
        "dt.score(data_train.iloc[:,1:], data_train.label)"
      ]
    },
    {
      "cell_type": "code",
      "execution_count": 18,
      "metadata": {
        "colab": {
          "base_uri": "https://localhost:8080/"
        },
        "id": "2hYqOdvP1RWN",
        "outputId": "95e2a58e-ab4c-4c0b-806d-5c1fc416f679"
      },
      "outputs": [
        {
          "output_type": "stream",
          "name": "stdout",
          "text": [
            "0.5372549019607843\n",
            "0.5098039215686274\n"
          ]
        }
      ],
      "source": [
        "print(dt.score(data_valid.iloc[:,1:], data_valid.label))\n",
        "print(dt.score(data_test.iloc[:,1:], data_test.label))"
      ]
    },
    {
      "cell_type": "markdown",
      "metadata": {
        "id": "-_NFY7_y1RWO"
      },
      "source": [
        "Le modèle fait un score (de précision) de 100% sur le jeu d'apprentissage alors qu'il ne fait que 53,72% sur le jeu de validation. Ceci montre que le modèle n'arrive pas à bien généraliser les connaissances apprises. Ceci peut être signe de surajustement (overfitting). C'est-à-dire que le modèle est trop complexe et ne s'adapte pas à de nouvelles données.\n"
      ]
    },
    {
      "cell_type": "markdown",
      "metadata": {
        "id": "0yF6s8sl1RWO"
      },
      "source": [
        "Nous allons tracer la courbe de complexité du modèle. C'est-à-dire tracer la performance du modèle sur l'ensemble d'entraînement et l'ensemble de validation en fonction de la complexité du modèle. \n",
        "La courbe de validation permet de visualiser l'évolution de la performance du modèle en fonction d'une hyper-paramètre spécifique (par exemple, la profondeur maximale de l'arbre de décision).\n",
        "Si la performance sur l'ensemble de validation atteint un seuil ou diminue alors que la performance sur l'ensemble d'entraînement continue d'augmenter, cela pourrait indiquer un sur-apprentissage.\n",
        "\n",
        "Pour cela nous utiliserons la fonction scikit-learn validation_curbe(). Nous allons utiliser la validation"
      ]
    },
    {
      "cell_type": "code",
      "execution_count": 19,
      "metadata": {
        "colab": {
          "base_uri": "https://localhost:8080/",
          "height": 404
        },
        "id": "UjJoy3hi1RWP",
        "outputId": "448777b8-5557-4661-c132-f1efbf227d4b"
      },
      "outputs": [
        {
          "output_type": "display_data",
          "data": {
            "text/plain": [
              "<Figure size 576x432 with 1 Axes>"
            ],
            "image/png": "[encoded data removed]"
          },
          "metadata": {
            "needs_background": "light"
          }
        }
      ],
      "source": [
        "tree = DecisionTreeClassifier(random_state = 42)\n",
        "param_range = np.arange(1, dt.tree_.max_depth+1)\n",
        "\n",
        "# Calculer les scores d'apprentissage et de validation pour chaque valeur de profondeur maximale\n",
        "train_scores, valid_scores = validation_curve(\n",
        "    tree, data_train.iloc[:,1:], data_train.label, param_name='max_depth', param_range=param_range, cv=5\n",
        ")\n",
        "\n",
        "# Calculer les moyennes et écarts-types des scores d'apprentissage et de validation pour chaque valeur de profondeur maximale\n",
        "train_mean = np.mean(train_scores, axis=1)\n",
        "train_std = np.std(train_scores, axis=1)\n",
        "valid_mean = np.mean(valid_scores, axis=1)\n",
        "valid_std = np.std(valid_scores, axis=1)\n",
        "\n",
        "# Tracer la courbe de complexité\n",
        "plt.figure(figsize=(8, 6))\n",
        "plt.plot(param_range, train_mean, label='Score d\\'apprentissage', color='blue', marker='o')\n",
        "plt.fill_between(param_range, train_mean - train_std, train_mean + train_std, alpha=0.15, color='blue')\n",
        "plt.plot(param_range, valid_mean, label='Score de Validation', color='green', marker='s')\n",
        "plt.fill_between(param_range, valid_mean - valid_std, valid_mean + valid_std, alpha=0.15, color='green')\n",
        "plt.title('Courbe de complexité du modèle')\n",
        "plt.xlabel('Profondeur Maximum')\n",
        "plt.ylabel('Score du modèle')\n",
        "plt.legend(loc='best')\n",
        "plt.show()"
      ]
    },
    {
      "cell_type": "markdown",
      "metadata": {
        "id": "-EhfouOv1RWP"
      },
      "source": [
        "Plus on descend en profondeur dans l'arbre, plus l'arbre sépare correctement les données d'apprentissage. Quant aux données de validation, le modèle a du mal à prédire correctement les classes des individus. La courbe stagne autour du score de 53%.\n",
        "De plus, avec 28 niveaux et 631 noeuds, le modèle est trop complexe (sur-apprentissage)."
      ]
    },
    {
      "cell_type": "markdown",
      "metadata": {
        "id": "l5QYp9fW1RWQ"
      },
      "source": [
        "### Amélioration du modèle"
      ]
    },
    {
      "cell_type": "markdown",
      "metadata": {
        "id": "JuP4r0fC1RWQ"
      },
      "source": [
        "Nous allons élaguer l'arbre en supprimant les noeuds qui ne permettent pas d'apporter une précision significative au modèle."
      ]
    },
    {
      "cell_type": "code",
      "execution_count": 20,
      "metadata": {
        "id": "CekP4Fnz1RWR"
      },
      "outputs": [],
      "source": [
        "tree = DecisionTreeClassifier(random_state = 42)\n",
        "path = tree.cost_complexity_pruning_path(data_train.iloc[:,1:], data_train.label)\n",
        "ccp_alphas, impurities = path.ccp_alphas, path.impurities"
      ]
    },
    {
      "cell_type": "markdown",
      "metadata": {
        "id": "sI0GruBj1RWU"
      },
      "source": [
        "Le paramètre ccp_alpha correspond à la pénalité appliquée pour reduire le nombre de noeuds."
      ]
    },
    {
      "cell_type": "code",
      "execution_count": 21,
      "metadata": {
        "id": "4vPz4gLy1RWV"
      },
      "outputs": [],
      "source": [
        "# Initialisation des scores\n",
        "train_scores, valid_scores = [], []\n",
        "\n",
        "# Entrainer et évaluer le modèle pour différentes valeurs de l'hyper-paramètre alpha (=complexité)\n",
        "for alpha in ccp_alphas:\n",
        "    dtc = DecisionTreeClassifier(ccp_alpha=alpha, random_state = 42)\n",
        "    dtc.fit(data_train.iloc[:,1:], data_train.label)\n",
        "    train_scores.append(dtc.score(data_train.iloc[:,1:], data_train.label))\n",
        "    valid_scores.append(dtc.score(data_valid.iloc[:,1:], data_valid.label))"
      ]
    },
    {
      "cell_type": "code",
      "execution_count": 22,
      "metadata": {
        "colab": {
          "base_uri": "https://localhost:8080/",
          "height": 431
        },
        "id": "HR68nijH1RWV",
        "outputId": "f60d0f97-9f8a-4b4c-ee94-68f174ddfee4"
      },
      "outputs": [
        {
          "output_type": "display_data",
          "data": {
            "text/plain": [
              "<Figure size 576x432 with 1 Axes>"
            ],
            "image/png": "[encoded data removed]"
          },
          "metadata": {
            "needs_background": "light"
          }
        }
      ],
      "source": [
        "# Tracé des impurités en fonction de ccp_alphas\n",
        "plt.figure(figsize=(8, 6))\n",
        "plt.plot(ccp_alphas, impurities, 'b-')\n",
        "plt.ylabel('Impurités', color='b')\n",
        "plt.xlabel('Alphas')\n",
        "plt.tick_params('y', colors='b')\n",
        "plt.suptitle('Impurités en fonction de alpha')\n",
        "\n",
        "plt.show()"
      ]
    },
    {
      "cell_type": "code",
      "execution_count": 23,
      "metadata": {
        "colab": {
          "base_uri": "https://localhost:8080/",
          "height": 404
        },
        "id": "SslET3M01RWW",
        "outputId": "22433859-b3cb-4f9b-9033-97868d95f67b"
      },
      "outputs": [
        {
          "output_type": "display_data",
          "data": {
            "text/plain": [
              "<Figure size 576x432 with 1 Axes>"
            ],
            "image/png": "[encoded data removed]"
          },
          "metadata": {
            "needs_background": "light"
          }
        }
      ],
      "source": [
        "# Les scores d'entrainement et de validation en fonction des valeurs de alpha\n",
        "max_score_index = valid_scores.index(max(valid_scores))\n",
        "plt.figure(figsize=(8, 6))\n",
        "plt.plot(ccp_alphas, train_scores, 'b-', label='Entrainement')\n",
        "plt.plot(ccp_alphas, valid_scores, 'r-', label='Validation')\n",
        "plt.xlabel('Alpha')\n",
        "plt.ylabel('Scores')\n",
        "plt.tick_params('y', colors='r')\n",
        "\n",
        "# Plot best validation score\n",
        "plt.plot(ccp_alphas[max_score_index], valid_scores[max_score_index], 'bo', label=f'Meilleure Score = {round(max(valid_scores), 3)} Alpha = {round(ccp_alphas[max_score_index], 5)}')\n",
        "\n",
        "# Add legends and title\n",
        "plt.legend(loc='best')\n",
        "plt.title('Les scores d\\'entrainement et de validation en fonction des valeurs de alpha')\n",
        "\n",
        "# Show the plot\n",
        "plt.show()"
      ]
    },
    {
      "cell_type": "markdown",
      "metadata": {
        "id": "-vEWjsn_1RWX"
      },
      "source": [
        "Une grande valeur de alpha a pour conséquence de réduire le nombre de noeuds et donc, d'ajouter l'impureté dans l'arbre de décision sur le jeu d'entrainement.\n",
        "Par contre, une valeur trop faible ne permet pas d'optimiser l'arbre.\n",
        "La valeur de alpha qui donne le meilleur score sur le jeu de validation (54,5%) est 0.00082."
      ]
    },
    {
      "cell_type": "code",
      "execution_count": 24,
      "metadata": {
        "colab": {
          "base_uri": "https://localhost:8080/"
        },
        "id": "4L2llU341RWY",
        "outputId": "80fcd443-8e27-4dfd-dea5-ef631928b3a1"
      },
      "outputs": [
        {
          "output_type": "stream",
          "name": "stdout",
          "text": [
            "Profondeur de l'arbre : 28 ; Nombre de noeuds : 611 ; Nombre de feuilles : 306\n",
            "Impureté à la racine : 85.7% ; Impureté au dernier noeud : 0.0%\n"
          ]
        }
      ],
      "source": [
        "dt_pruned = DecisionTreeClassifier(ccp_alpha=ccp_alphas[max_score_index], random_state = 42)\n",
        "dt_pruned.fit(data_train.iloc[:,1:], data_train.label)\n",
        "print(f'Profondeur de l\\'arbre : {dt_pruned.tree_.max_depth} ; Nombre de noeuds : {len(dt_pruned.tree_.impurity)} ; Nombre de feuilles : {dt_pruned.tree_.n_leaves}')\n",
        "print(f'Impureté à la racine : {round(dt_pruned.tree_.impurity[0], 3)*100}% ; Impureté au dernier noeud : {round(dt_pruned.tree_.impurity[len(dt_pruned.tree_.impurity)-1], 3)*100}%')"
      ]
    },
    {
      "cell_type": "markdown",
      "metadata": {
        "id": "icB0kRLM1RWZ"
      },
      "source": [
        "Le nombre de noeuds dans l'arbre a été reduit."
      ]
    },
    {
      "cell_type": "code",
      "execution_count": 25,
      "metadata": {
        "colab": {
          "base_uri": "https://localhost:8080/",
          "height": 1000
        },
        "id": "Edbm3Tsi1RWZ",
        "outputId": "be1a4003-50b4-4672-d212-2e5e6dc6b256"
      },
      "outputs": [
        {
          "output_type": "display_data",
          "data": {
            "text/plain": [
              "<Figure size 1512x1512 with 1 Axes>"
            ],
            "image/png": "[encoded data removed]"
          },
          "metadata": {
            "needs_background": "light"
          }
        }
      ],
      "source": [
        "plt.figure(figsize=(21, 21))\n",
        "plot_tree(dt_pruned, filled=True)\n",
        "plt.show()"
      ]
    },
    {
      "cell_type": "code",
      "execution_count": 26,
      "metadata": {
        "colab": {
          "base_uri": "https://localhost:8080/"
        },
        "id": "A_1Rsodp1RWa",
        "outputId": "00a13129-b817-4fe1-ce0a-ff2aafb3926a"
      },
      "outputs": [
        {
          "output_type": "stream",
          "name": "stdout",
          "text": [
            "0.9957983193277311\n",
            "0.5450980392156862\n"
          ]
        }
      ],
      "source": [
        "print(dt_pruned.score(data_train.iloc[:,1:], data_train.label))\n",
        "print(dt_pruned.score(data_valid.iloc[:,1:], data_valid.label))"
      ]
    },
    {
      "cell_type": "markdown",
      "metadata": {
        "id": "UtF8gYhD1RWb"
      },
      "source": [
        "L'élégage de l'arbre a eu pour effet d'ajouter de l'impureté dans les feuilles du jeu d'entrainement.\n",
        "Il y amélioration sur le score de validation = 54,50% sur le jeu de validation. C'est le plus haut score qu'on puisse obtenir avec l'arbre de décision.\n",
        "Quel est le score pour de nouvelles données ? Appliquons notre modèle sur le jeu de test."
      ]
    },
    {
      "cell_type": "code",
      "execution_count": 27,
      "metadata": {
        "colab": {
          "base_uri": "https://localhost:8080/"
        },
        "id": "SwtJ8GhO1RWn",
        "outputId": "7476c700-6aa1-4fbc-c669-ec37224cc401"
      },
      "outputs": [
        {
          "output_type": "stream",
          "name": "stdout",
          "text": [
            "0.5137254901960784\n"
          ]
        }
      ],
      "source": [
        "print(dt_pruned.score(data_test.iloc[:,1:], data_test.label))"
      ]
    },
    {
      "cell_type": "markdown",
      "metadata": {
        "id": "HOV3Nc-n1RWq"
      },
      "source": [
        "Le modèle amélioré fait une bonne prédiction 51,37% sur le jeu de tests."
      ]
    },
    {
      "cell_type": "markdown",
      "metadata": {
        "id": "nz7mlwCQ1RWr"
      },
      "source": [
        "### Soumission des résultats sur Kaggle"
      ]
    },
    {
      "cell_type": "code",
      "execution_count": 28,
      "metadata": {
        "colab": {
          "base_uri": "https://localhost:8080/"
        },
        "id": "MgXSvjvQ1RWr",
        "outputId": "2a00f021-90e7-446a-9f14-804b90270957"
      },
      "outputs": [
        {
          "output_type": "execute_result",
          "data": {
            "text/plain": [
              "array([22,  1, 12, 16, 16, 18,  6, 16, 18, 12,  2,  6,  6, 22, 18,  1,  1,\n",
              "        6, 18, 12, 22,  1, 18, 12,  2,  1, 16,  6, 22,  2, 18,  2,  6,  1,\n",
              "        1,  2,  1,  1,  1, 18, 22, 22,  6, 18,  2, 16,  6, 22, 18, 18,  6,\n",
              "        1, 16, 22, 18,  1, 22,  6, 12, 18,  2, 16, 22, 12, 18,  6,  2, 22,\n",
              "       12, 12, 18,  6, 22,  6, 18,  6,  2,  6,  1,  1, 16, 22, 22,  6, 22,\n",
              "       18,  1, 12, 22,  2,  2, 18, 22,  6, 22,  2,  1, 16,  2, 12, 16, 12,\n",
              "       16,  6, 16, 18, 22, 22, 18,  2, 22, 22,  2, 22, 12,  2, 16, 12,  1,\n",
              "       22,  1,  1, 22, 16, 12, 12,  1, 16,  6,  2,  6, 16, 18, 22,  6, 18,\n",
              "       18,  2,  1, 16,  6, 12, 16,  6,  2,  6,  6, 22, 12, 18, 18,  6,  1,\n",
              "        6, 16, 18,  6, 16,  2, 12,  1, 16,  1,  6, 16, 22,  6, 12,  1, 18,\n",
              "        6,  2,  2, 16, 16, 16, 22,  6,  2,  6,  6, 22,  1, 18, 12,  2, 22,\n",
              "        1, 18, 16, 18,  1,  1, 16,  6,  6, 18,  1,  2,  2,  1, 18, 12,  6,\n",
              "        2,  6,  1,  1, 12, 16,  2, 18,  1, 18, 12, 18, 18,  1, 12,  2,  1,\n",
              "        1,  6, 12, 22,  2,  1,  1, 12,  6,  6, 16,  2,  6, 18,  6,  2,  1,\n",
              "        6, 16,  2, 12, 16, 18,  6, 16, 22, 18,  6, 22, 22, 18,  1, 22, 18,\n",
              "       12, 12,  2, 16, 18, 22,  1,  6,  6,  6,  2,  6, 18,  2, 18,  6,  2,\n",
              "       22,  2, 18, 18,  6, 22,  6, 12, 12,  2, 12,  6,  2, 22, 12, 18,  1,\n",
              "        6,  2,  2, 22, 16, 22, 18, 18, 12, 22, 12, 22,  6,  6,  1, 16,  6,\n",
              "       16, 12,  2, 16, 16,  6,  1,  1,  6, 22, 12, 16, 22, 16,  1, 18, 12,\n",
              "       16, 22,  6, 18,  2,  2,  2, 16,  6, 16,  1,  1,  1,  1,  2,  6, 18,\n",
              "       16,  1, 12, 12, 18, 18, 12,  1, 12, 22,  6,  2,  1, 12, 22, 12, 18,\n",
              "        2, 12, 22, 12, 12,  2,  2,  1,  2,  1,  2, 12, 16,  1, 12, 16,  1,\n",
              "        2, 18,  1,  1,  1, 22,  1,  1, 18, 22, 12,  1, 12, 16,  6,  2,  6,\n",
              "       16,  2, 22, 18, 16, 22, 12, 12, 18,  6,  2,  6,  1,  2, 18,  1, 22,\n",
              "        2, 16,  1,  6, 16, 22,  1, 18, 12,  6, 12, 22,  2, 16,  6, 16,  2,\n",
              "        6,  6, 22, 12, 18, 18, 12, 12,  6, 22,  2, 16,  2,  6,  6,  6,  6,\n",
              "       18, 12,  6, 16,  6, 16,  6, 18,  6,  1, 22, 12, 12, 12,  6, 16,  6,\n",
              "       12, 18, 18, 16,  1,  1,  2, 22, 12, 16, 18, 16,  1, 12,  6,  1, 18,\n",
              "       16, 18,  2,  2,  1,  2,  1, 12,  1, 18, 22,  6, 16,  6,  1, 12,  2,\n",
              "        1, 22,  2, 16, 18, 22, 12])"
            ]
          },
          "metadata": {},
          "execution_count": 28
        }
      ],
      "source": [
        "# Prédiction du modèle dt_pruned sur la dataset competition\n",
        "pred = dt_pruned.predict(competition.iloc[:,:])\n",
        "pred"
      ]
    },
    {
      "cell_type": "code",
      "execution_count": 29,
      "metadata": {
        "colab": {
          "base_uri": "https://localhost:8080/",
          "height": 424
        },
        "id": "gbhqy4aw1RW0",
        "outputId": "b8337058-df1e-4e29-a8ff-017af2faafca"
      },
      "outputs": [
        {
          "output_type": "execute_result",
          "data": {
            "text/plain": [
              "      Id  label\n",
              "0      1     22\n",
              "1      2      1\n",
              "2      3     12\n",
              "3      4     16\n",
              "4      5     16\n",
              "..   ...    ...\n",
              "495  496      2\n",
              "496  497     16\n",
              "497  498     18\n",
              "498  499     22\n",
              "499  500     12\n",
              "\n",
              "[500 rows x 2 columns]"
            ],
            "text/html": [
              "\n",
              "  <div id=\"df-894712e2-7006-483b-974e-35ce133217db\">\n",
              "    <div class=\"colab-df-container\">\n",
              "      <div>\n",
              "<style scoped>\n",
              "    .dataframe tbody tr th:only-of-type {\n",
              "        vertical-align: middle;\n",
              "    }\n",
              "\n",
              "    .dataframe tbody tr th {\n",
              "        vertical-align: top;\n",
              "    }\n",
              "\n",
              "    .dataframe thead th {\n",
              "        text-align: right;\n",
              "    }\n",
              "</style>\n",
              "<table border=\"1\" class=\"dataframe\">\n",
              "  <thead>\n",
              "    <tr style=\"text-align: right;\">\n",
              "      <th></th>\n",
              "      <th>Id</th>\n",
              "      <th>label</th>\n",
              "    </tr>\n",
              "  </thead>\n",
              "  <tbody>\n",
              "    <tr>\n",
              "      <th>0</th>\n",
              "      <td>1</td>\n",
              "      <td>22</td>\n",
              "    </tr>\n",
              "    <tr>\n",
              "      <th>1</th>\n",
              "      <td>2</td>\n",
              "      <td>1</td>\n",
              "    </tr>\n",
              "    <tr>\n",
              "      <th>2</th>\n",
              "      <td>3</td>\n",
              "      <td>12</td>\n",
              "    </tr>\n",
              "    <tr>\n",
              "      <th>3</th>\n",
              "      <td>4</td>\n",
              "      <td>16</td>\n",
              "    </tr>\n",
              "    <tr>\n",
              "      <th>4</th>\n",
              "      <td>5</td>\n",
              "      <td>16</td>\n",
              "    </tr>\n",
              "    <tr>\n",
              "      <th>...</th>\n",
              "      <td>...</td>\n",
              "      <td>...</td>\n",
              "    </tr>\n",
              "    <tr>\n",
              "      <th>495</th>\n",
              "      <td>496</td>\n",
              "      <td>2</td>\n",
              "    </tr>\n",
              "    <tr>\n",
              "      <th>496</th>\n",
              "      <td>497</td>\n",
              "      <td>16</td>\n",
              "    </tr>\n",
              "    <tr>\n",
              "      <th>497</th>\n",
              "      <td>498</td>\n",
              "      <td>18</td>\n",
              "    </tr>\n",
              "    <tr>\n",
              "      <th>498</th>\n",
              "      <td>499</td>\n",
              "      <td>22</td>\n",
              "    </tr>\n",
              "    <tr>\n",
              "      <th>499</th>\n",
              "      <td>500</td>\n",
              "      <td>12</td>\n",
              "    </tr>\n",
              "  </tbody>\n",
              "</table>\n",
              "<p>500 rows × 2 columns</p>\n",
              "</div>\n",
              "      <button class=\"colab-df-convert\" onclick=\"convertToInteractive('df-894712e2-7006-483b-974e-35ce133217db')\"\n",
              "              title=\"Convert this dataframe to an interactive table.\"\n",
              "              style=\"display:none;\">\n",
              "        \n",
              "  <svg xmlns=\"http://www.w3.org/2000/svg\" height=\"24px\"viewBox=\"0 0 24 24\"\n",
              "       width=\"24px\">\n",
              "    <path d=\"M0 0h24v24H0V0z\" fill=\"none\"/>\n",
              "    <path d=\"M18.56 5.44l.94 2.06.94-2.06 2.06-.94-2.06-.94-.94-2.06-.94 2.06-2.06.94zm-11 1L8.5 8.5l.94-2.06 2.06-.94-2.06-.94L8.5 2.5l-.94 2.06-2.06.94zm10 10l.94 2.06.94-2.06 2.06-.94-2.06-.94-.94-2.06-.94 2.06-2.06.94z\"/><path d=\"M17.41 7.96l-1.37-1.37c-.4-.4-.92-.59-1.43-.59-.52 0-1.04.2-1.43.59L10.3 9.45l-7.72 7.72c-.78.78-.78 2.05 0 2.83L4 21.41c.39.39.9.59 1.41.59.51 0 1.02-.2 1.41-.59l7.78-7.78 2.81-2.81c.8-.78.8-2.07 0-2.86zM5.41 20L4 18.59l7.72-7.72 1.47 1.35L5.41 20z\"/>\n",
              "  </svg>\n",
              "      </button>\n",
              "      \n",
              "  <style>\n",
              "    .colab-df-container {\n",
              "      display:flex;\n",
              "      flex-wrap:wrap;\n",
              "      gap: 12px;\n",
              "    }\n",
              "\n",
              "    .colab-df-convert {\n",
              "      background-color: #E8F0FE;\n",
              "      border: none;\n",
              "      border-radius: 50%;\n",
              "      cursor: pointer;\n",
              "      display: none;\n",
              "      fill: #1967D2;\n",
              "      height: 32px;\n",
              "      padding: 0 0 0 0;\n",
              "      width: 32px;\n",
              "    }\n",
              "\n",
              "    .colab-df-convert:hover {\n",
              "      background-color: #E2EBFA;\n",
              "      box-shadow: 0px 1px 2px rgba(60, 64, 67, 0.3), 0px 1px 3px 1px rgba(60, 64, 67, 0.15);\n",
              "      fill: #174EA6;\n",
              "    }\n",
              "\n",
              "    [theme=dark] .colab-df-convert {\n",
              "      background-color: #3B4455;\n",
              "      fill: #D2E3FC;\n",
              "    }\n",
              "\n",
              "    [theme=dark] .colab-df-convert:hover {\n",
              "      background-color: #434B5C;\n",
              "      box-shadow: 0px 1px 3px 1px rgba(0, 0, 0, 0.15);\n",
              "      filter: drop-shadow(0px 1px 2px rgba(0, 0, 0, 0.3));\n",
              "      fill: #FFFFFF;\n",
              "    }\n",
              "  </style>\n",
              "\n",
              "      <script>\n",
              "        const buttonEl =\n",
              "          document.querySelector('#df-894712e2-7006-483b-974e-35ce133217db button.colab-df-convert');\n",
              "        buttonEl.style.display =\n",
              "          google.colab.kernel.accessAllowed ? 'block' : 'none';\n",
              "\n",
              "        async function convertToInteractive(key) {\n",
              "          const element = document.querySelector('#df-894712e2-7006-483b-974e-35ce133217db');\n",
              "          const dataTable =\n",
              "            await google.colab.kernel.invokeFunction('convertToInteractive',\n",
              "                                                     [key], {});\n",
              "          if (!dataTable) return;\n",
              "\n",
              "          const docLinkHtml = 'Like what you see? Visit the ' +\n",
              "            '<a target=\"_blank\" href=https://colab.research.google.com/notebooks/data_table.ipynb>data table notebook</a>'\n",
              "            + ' to learn more about interactive tables.';\n",
              "          element.innerHTML = '';\n",
              "          dataTable['output_type'] = 'display_data';\n",
              "          await google.colab.output.renderOutput(dataTable, element);\n",
              "          const docLink = document.createElement('div');\n",
              "          docLink.innerHTML = docLinkHtml;\n",
              "          element.appendChild(docLink);\n",
              "        }\n",
              "      </script>\n",
              "    </div>\n",
              "  </div>\n",
              "  "
            ]
          },
          "metadata": {},
          "execution_count": 29
        }
      ],
      "source": [
        "# we put this predictions in a DataFrame with the right format expected by kaggle\n",
        "df = pd.DataFrame(np.arange(1,501), columns=['Id'])\n",
        "df['label'] = pred\n",
        "df"
      ]
    },
    {
      "cell_type": "code",
      "execution_count": 30,
      "metadata": {
        "id": "rHBtmedH1RW1"
      },
      "outputs": [],
      "source": [
        "df.to_csv('decision_tree_on_competition.csv', index=False)"
      ]
    },
    {
      "cell_type": "markdown",
      "metadata": {
        "id": "RJbP7n_V1RW2"
      },
      "source": [
        "## SVM"
      ]
    },
    {
      "cell_type": "markdown",
      "metadata": {
        "id": "Cf1y42Sd1RW3"
      },
      "source": [
        "Les SVM (Support Vector Machine) ou \"classifieus à vaste marge\" sont une méthode d'apprentissage supervisé utilisée pour la classification et la régression.\n",
        "Ils peuvent être utilisés pour résoudre des problèmes de classification binaires et multiclasse.\n",
        "Le principe des SVM est de trouver l'hyperplan qui maximise la marge entre les données et les sépare en deux classes distinctes.\n",
        "\n",
        "\n",
        "Si les données ne peuvent pas être séparées linéairement, les SVM utilisent une technique appelée noyau (kernel) pour projeter les données dans un espace de dimension supérieure où une séparation linéaire est possible.\n",
        "Les noyaux les plus couramment utilisés sont : le noyau linéaire, le noyau polynômial et le noyau gaussien (RBF).\n",
        "\n",
        "- Le noyau linéaire est utilisé lorsque les données sont linéairement séparables.\n",
        "- Le noyau polynômial est utilisé lorsque les données ne sont pas linéairement séparables et peuvent être transformées en une dimension supérieure.\n",
        "- Le noyau gaussien (RBF) est utilisé lorsque les données ne sont pas linéairement séparables et nécessitent une transformation non linéaire.\n",
        "\n",
        "D'autres paramètres sont également importants :\n",
        "- Le paramètre C contrôle le trade-off entre la maximisation de la marge et la minimisation de l'erreur de classification. Une valeur de C élevée donne une marge plus étroite, ce qui peut entraîner du surajustement, tandis qu'une valeur de C faible donne une marge plus large, ce qui peut entraîner une mauvaise généralisation.\n",
        "- Le paramètre gamma est utilisé pour régler la courbure du noyau gaussien et contrôler la complexité du modèle."
      ]
    },
    {
      "cell_type": "markdown",
      "metadata": {
        "id": "U-HSIkWy1RW4"
      },
      "source": [
        "### Mise à l'écchelle des variables"
      ]
    },
    {
      "cell_type": "markdown",
      "metadata": {
        "id": "FAp0b8nV1RW4"
      },
      "source": [
        "Sur ce type de classifieur, il peut être utile de mettre à l'échelle les données. C'est une transformation qui va centrer et reduire les données. Cela évite que les variables aient des variances trop fortes par rapport à d'autres. Dans le cas contraire, cela peut conduire à des problèmes de convergence du modèle, à une sensibilité accrue aux valeurs aberrantes et à une performance globale inférieure du modèle."
      ]
    },
    {
      "cell_type": "code",
      "execution_count": 31,
      "metadata": {
        "colab": {
          "base_uri": "https://localhost:8080/",
          "height": 488
        },
        "id": "0OtXfv4G1RW5",
        "outputId": "a28b4b60-5fa1-4287-afe0-61634ebeee9f"
      },
      "outputs": [
        {
          "output_type": "execute_result",
          "data": {
            "text/plain": [
              "      pixel1  pixel2  pixel3  pixel4  pixel5  pixel6  pixel7  pixel8  pixel9  \\\n",
              "0        0.0     0.0     0.0     0.0     0.0     0.0     0.0     0.0     0.0   \n",
              "1        0.0     0.0     0.0     0.0     0.0     0.0     0.0     0.0     0.0   \n",
              "2        0.0     0.0     0.0     0.0     0.0     0.0     0.0     0.0     0.0   \n",
              "3        0.0     0.0     0.0     0.0     0.0     0.0     0.0     0.0     0.0   \n",
              "4        0.0     0.0     0.0     0.0     0.0     0.0     0.0     0.0     0.0   \n",
              "...      ...     ...     ...     ...     ...     ...     ...     ...     ...   \n",
              "1185     0.0     0.0     0.0     0.0     0.0     0.0     0.0     0.0     0.0   \n",
              "1186     0.0     0.0     0.0     0.0     0.0     0.0     0.0     0.0     0.0   \n",
              "1187     0.0     0.0     0.0     0.0     0.0     0.0     0.0     0.0     0.0   \n",
              "1188     0.0     0.0     0.0     0.0     0.0     0.0     0.0     0.0     0.0   \n",
              "1189     0.0     0.0     0.0     0.0     0.0     0.0     0.0     0.0     0.0   \n",
              "\n",
              "       pixel10  ...  pixel1015  pixel1016  pixel1017  pixel1018  pixel1019  \\\n",
              "0    -0.029001  ...        0.0   -0.04103        0.0   -0.04103  -0.050273   \n",
              "1    -0.029001  ...        0.0   -0.04103        0.0   -0.04103  -0.050273   \n",
              "2    -0.029001  ...        0.0   -0.04103        0.0   -0.04103  -0.050273   \n",
              "3    -0.029001  ...        0.0   -0.04103        0.0   -0.04103  -0.050273   \n",
              "4    -0.029001  ...        0.0   -0.04103        0.0   -0.04103  -0.050273   \n",
              "...        ...  ...        ...        ...        ...        ...        ...   \n",
              "1185 -0.029001  ...        0.0   -0.04103        0.0   -0.04103  -0.050273   \n",
              "1186 -0.029001  ...        0.0   -0.04103        0.0   -0.04103  -0.050273   \n",
              "1187 -0.029001  ...        0.0   -0.04103        0.0   -0.04103  -0.050273   \n",
              "1188 -0.029001  ...        0.0   -0.04103        0.0   -0.04103  -0.050273   \n",
              "1189 -0.029001  ...        0.0   -0.04103        0.0   -0.04103  -0.050273   \n",
              "\n",
              "      pixel1020  pixel1021  pixel1022  pixel1023  pixel1024  \n",
              "0      -0.04103        0.0        0.0        0.0   -0.04103  \n",
              "1      -0.04103        0.0        0.0        0.0   -0.04103  \n",
              "2      -0.04103        0.0        0.0        0.0   -0.04103  \n",
              "3      -0.04103        0.0        0.0        0.0   -0.04103  \n",
              "4      -0.04103        0.0        0.0        0.0   -0.04103  \n",
              "...         ...        ...        ...        ...        ...  \n",
              "1185   -0.04103        0.0        0.0        0.0   -0.04103  \n",
              "1186   -0.04103        0.0        0.0        0.0   -0.04103  \n",
              "1187   -0.04103        0.0        0.0        0.0   -0.04103  \n",
              "1188   -0.04103        0.0        0.0        0.0   -0.04103  \n",
              "1189   -0.04103        0.0        0.0        0.0   -0.04103  \n",
              "\n",
              "[1190 rows x 1024 columns]"
            ],
            "text/html": [
              "\n",
              "  <div id=\"df-11007b7a-d077-415e-85d1-6177c10ddaa0\">\n",
              "    <div class=\"colab-df-container\">\n",
              "      <div>\n",
              "<style scoped>\n",
              "    .dataframe tbody tr th:only-of-type {\n",
              "        vertical-align: middle;\n",
              "    }\n",
              "\n",
              "    .dataframe tbody tr th {\n",
              "        vertical-align: top;\n",
              "    }\n",
              "\n",
              "    .dataframe thead th {\n",
              "        text-align: right;\n",
              "    }\n",
              "</style>\n",
              "<table border=\"1\" class=\"dataframe\">\n",
              "  <thead>\n",
              "    <tr style=\"text-align: right;\">\n",
              "      <th></th>\n",
              "      <th>pixel1</th>\n",
              "      <th>pixel2</th>\n",
              "      <th>pixel3</th>\n",
              "      <th>pixel4</th>\n",
              "      <th>pixel5</th>\n",
              "      <th>pixel6</th>\n",
              "      <th>pixel7</th>\n",
              "      <th>pixel8</th>\n",
              "      <th>pixel9</th>\n",
              "      <th>pixel10</th>\n",
              "      <th>...</th>\n",
              "      <th>pixel1015</th>\n",
              "      <th>pixel1016</th>\n",
              "      <th>pixel1017</th>\n",
              "      <th>pixel1018</th>\n",
              "      <th>pixel1019</th>\n",
              "      <th>pixel1020</th>\n",
              "      <th>pixel1021</th>\n",
              "      <th>pixel1022</th>\n",
              "      <th>pixel1023</th>\n",
              "      <th>pixel1024</th>\n",
              "    </tr>\n",
              "  </thead>\n",
              "  <tbody>\n",
              "    <tr>\n",
              "      <th>0</th>\n",
              "      <td>0.0</td>\n",
              "      <td>0.0</td>\n",
              "      <td>0.0</td>\n",
              "      <td>0.0</td>\n",
              "      <td>0.0</td>\n",
              "      <td>0.0</td>\n",
              "      <td>0.0</td>\n",
              "      <td>0.0</td>\n",
              "      <td>0.0</td>\n",
              "      <td>-0.029001</td>\n",
              "      <td>...</td>\n",
              "      <td>0.0</td>\n",
              "      <td>-0.04103</td>\n",
              "      <td>0.0</td>\n",
              "      <td>-0.04103</td>\n",
              "      <td>-0.050273</td>\n",
              "      <td>-0.04103</td>\n",
              "      <td>0.0</td>\n",
              "      <td>0.0</td>\n",
              "      <td>0.0</td>\n",
              "      <td>-0.04103</td>\n",
              "    </tr>\n",
              "    <tr>\n",
              "      <th>1</th>\n",
              "      <td>0.0</td>\n",
              "      <td>0.0</td>\n",
              "      <td>0.0</td>\n",
              "      <td>0.0</td>\n",
              "      <td>0.0</td>\n",
              "      <td>0.0</td>\n",
              "      <td>0.0</td>\n",
              "      <td>0.0</td>\n",
              "      <td>0.0</td>\n",
              "      <td>-0.029001</td>\n",
              "      <td>...</td>\n",
              "      <td>0.0</td>\n",
              "      <td>-0.04103</td>\n",
              "      <td>0.0</td>\n",
              "      <td>-0.04103</td>\n",
              "      <td>-0.050273</td>\n",
              "      <td>-0.04103</td>\n",
              "      <td>0.0</td>\n",
              "      <td>0.0</td>\n",
              "      <td>0.0</td>\n",
              "      <td>-0.04103</td>\n",
              "    </tr>\n",
              "    <tr>\n",
              "      <th>2</th>\n",
              "      <td>0.0</td>\n",
              "      <td>0.0</td>\n",
              "      <td>0.0</td>\n",
              "      <td>0.0</td>\n",
              "      <td>0.0</td>\n",
              "      <td>0.0</td>\n",
              "      <td>0.0</td>\n",
              "      <td>0.0</td>\n",
              "      <td>0.0</td>\n",
              "      <td>-0.029001</td>\n",
              "      <td>...</td>\n",
              "      <td>0.0</td>\n",
              "      <td>-0.04103</td>\n",
              "      <td>0.0</td>\n",
              "      <td>-0.04103</td>\n",
              "      <td>-0.050273</td>\n",
              "      <td>-0.04103</td>\n",
              "      <td>0.0</td>\n",
              "      <td>0.0</td>\n",
              "      <td>0.0</td>\n",
              "      <td>-0.04103</td>\n",
              "    </tr>\n",
              "    <tr>\n",
              "      <th>3</th>\n",
              "      <td>0.0</td>\n",
              "      <td>0.0</td>\n",
              "      <td>0.0</td>\n",
              "      <td>0.0</td>\n",
              "      <td>0.0</td>\n",
              "      <td>0.0</td>\n",
              "      <td>0.0</td>\n",
              "      <td>0.0</td>\n",
              "      <td>0.0</td>\n",
              "      <td>-0.029001</td>\n",
              "      <td>...</td>\n",
              "      <td>0.0</td>\n",
              "      <td>-0.04103</td>\n",
              "      <td>0.0</td>\n",
              "      <td>-0.04103</td>\n",
              "      <td>-0.050273</td>\n",
              "      <td>-0.04103</td>\n",
              "      <td>0.0</td>\n",
              "      <td>0.0</td>\n",
              "      <td>0.0</td>\n",
              "      <td>-0.04103</td>\n",
              "    </tr>\n",
              "    <tr>\n",
              "      <th>4</th>\n",
              "      <td>0.0</td>\n",
              "      <td>0.0</td>\n",
              "      <td>0.0</td>\n",
              "      <td>0.0</td>\n",
              "      <td>0.0</td>\n",
              "      <td>0.0</td>\n",
              "      <td>0.0</td>\n",
              "      <td>0.0</td>\n",
              "      <td>0.0</td>\n",
              "      <td>-0.029001</td>\n",
              "      <td>...</td>\n",
              "      <td>0.0</td>\n",
              "      <td>-0.04103</td>\n",
              "      <td>0.0</td>\n",
              "      <td>-0.04103</td>\n",
              "      <td>-0.050273</td>\n",
              "      <td>-0.04103</td>\n",
              "      <td>0.0</td>\n",
              "      <td>0.0</td>\n",
              "      <td>0.0</td>\n",
              "      <td>-0.04103</td>\n",
              "    </tr>\n",
              "    <tr>\n",
              "      <th>...</th>\n",
              "      <td>...</td>\n",
              "      <td>...</td>\n",
              "      <td>...</td>\n",
              "      <td>...</td>\n",
              "      <td>...</td>\n",
              "      <td>...</td>\n",
              "      <td>...</td>\n",
              "      <td>...</td>\n",
              "      <td>...</td>\n",
              "      <td>...</td>\n",
              "      <td>...</td>\n",
              "      <td>...</td>\n",
              "      <td>...</td>\n",
              "      <td>...</td>\n",
              "      <td>...</td>\n",
              "      <td>...</td>\n",
              "      <td>...</td>\n",
              "      <td>...</td>\n",
              "      <td>...</td>\n",
              "      <td>...</td>\n",
              "      <td>...</td>\n",
              "    </tr>\n",
              "    <tr>\n",
              "      <th>1185</th>\n",
              "      <td>0.0</td>\n",
              "      <td>0.0</td>\n",
              "      <td>0.0</td>\n",
              "      <td>0.0</td>\n",
              "      <td>0.0</td>\n",
              "      <td>0.0</td>\n",
              "      <td>0.0</td>\n",
              "      <td>0.0</td>\n",
              "      <td>0.0</td>\n",
              "      <td>-0.029001</td>\n",
              "      <td>...</td>\n",
              "      <td>0.0</td>\n",
              "      <td>-0.04103</td>\n",
              "      <td>0.0</td>\n",
              "      <td>-0.04103</td>\n",
              "      <td>-0.050273</td>\n",
              "      <td>-0.04103</td>\n",
              "      <td>0.0</td>\n",
              "      <td>0.0</td>\n",
              "      <td>0.0</td>\n",
              "      <td>-0.04103</td>\n",
              "    </tr>\n",
              "    <tr>\n",
              "      <th>1186</th>\n",
              "      <td>0.0</td>\n",
              "      <td>0.0</td>\n",
              "      <td>0.0</td>\n",
              "      <td>0.0</td>\n",
              "      <td>0.0</td>\n",
              "      <td>0.0</td>\n",
              "      <td>0.0</td>\n",
              "      <td>0.0</td>\n",
              "      <td>0.0</td>\n",
              "      <td>-0.029001</td>\n",
              "      <td>...</td>\n",
              "      <td>0.0</td>\n",
              "      <td>-0.04103</td>\n",
              "      <td>0.0</td>\n",
              "      <td>-0.04103</td>\n",
              "      <td>-0.050273</td>\n",
              "      <td>-0.04103</td>\n",
              "      <td>0.0</td>\n",
              "      <td>0.0</td>\n",
              "      <td>0.0</td>\n",
              "      <td>-0.04103</td>\n",
              "    </tr>\n",
              "    <tr>\n",
              "      <th>1187</th>\n",
              "      <td>0.0</td>\n",
              "      <td>0.0</td>\n",
              "      <td>0.0</td>\n",
              "      <td>0.0</td>\n",
              "      <td>0.0</td>\n",
              "      <td>0.0</td>\n",
              "      <td>0.0</td>\n",
              "      <td>0.0</td>\n",
              "      <td>0.0</td>\n",
              "      <td>-0.029001</td>\n",
              "      <td>...</td>\n",
              "      <td>0.0</td>\n",
              "      <td>-0.04103</td>\n",
              "      <td>0.0</td>\n",
              "      <td>-0.04103</td>\n",
              "      <td>-0.050273</td>\n",
              "      <td>-0.04103</td>\n",
              "      <td>0.0</td>\n",
              "      <td>0.0</td>\n",
              "      <td>0.0</td>\n",
              "      <td>-0.04103</td>\n",
              "    </tr>\n",
              "    <tr>\n",
              "      <th>1188</th>\n",
              "      <td>0.0</td>\n",
              "      <td>0.0</td>\n",
              "      <td>0.0</td>\n",
              "      <td>0.0</td>\n",
              "      <td>0.0</td>\n",
              "      <td>0.0</td>\n",
              "      <td>0.0</td>\n",
              "      <td>0.0</td>\n",
              "      <td>0.0</td>\n",
              "      <td>-0.029001</td>\n",
              "      <td>...</td>\n",
              "      <td>0.0</td>\n",
              "      <td>-0.04103</td>\n",
              "      <td>0.0</td>\n",
              "      <td>-0.04103</td>\n",
              "      <td>-0.050273</td>\n",
              "      <td>-0.04103</td>\n",
              "      <td>0.0</td>\n",
              "      <td>0.0</td>\n",
              "      <td>0.0</td>\n",
              "      <td>-0.04103</td>\n",
              "    </tr>\n",
              "    <tr>\n",
              "      <th>1189</th>\n",
              "      <td>0.0</td>\n",
              "      <td>0.0</td>\n",
              "      <td>0.0</td>\n",
              "      <td>0.0</td>\n",
              "      <td>0.0</td>\n",
              "      <td>0.0</td>\n",
              "      <td>0.0</td>\n",
              "      <td>0.0</td>\n",
              "      <td>0.0</td>\n",
              "      <td>-0.029001</td>\n",
              "      <td>...</td>\n",
              "      <td>0.0</td>\n",
              "      <td>-0.04103</td>\n",
              "      <td>0.0</td>\n",
              "      <td>-0.04103</td>\n",
              "      <td>-0.050273</td>\n",
              "      <td>-0.04103</td>\n",
              "      <td>0.0</td>\n",
              "      <td>0.0</td>\n",
              "      <td>0.0</td>\n",
              "      <td>-0.04103</td>\n",
              "    </tr>\n",
              "  </tbody>\n",
              "</table>\n",
              "<p>1190 rows × 1024 columns</p>\n",
              "</div>\n",
              "      <button class=\"colab-df-convert\" onclick=\"convertToInteractive('df-11007b7a-d077-415e-85d1-6177c10ddaa0')\"\n",
              "              title=\"Convert this dataframe to an interactive table.\"\n",
              "              style=\"display:none;\">\n",
              "        \n",
              "  <svg xmlns=\"http://www.w3.org/2000/svg\" height=\"24px\"viewBox=\"0 0 24 24\"\n",
              "       width=\"24px\">\n",
              "    <path d=\"M0 0h24v24H0V0z\" fill=\"none\"/>\n",
              "    <path d=\"M18.56 5.44l.94 2.06.94-2.06 2.06-.94-2.06-.94-.94-2.06-.94 2.06-2.06.94zm-11 1L8.5 8.5l.94-2.06 2.06-.94-2.06-.94L8.5 2.5l-.94 2.06-2.06.94zm10 10l.94 2.06.94-2.06 2.06-.94-2.06-.94-.94-2.06-.94 2.06-2.06.94z\"/><path d=\"M17.41 7.96l-1.37-1.37c-.4-.4-.92-.59-1.43-.59-.52 0-1.04.2-1.43.59L10.3 9.45l-7.72 7.72c-.78.78-.78 2.05 0 2.83L4 21.41c.39.39.9.59 1.41.59.51 0 1.02-.2 1.41-.59l7.78-7.78 2.81-2.81c.8-.78.8-2.07 0-2.86zM5.41 20L4 18.59l7.72-7.72 1.47 1.35L5.41 20z\"/>\n",
              "  </svg>\n",
              "      </button>\n",
              "      \n",
              "  <style>\n",
              "    .colab-df-container {\n",
              "      display:flex;\n",
              "      flex-wrap:wrap;\n",
              "      gap: 12px;\n",
              "    }\n",
              "\n",
              "    .colab-df-convert {\n",
              "      background-color: #E8F0FE;\n",
              "      border: none;\n",
              "      border-radius: 50%;\n",
              "      cursor: pointer;\n",
              "      display: none;\n",
              "      fill: #1967D2;\n",
              "      height: 32px;\n",
              "      padding: 0 0 0 0;\n",
              "      width: 32px;\n",
              "    }\n",
              "\n",
              "    .colab-df-convert:hover {\n",
              "      background-color: #E2EBFA;\n",
              "      box-shadow: 0px 1px 2px rgba(60, 64, 67, 0.3), 0px 1px 3px 1px rgba(60, 64, 67, 0.15);\n",
              "      fill: #174EA6;\n",
              "    }\n",
              "\n",
              "    [theme=dark] .colab-df-convert {\n",
              "      background-color: #3B4455;\n",
              "      fill: #D2E3FC;\n",
              "    }\n",
              "\n",
              "    [theme=dark] .colab-df-convert:hover {\n",
              "      background-color: #434B5C;\n",
              "      box-shadow: 0px 1px 3px 1px rgba(0, 0, 0, 0.15);\n",
              "      filter: drop-shadow(0px 1px 2px rgba(0, 0, 0, 0.3));\n",
              "      fill: #FFFFFF;\n",
              "    }\n",
              "  </style>\n",
              "\n",
              "      <script>\n",
              "        const buttonEl =\n",
              "          document.querySelector('#df-11007b7a-d077-415e-85d1-6177c10ddaa0 button.colab-df-convert');\n",
              "        buttonEl.style.display =\n",
              "          google.colab.kernel.accessAllowed ? 'block' : 'none';\n",
              "\n",
              "        async function convertToInteractive(key) {\n",
              "          const element = document.querySelector('#df-11007b7a-d077-415e-85d1-6177c10ddaa0');\n",
              "          const dataTable =\n",
              "            await google.colab.kernel.invokeFunction('convertToInteractive',\n",
              "                                                     [key], {});\n",
              "          if (!dataTable) return;\n",
              "\n",
              "          const docLinkHtml = 'Like what you see? Visit the ' +\n",
              "            '<a target=\"_blank\" href=https://colab.research.google.com/notebooks/data_table.ipynb>data table notebook</a>'\n",
              "            + ' to learn more about interactive tables.';\n",
              "          element.innerHTML = '';\n",
              "          dataTable['output_type'] = 'display_data';\n",
              "          await google.colab.output.renderOutput(dataTable, element);\n",
              "          const docLink = document.createElement('div');\n",
              "          docLink.innerHTML = docLinkHtml;\n",
              "          element.appendChild(docLink);\n",
              "        }\n",
              "      </script>\n",
              "    </div>\n",
              "  </div>\n",
              "  "
            ]
          },
          "metadata": {},
          "execution_count": 31
        }
      ],
      "source": [
        "scaler = StandardScaler()\n",
        "X_train_scaled = scaler.fit_transform(data_train.iloc[:,1:])\n",
        "X_valid_scaled = scaler.fit_transform(data_valid.iloc[:,1:])\n",
        "X_test_scaled = scaler.fit_transform(data_test.iloc[:,1:])\n",
        "\n",
        "\n",
        "X_train_scaled = pd.DataFrame(X_train_scaled, columns=data_train.columns[1:])\n",
        "X_valid_scaled = pd.DataFrame(X_valid_scaled, columns=data_valid.columns[1:])\n",
        "X_test_scaled = pd.DataFrame(X_test_scaled, columns=data_test.columns[1:])\n",
        "\n",
        "X_train_scaled\n"
      ]
    },
    {
      "cell_type": "markdown",
      "metadata": {
        "id": "_ROwJ5cv1RW-"
      },
      "source": [
        "### SVM Linéaire"
      ]
    },
    {
      "cell_type": "markdown",
      "metadata": {
        "id": "wh8qyicu1RW_"
      },
      "source": [
        "#### Création du modèle"
      ]
    },
    {
      "cell_type": "code",
      "execution_count": 32,
      "metadata": {
        "id": "nXUokbBJ1RW_"
      },
      "outputs": [],
      "source": [
        "model_svm = SVC(C = 1000, kernel = 'linear', random_state=42).fit(X_train_scaled, data_train.label)"
      ]
    },
    {
      "cell_type": "code",
      "execution_count": 33,
      "metadata": {
        "colab": {
          "base_uri": "https://localhost:8080/",
          "height": 424
        },
        "id": "9fT_NSwF1RXA",
        "outputId": "e29fdd0a-7387-4f9e-892d-8aa2c1e8c8e0"
      },
      "outputs": [
        {
          "output_type": "execute_result",
          "data": {
            "text/plain": [
              "     0     1     2     3     4     5     6     7     8         9     ...  \\\n",
              "0     0.0   0.0   0.0   0.0   0.0   0.0   0.0   0.0   0.0 -0.029001  ...   \n",
              "1     0.0   0.0   0.0   0.0   0.0   0.0   0.0   0.0   0.0 -0.029001  ...   \n",
              "2     0.0   0.0   0.0   0.0   0.0   0.0   0.0   0.0   0.0 -0.029001  ...   \n",
              "3     0.0   0.0   0.0   0.0   0.0   0.0   0.0   0.0   0.0 -0.029001  ...   \n",
              "4     0.0   0.0   0.0   0.0   0.0   0.0   0.0   0.0   0.0 -0.029001  ...   \n",
              "..    ...   ...   ...   ...   ...   ...   ...   ...   ...       ...  ...   \n",
              "916   0.0   0.0   0.0   0.0   0.0   0.0   0.0   0.0   0.0 -0.029001  ...   \n",
              "917   0.0   0.0   0.0   0.0   0.0   0.0   0.0   0.0   0.0 -0.029001  ...   \n",
              "918   0.0   0.0   0.0   0.0   0.0   0.0   0.0   0.0   0.0 -0.029001  ...   \n",
              "919   0.0   0.0   0.0   0.0   0.0   0.0   0.0   0.0   0.0 -0.029001  ...   \n",
              "920   0.0   0.0   0.0   0.0   0.0   0.0   0.0   0.0   0.0 -0.029001  ...   \n",
              "\n",
              "     1014     1015  1016     1017      1018     1019  1020  1021  1022  \\\n",
              "0     0.0 -0.04103   0.0 -0.04103 -0.050273 -0.04103   0.0   0.0   0.0   \n",
              "1     0.0 -0.04103   0.0 -0.04103 -0.050273 -0.04103   0.0   0.0   0.0   \n",
              "2     0.0 -0.04103   0.0 -0.04103 -0.050273 -0.04103   0.0   0.0   0.0   \n",
              "3     0.0 -0.04103   0.0 -0.04103 -0.050273 -0.04103   0.0   0.0   0.0   \n",
              "4     0.0 -0.04103   0.0 -0.04103 -0.050273 -0.04103   0.0   0.0   0.0   \n",
              "..    ...      ...   ...      ...       ...      ...   ...   ...   ...   \n",
              "916   0.0 -0.04103   0.0 -0.04103 -0.050273 -0.04103   0.0   0.0   0.0   \n",
              "917   0.0 -0.04103   0.0 -0.04103 -0.050273 -0.04103   0.0   0.0   0.0   \n",
              "918   0.0 -0.04103   0.0 -0.04103 -0.050273 -0.04103   0.0   0.0   0.0   \n",
              "919   0.0 -0.04103   0.0 -0.04103 -0.050273 -0.04103   0.0   0.0   0.0   \n",
              "920   0.0 -0.04103   0.0 -0.04103 -0.050273 -0.04103   0.0   0.0   0.0   \n",
              "\n",
              "        1023  \n",
              "0   -0.04103  \n",
              "1   -0.04103  \n",
              "2   -0.04103  \n",
              "3   -0.04103  \n",
              "4   -0.04103  \n",
              "..       ...  \n",
              "916 -0.04103  \n",
              "917 -0.04103  \n",
              "918 -0.04103  \n",
              "919 -0.04103  \n",
              "920 -0.04103  \n",
              "\n",
              "[921 rows x 1024 columns]"
            ],
            "text/html": [
              "\n",
              "  <div id=\"df-6ad94e75-e34c-4682-8bb8-328fa1983bff\">\n",
              "    <div class=\"colab-df-container\">\n",
              "      <div>\n",
              "<style scoped>\n",
              "    .dataframe tbody tr th:only-of-type {\n",
              "        vertical-align: middle;\n",
              "    }\n",
              "\n",
              "    .dataframe tbody tr th {\n",
              "        vertical-align: top;\n",
              "    }\n",
              "\n",
              "    .dataframe thead th {\n",
              "        text-align: right;\n",
              "    }\n",
              "</style>\n",
              "<table border=\"1\" class=\"dataframe\">\n",
              "  <thead>\n",
              "    <tr style=\"text-align: right;\">\n",
              "      <th></th>\n",
              "      <th>0</th>\n",
              "      <th>1</th>\n",
              "      <th>2</th>\n",
              "      <th>3</th>\n",
              "      <th>4</th>\n",
              "      <th>5</th>\n",
              "      <th>6</th>\n",
              "      <th>7</th>\n",
              "      <th>8</th>\n",
              "      <th>9</th>\n",
              "      <th>...</th>\n",
              "      <th>1014</th>\n",
              "      <th>1015</th>\n",
              "      <th>1016</th>\n",
              "      <th>1017</th>\n",
              "      <th>1018</th>\n",
              "      <th>1019</th>\n",
              "      <th>1020</th>\n",
              "      <th>1021</th>\n",
              "      <th>1022</th>\n",
              "      <th>1023</th>\n",
              "    </tr>\n",
              "  </thead>\n",
              "  <tbody>\n",
              "    <tr>\n",
              "      <th>0</th>\n",
              "      <td>0.0</td>\n",
              "      <td>0.0</td>\n",
              "      <td>0.0</td>\n",
              "      <td>0.0</td>\n",
              "      <td>0.0</td>\n",
              "      <td>0.0</td>\n",
              "      <td>0.0</td>\n",
              "      <td>0.0</td>\n",
              "      <td>0.0</td>\n",
              "      <td>-0.029001</td>\n",
              "      <td>...</td>\n",
              "      <td>0.0</td>\n",
              "      <td>-0.04103</td>\n",
              "      <td>0.0</td>\n",
              "      <td>-0.04103</td>\n",
              "      <td>-0.050273</td>\n",
              "      <td>-0.04103</td>\n",
              "      <td>0.0</td>\n",
              "      <td>0.0</td>\n",
              "      <td>0.0</td>\n",
              "      <td>-0.04103</td>\n",
              "    </tr>\n",
              "    <tr>\n",
              "      <th>1</th>\n",
              "      <td>0.0</td>\n",
              "      <td>0.0</td>\n",
              "      <td>0.0</td>\n",
              "      <td>0.0</td>\n",
              "      <td>0.0</td>\n",
              "      <td>0.0</td>\n",
              "      <td>0.0</td>\n",
              "      <td>0.0</td>\n",
              "      <td>0.0</td>\n",
              "      <td>-0.029001</td>\n",
              "      <td>...</td>\n",
              "      <td>0.0</td>\n",
              "      <td>-0.04103</td>\n",
              "      <td>0.0</td>\n",
              "      <td>-0.04103</td>\n",
              "      <td>-0.050273</td>\n",
              "      <td>-0.04103</td>\n",
              "      <td>0.0</td>\n",
              "      <td>0.0</td>\n",
              "      <td>0.0</td>\n",
              "      <td>-0.04103</td>\n",
              "    </tr>\n",
              "    <tr>\n",
              "      <th>2</th>\n",
              "      <td>0.0</td>\n",
              "      <td>0.0</td>\n",
              "      <td>0.0</td>\n",
              "      <td>0.0</td>\n",
              "      <td>0.0</td>\n",
              "      <td>0.0</td>\n",
              "      <td>0.0</td>\n",
              "      <td>0.0</td>\n",
              "      <td>0.0</td>\n",
              "      <td>-0.029001</td>\n",
              "      <td>...</td>\n",
              "      <td>0.0</td>\n",
              "      <td>-0.04103</td>\n",
              "      <td>0.0</td>\n",
              "      <td>-0.04103</td>\n",
              "      <td>-0.050273</td>\n",
              "      <td>-0.04103</td>\n",
              "      <td>0.0</td>\n",
              "      <td>0.0</td>\n",
              "      <td>0.0</td>\n",
              "      <td>-0.04103</td>\n",
              "    </tr>\n",
              "    <tr>\n",
              "      <th>3</th>\n",
              "      <td>0.0</td>\n",
              "      <td>0.0</td>\n",
              "      <td>0.0</td>\n",
              "      <td>0.0</td>\n",
              "      <td>0.0</td>\n",
              "      <td>0.0</td>\n",
              "      <td>0.0</td>\n",
              "      <td>0.0</td>\n",
              "      <td>0.0</td>\n",
              "      <td>-0.029001</td>\n",
              "      <td>...</td>\n",
              "      <td>0.0</td>\n",
              "      <td>-0.04103</td>\n",
              "      <td>0.0</td>\n",
              "      <td>-0.04103</td>\n",
              "      <td>-0.050273</td>\n",
              "      <td>-0.04103</td>\n",
              "      <td>0.0</td>\n",
              "      <td>0.0</td>\n",
              "      <td>0.0</td>\n",
              "      <td>-0.04103</td>\n",
              "    </tr>\n",
              "    <tr>\n",
              "      <th>4</th>\n",
              "      <td>0.0</td>\n",
              "      <td>0.0</td>\n",
              "      <td>0.0</td>\n",
              "      <td>0.0</td>\n",
              "      <td>0.0</td>\n",
              "      <td>0.0</td>\n",
              "      <td>0.0</td>\n",
              "      <td>0.0</td>\n",
              "      <td>0.0</td>\n",
              "      <td>-0.029001</td>\n",
              "      <td>...</td>\n",
              "      <td>0.0</td>\n",
              "      <td>-0.04103</td>\n",
              "      <td>0.0</td>\n",
              "      <td>-0.04103</td>\n",
              "      <td>-0.050273</td>\n",
              "      <td>-0.04103</td>\n",
              "      <td>0.0</td>\n",
              "      <td>0.0</td>\n",
              "      <td>0.0</td>\n",
              "      <td>-0.04103</td>\n",
              "    </tr>\n",
              "    <tr>\n",
              "      <th>...</th>\n",
              "      <td>...</td>\n",
              "      <td>...</td>\n",
              "      <td>...</td>\n",
              "      <td>...</td>\n",
              "      <td>...</td>\n",
              "      <td>...</td>\n",
              "      <td>...</td>\n",
              "      <td>...</td>\n",
              "      <td>...</td>\n",
              "      <td>...</td>\n",
              "      <td>...</td>\n",
              "      <td>...</td>\n",
              "      <td>...</td>\n",
              "      <td>...</td>\n",
              "      <td>...</td>\n",
              "      <td>...</td>\n",
              "      <td>...</td>\n",
              "      <td>...</td>\n",
              "      <td>...</td>\n",
              "      <td>...</td>\n",
              "      <td>...</td>\n",
              "    </tr>\n",
              "    <tr>\n",
              "      <th>916</th>\n",
              "      <td>0.0</td>\n",
              "      <td>0.0</td>\n",
              "      <td>0.0</td>\n",
              "      <td>0.0</td>\n",
              "      <td>0.0</td>\n",
              "      <td>0.0</td>\n",
              "      <td>0.0</td>\n",
              "      <td>0.0</td>\n",
              "      <td>0.0</td>\n",
              "      <td>-0.029001</td>\n",
              "      <td>...</td>\n",
              "      <td>0.0</td>\n",
              "      <td>-0.04103</td>\n",
              "      <td>0.0</td>\n",
              "      <td>-0.04103</td>\n",
              "      <td>-0.050273</td>\n",
              "      <td>-0.04103</td>\n",
              "      <td>0.0</td>\n",
              "      <td>0.0</td>\n",
              "      <td>0.0</td>\n",
              "      <td>-0.04103</td>\n",
              "    </tr>\n",
              "    <tr>\n",
              "      <th>917</th>\n",
              "      <td>0.0</td>\n",
              "      <td>0.0</td>\n",
              "      <td>0.0</td>\n",
              "      <td>0.0</td>\n",
              "      <td>0.0</td>\n",
              "      <td>0.0</td>\n",
              "      <td>0.0</td>\n",
              "      <td>0.0</td>\n",
              "      <td>0.0</td>\n",
              "      <td>-0.029001</td>\n",
              "      <td>...</td>\n",
              "      <td>0.0</td>\n",
              "      <td>-0.04103</td>\n",
              "      <td>0.0</td>\n",
              "      <td>-0.04103</td>\n",
              "      <td>-0.050273</td>\n",
              "      <td>-0.04103</td>\n",
              "      <td>0.0</td>\n",
              "      <td>0.0</td>\n",
              "      <td>0.0</td>\n",
              "      <td>-0.04103</td>\n",
              "    </tr>\n",
              "    <tr>\n",
              "      <th>918</th>\n",
              "      <td>0.0</td>\n",
              "      <td>0.0</td>\n",
              "      <td>0.0</td>\n",
              "      <td>0.0</td>\n",
              "      <td>0.0</td>\n",
              "      <td>0.0</td>\n",
              "      <td>0.0</td>\n",
              "      <td>0.0</td>\n",
              "      <td>0.0</td>\n",
              "      <td>-0.029001</td>\n",
              "      <td>...</td>\n",
              "      <td>0.0</td>\n",
              "      <td>-0.04103</td>\n",
              "      <td>0.0</td>\n",
              "      <td>-0.04103</td>\n",
              "      <td>-0.050273</td>\n",
              "      <td>-0.04103</td>\n",
              "      <td>0.0</td>\n",
              "      <td>0.0</td>\n",
              "      <td>0.0</td>\n",
              "      <td>-0.04103</td>\n",
              "    </tr>\n",
              "    <tr>\n",
              "      <th>919</th>\n",
              "      <td>0.0</td>\n",
              "      <td>0.0</td>\n",
              "      <td>0.0</td>\n",
              "      <td>0.0</td>\n",
              "      <td>0.0</td>\n",
              "      <td>0.0</td>\n",
              "      <td>0.0</td>\n",
              "      <td>0.0</td>\n",
              "      <td>0.0</td>\n",
              "      <td>-0.029001</td>\n",
              "      <td>...</td>\n",
              "      <td>0.0</td>\n",
              "      <td>-0.04103</td>\n",
              "      <td>0.0</td>\n",
              "      <td>-0.04103</td>\n",
              "      <td>-0.050273</td>\n",
              "      <td>-0.04103</td>\n",
              "      <td>0.0</td>\n",
              "      <td>0.0</td>\n",
              "      <td>0.0</td>\n",
              "      <td>-0.04103</td>\n",
              "    </tr>\n",
              "    <tr>\n",
              "      <th>920</th>\n",
              "      <td>0.0</td>\n",
              "      <td>0.0</td>\n",
              "      <td>0.0</td>\n",
              "      <td>0.0</td>\n",
              "      <td>0.0</td>\n",
              "      <td>0.0</td>\n",
              "      <td>0.0</td>\n",
              "      <td>0.0</td>\n",
              "      <td>0.0</td>\n",
              "      <td>-0.029001</td>\n",
              "      <td>...</td>\n",
              "      <td>0.0</td>\n",
              "      <td>-0.04103</td>\n",
              "      <td>0.0</td>\n",
              "      <td>-0.04103</td>\n",
              "      <td>-0.050273</td>\n",
              "      <td>-0.04103</td>\n",
              "      <td>0.0</td>\n",
              "      <td>0.0</td>\n",
              "      <td>0.0</td>\n",
              "      <td>-0.04103</td>\n",
              "    </tr>\n",
              "  </tbody>\n",
              "</table>\n",
              "<p>921 rows × 1024 columns</p>\n",
              "</div>\n",
              "      <button class=\"colab-df-convert\" onclick=\"convertToInteractive('df-6ad94e75-e34c-4682-8bb8-328fa1983bff')\"\n",
              "              title=\"Convert this dataframe to an interactive table.\"\n",
              "              style=\"display:none;\">\n",
              "        \n",
              "  <svg xmlns=\"http://www.w3.org/2000/svg\" height=\"24px\"viewBox=\"0 0 24 24\"\n",
              "       width=\"24px\">\n",
              "    <path d=\"M0 0h24v24H0V0z\" fill=\"none\"/>\n",
              "    <path d=\"M18.56 5.44l.94 2.06.94-2.06 2.06-.94-2.06-.94-.94-2.06-.94 2.06-2.06.94zm-11 1L8.5 8.5l.94-2.06 2.06-.94-2.06-.94L8.5 2.5l-.94 2.06-2.06.94zm10 10l.94 2.06.94-2.06 2.06-.94-2.06-.94-.94-2.06-.94 2.06-2.06.94z\"/><path d=\"M17.41 7.96l-1.37-1.37c-.4-.4-.92-.59-1.43-.59-.52 0-1.04.2-1.43.59L10.3 9.45l-7.72 7.72c-.78.78-.78 2.05 0 2.83L4 21.41c.39.39.9.59 1.41.59.51 0 1.02-.2 1.41-.59l7.78-7.78 2.81-2.81c.8-.78.8-2.07 0-2.86zM5.41 20L4 18.59l7.72-7.72 1.47 1.35L5.41 20z\"/>\n",
              "  </svg>\n",
              "      </button>\n",
              "      \n",
              "  <style>\n",
              "    .colab-df-container {\n",
              "      display:flex;\n",
              "      flex-wrap:wrap;\n",
              "      gap: 12px;\n",
              "    }\n",
              "\n",
              "    .colab-df-convert {\n",
              "      background-color: #E8F0FE;\n",
              "      border: none;\n",
              "      border-radius: 50%;\n",
              "      cursor: pointer;\n",
              "      display: none;\n",
              "      fill: #1967D2;\n",
              "      height: 32px;\n",
              "      padding: 0 0 0 0;\n",
              "      width: 32px;\n",
              "    }\n",
              "\n",
              "    .colab-df-convert:hover {\n",
              "      background-color: #E2EBFA;\n",
              "      box-shadow: 0px 1px 2px rgba(60, 64, 67, 0.3), 0px 1px 3px 1px rgba(60, 64, 67, 0.15);\n",
              "      fill: #174EA6;\n",
              "    }\n",
              "\n",
              "    [theme=dark] .colab-df-convert {\n",
              "      background-color: #3B4455;\n",
              "      fill: #D2E3FC;\n",
              "    }\n",
              "\n",
              "    [theme=dark] .colab-df-convert:hover {\n",
              "      background-color: #434B5C;\n",
              "      box-shadow: 0px 1px 3px 1px rgba(0, 0, 0, 0.15);\n",
              "      filter: drop-shadow(0px 1px 2px rgba(0, 0, 0, 0.3));\n",
              "      fill: #FFFFFF;\n",
              "    }\n",
              "  </style>\n",
              "\n",
              "      <script>\n",
              "        const buttonEl =\n",
              "          document.querySelector('#df-6ad94e75-e34c-4682-8bb8-328fa1983bff button.colab-df-convert');\n",
              "        buttonEl.style.display =\n",
              "          google.colab.kernel.accessAllowed ? 'block' : 'none';\n",
              "\n",
              "        async function convertToInteractive(key) {\n",
              "          const element = document.querySelector('#df-6ad94e75-e34c-4682-8bb8-328fa1983bff');\n",
              "          const dataTable =\n",
              "            await google.colab.kernel.invokeFunction('convertToInteractive',\n",
              "                                                     [key], {});\n",
              "          if (!dataTable) return;\n",
              "\n",
              "          const docLinkHtml = 'Like what you see? Visit the ' +\n",
              "            '<a target=\"_blank\" href=https://colab.research.google.com/notebooks/data_table.ipynb>data table notebook</a>'\n",
              "            + ' to learn more about interactive tables.';\n",
              "          element.innerHTML = '';\n",
              "          dataTable['output_type'] = 'display_data';\n",
              "          await google.colab.output.renderOutput(dataTable, element);\n",
              "          const docLink = document.createElement('div');\n",
              "          docLink.innerHTML = docLinkHtml;\n",
              "          element.appendChild(docLink);\n",
              "        }\n",
              "      </script>\n",
              "    </div>\n",
              "  </div>\n",
              "  "
            ]
          },
          "metadata": {},
          "execution_count": 33
        }
      ],
      "source": [
        "# Support vectors\n",
        "pd.DataFrame(model_svm.support_vectors_)"
      ]
    },
    {
      "cell_type": "markdown",
      "metadata": {
        "id": "LqxhqKhg1RXA"
      },
      "source": [
        "Cette matrice est de la forme (n_support, n_features) où n_support est le nombre de vecteurs de support et n_features est le nombre de caractéristiques dans les données d'entrée. Chaque ligne de la matrice correspond à un vecteur de support.\n",
        "Les vecteurs de support sont les échantillons les plus proches de la frontière de décision, qui ont une influence sur la position de la frontière."
      ]
    },
    {
      "cell_type": "code",
      "execution_count": 34,
      "metadata": {
        "colab": {
          "base_uri": "https://localhost:8080/",
          "height": 424
        },
        "id": "n6sJbkI61RXB",
        "outputId": "0ac5f2fd-2e9d-4fba-fc18-7a0aefdc5310"
      },
      "outputs": [
        {
          "output_type": "execute_result",
          "data": {
            "text/plain": [
              "        0\n",
              "0      26\n",
              "1      38\n",
              "2      39\n",
              "3      80\n",
              "4      88\n",
              "..    ...\n",
              "916  1151\n",
              "917  1153\n",
              "918  1175\n",
              "919  1185\n",
              "920  1187\n",
              "\n",
              "[921 rows x 1 columns]"
            ],
            "text/html": [
              "\n",
              "  <div id=\"df-b915aeff-d80f-49e0-93d9-d14f9c6de757\">\n",
              "    <div class=\"colab-df-container\">\n",
              "      <div>\n",
              "<style scoped>\n",
              "    .dataframe tbody tr th:only-of-type {\n",
              "        vertical-align: middle;\n",
              "    }\n",
              "\n",
              "    .dataframe tbody tr th {\n",
              "        vertical-align: top;\n",
              "    }\n",
              "\n",
              "    .dataframe thead th {\n",
              "        text-align: right;\n",
              "    }\n",
              "</style>\n",
              "<table border=\"1\" class=\"dataframe\">\n",
              "  <thead>\n",
              "    <tr style=\"text-align: right;\">\n",
              "      <th></th>\n",
              "      <th>0</th>\n",
              "    </tr>\n",
              "  </thead>\n",
              "  <tbody>\n",
              "    <tr>\n",
              "      <th>0</th>\n",
              "      <td>26</td>\n",
              "    </tr>\n",
              "    <tr>\n",
              "      <th>1</th>\n",
              "      <td>38</td>\n",
              "    </tr>\n",
              "    <tr>\n",
              "      <th>2</th>\n",
              "      <td>39</td>\n",
              "    </tr>\n",
              "    <tr>\n",
              "      <th>3</th>\n",
              "      <td>80</td>\n",
              "    </tr>\n",
              "    <tr>\n",
              "      <th>4</th>\n",
              "      <td>88</td>\n",
              "    </tr>\n",
              "    <tr>\n",
              "      <th>...</th>\n",
              "      <td>...</td>\n",
              "    </tr>\n",
              "    <tr>\n",
              "      <th>916</th>\n",
              "      <td>1151</td>\n",
              "    </tr>\n",
              "    <tr>\n",
              "      <th>917</th>\n",
              "      <td>1153</td>\n",
              "    </tr>\n",
              "    <tr>\n",
              "      <th>918</th>\n",
              "      <td>1175</td>\n",
              "    </tr>\n",
              "    <tr>\n",
              "      <th>919</th>\n",
              "      <td>1185</td>\n",
              "    </tr>\n",
              "    <tr>\n",
              "      <th>920</th>\n",
              "      <td>1187</td>\n",
              "    </tr>\n",
              "  </tbody>\n",
              "</table>\n",
              "<p>921 rows × 1 columns</p>\n",
              "</div>\n",
              "      <button class=\"colab-df-convert\" onclick=\"convertToInteractive('df-b915aeff-d80f-49e0-93d9-d14f9c6de757')\"\n",
              "              title=\"Convert this dataframe to an interactive table.\"\n",
              "              style=\"display:none;\">\n",
              "        \n",
              "  <svg xmlns=\"http://www.w3.org/2000/svg\" height=\"24px\"viewBox=\"0 0 24 24\"\n",
              "       width=\"24px\">\n",
              "    <path d=\"M0 0h24v24H0V0z\" fill=\"none\"/>\n",
              "    <path d=\"M18.56 5.44l.94 2.06.94-2.06 2.06-.94-2.06-.94-.94-2.06-.94 2.06-2.06.94zm-11 1L8.5 8.5l.94-2.06 2.06-.94-2.06-.94L8.5 2.5l-.94 2.06-2.06.94zm10 10l.94 2.06.94-2.06 2.06-.94-2.06-.94-.94-2.06-.94 2.06-2.06.94z\"/><path d=\"M17.41 7.96l-1.37-1.37c-.4-.4-.92-.59-1.43-.59-.52 0-1.04.2-1.43.59L10.3 9.45l-7.72 7.72c-.78.78-.78 2.05 0 2.83L4 21.41c.39.39.9.59 1.41.59.51 0 1.02-.2 1.41-.59l7.78-7.78 2.81-2.81c.8-.78.8-2.07 0-2.86zM5.41 20L4 18.59l7.72-7.72 1.47 1.35L5.41 20z\"/>\n",
              "  </svg>\n",
              "      </button>\n",
              "      \n",
              "  <style>\n",
              "    .colab-df-container {\n",
              "      display:flex;\n",
              "      flex-wrap:wrap;\n",
              "      gap: 12px;\n",
              "    }\n",
              "\n",
              "    .colab-df-convert {\n",
              "      background-color: #E8F0FE;\n",
              "      border: none;\n",
              "      border-radius: 50%;\n",
              "      cursor: pointer;\n",
              "      display: none;\n",
              "      fill: #1967D2;\n",
              "      height: 32px;\n",
              "      padding: 0 0 0 0;\n",
              "      width: 32px;\n",
              "    }\n",
              "\n",
              "    .colab-df-convert:hover {\n",
              "      background-color: #E2EBFA;\n",
              "      box-shadow: 0px 1px 2px rgba(60, 64, 67, 0.3), 0px 1px 3px 1px rgba(60, 64, 67, 0.15);\n",
              "      fill: #174EA6;\n",
              "    }\n",
              "\n",
              "    [theme=dark] .colab-df-convert {\n",
              "      background-color: #3B4455;\n",
              "      fill: #D2E3FC;\n",
              "    }\n",
              "\n",
              "    [theme=dark] .colab-df-convert:hover {\n",
              "      background-color: #434B5C;\n",
              "      box-shadow: 0px 1px 3px 1px rgba(0, 0, 0, 0.15);\n",
              "      filter: drop-shadow(0px 1px 2px rgba(0, 0, 0, 0.3));\n",
              "      fill: #FFFFFF;\n",
              "    }\n",
              "  </style>\n",
              "\n",
              "      <script>\n",
              "        const buttonEl =\n",
              "          document.querySelector('#df-b915aeff-d80f-49e0-93d9-d14f9c6de757 button.colab-df-convert');\n",
              "        buttonEl.style.display =\n",
              "          google.colab.kernel.accessAllowed ? 'block' : 'none';\n",
              "\n",
              "        async function convertToInteractive(key) {\n",
              "          const element = document.querySelector('#df-b915aeff-d80f-49e0-93d9-d14f9c6de757');\n",
              "          const dataTable =\n",
              "            await google.colab.kernel.invokeFunction('convertToInteractive',\n",
              "                                                     [key], {});\n",
              "          if (!dataTable) return;\n",
              "\n",
              "          const docLinkHtml = 'Like what you see? Visit the ' +\n",
              "            '<a target=\"_blank\" href=https://colab.research.google.com/notebooks/data_table.ipynb>data table notebook</a>'\n",
              "            + ' to learn more about interactive tables.';\n",
              "          element.innerHTML = '';\n",
              "          dataTable['output_type'] = 'display_data';\n",
              "          await google.colab.output.renderOutput(dataTable, element);\n",
              "          const docLink = document.createElement('div');\n",
              "          docLink.innerHTML = docLinkHtml;\n",
              "          element.appendChild(docLink);\n",
              "        }\n",
              "      </script>\n",
              "    </div>\n",
              "  </div>\n",
              "  "
            ]
          },
          "metadata": {},
          "execution_count": 34
        }
      ],
      "source": [
        "pd.DataFrame(model_svm.support_)\n",
        "# Renvoie la position de chaque vecteur de support dans le jeu de données"
      ]
    },
    {
      "cell_type": "code",
      "execution_count": 35,
      "metadata": {
        "colab": {
          "base_uri": "https://localhost:8080/",
          "height": 331
        },
        "id": "TbSXRSlU1RXB",
        "outputId": "d7e539a9-471d-4a6e-c32b-a39f4a1305ee"
      },
      "outputs": [
        {
          "output_type": "execute_result",
          "data": {
            "text/plain": [
              "        0         1         2         3         4         5         6    \\\n",
              "0  0.000144  0.000000  0.000000  0.003194  0.008173  0.000000  0.003756   \n",
              "1  0.000000  0.000000  0.014063  0.000221  0.005727  0.000000  0.015409   \n",
              "2  0.000000  0.000153  0.003976  0.002868  0.005930  0.000000  0.004925   \n",
              "3  0.000000  0.000000  0.010213  0.001405  0.005027  0.000000  0.006530   \n",
              "4  0.000000  0.000188  0.005938  0.000000  0.005940  0.006156  0.006204   \n",
              "5  0.000000  0.000978  0.004439  0.001446  0.004136  0.000243  0.006167   \n",
              "\n",
              "        7         8         9    ...       911       912       913       914  \\\n",
              "0  0.000021  0.000000  0.000581  ... -0.000000 -0.000006 -0.000000 -0.000675   \n",
              "1  0.000444  0.000000  0.000112  ... -0.000000 -0.000711 -0.000000 -0.010049   \n",
              "2  0.000034  0.000000  0.000000  ... -0.001727 -0.000000 -0.004585 -0.000000   \n",
              "3  0.000150  0.000000  0.000296  ... -0.000000 -0.000000 -0.000000 -0.018832   \n",
              "4  0.000480  0.002053  0.000000  ... -0.002647 -0.001561 -0.000000 -0.015428   \n",
              "5  0.000129  0.000000  0.000000  ... -0.000914 -0.000000 -0.000000 -0.000000   \n",
              "\n",
              "      915      916       917      918       919       920  \n",
              "0 -0.0000 -0.00000 -0.000000 -0.00000 -0.000000 -0.000000  \n",
              "1 -0.0000 -0.00315 -0.000000 -0.00008 -0.000973 -0.000000  \n",
              "2 -0.0000 -0.00000 -0.000000 -0.00000 -0.000000 -0.000471  \n",
              "3 -0.0008 -0.00000 -0.004089 -0.00000 -0.002520 -0.000000  \n",
              "4 -0.0000 -0.00000 -0.000000 -0.00000 -0.000000 -0.000000  \n",
              "5 -0.0000 -0.00000 -0.002233 -0.00000 -0.000000 -0.000000  \n",
              "\n",
              "[6 rows x 921 columns]"
            ],
            "text/html": [
              "\n",
              "  <div id=\"df-b90d8edb-39d0-4f34-9c3d-00d729109d5e\">\n",
              "    <div class=\"colab-df-container\">\n",
              "      <div>\n",
              "<style scoped>\n",
              "    .dataframe tbody tr th:only-of-type {\n",
              "        vertical-align: middle;\n",
              "    }\n",
              "\n",
              "    .dataframe tbody tr th {\n",
              "        vertical-align: top;\n",
              "    }\n",
              "\n",
              "    .dataframe thead th {\n",
              "        text-align: right;\n",
              "    }\n",
              "</style>\n",
              "<table border=\"1\" class=\"dataframe\">\n",
              "  <thead>\n",
              "    <tr style=\"text-align: right;\">\n",
              "      <th></th>\n",
              "      <th>0</th>\n",
              "      <th>1</th>\n",
              "      <th>2</th>\n",
              "      <th>3</th>\n",
              "      <th>4</th>\n",
              "      <th>5</th>\n",
              "      <th>6</th>\n",
              "      <th>7</th>\n",
              "      <th>8</th>\n",
              "      <th>9</th>\n",
              "      <th>...</th>\n",
              "      <th>911</th>\n",
              "      <th>912</th>\n",
              "      <th>913</th>\n",
              "      <th>914</th>\n",
              "      <th>915</th>\n",
              "      <th>916</th>\n",
              "      <th>917</th>\n",
              "      <th>918</th>\n",
              "      <th>919</th>\n",
              "      <th>920</th>\n",
              "    </tr>\n",
              "  </thead>\n",
              "  <tbody>\n",
              "    <tr>\n",
              "      <th>0</th>\n",
              "      <td>0.000144</td>\n",
              "      <td>0.000000</td>\n",
              "      <td>0.000000</td>\n",
              "      <td>0.003194</td>\n",
              "      <td>0.008173</td>\n",
              "      <td>0.000000</td>\n",
              "      <td>0.003756</td>\n",
              "      <td>0.000021</td>\n",
              "      <td>0.000000</td>\n",
              "      <td>0.000581</td>\n",
              "      <td>...</td>\n",
              "      <td>-0.000000</td>\n",
              "      <td>-0.000006</td>\n",
              "      <td>-0.000000</td>\n",
              "      <td>-0.000675</td>\n",
              "      <td>-0.0000</td>\n",
              "      <td>-0.00000</td>\n",
              "      <td>-0.000000</td>\n",
              "      <td>-0.00000</td>\n",
              "      <td>-0.000000</td>\n",
              "      <td>-0.000000</td>\n",
              "    </tr>\n",
              "    <tr>\n",
              "      <th>1</th>\n",
              "      <td>0.000000</td>\n",
              "      <td>0.000000</td>\n",
              "      <td>0.014063</td>\n",
              "      <td>0.000221</td>\n",
              "      <td>0.005727</td>\n",
              "      <td>0.000000</td>\n",
              "      <td>0.015409</td>\n",
              "      <td>0.000444</td>\n",
              "      <td>0.000000</td>\n",
              "      <td>0.000112</td>\n",
              "      <td>...</td>\n",
              "      <td>-0.000000</td>\n",
              "      <td>-0.000711</td>\n",
              "      <td>-0.000000</td>\n",
              "      <td>-0.010049</td>\n",
              "      <td>-0.0000</td>\n",
              "      <td>-0.00315</td>\n",
              "      <td>-0.000000</td>\n",
              "      <td>-0.00008</td>\n",
              "      <td>-0.000973</td>\n",
              "      <td>-0.000000</td>\n",
              "    </tr>\n",
              "    <tr>\n",
              "      <th>2</th>\n",
              "      <td>0.000000</td>\n",
              "      <td>0.000153</td>\n",
              "      <td>0.003976</td>\n",
              "      <td>0.002868</td>\n",
              "      <td>0.005930</td>\n",
              "      <td>0.000000</td>\n",
              "      <td>0.004925</td>\n",
              "      <td>0.000034</td>\n",
              "      <td>0.000000</td>\n",
              "      <td>0.000000</td>\n",
              "      <td>...</td>\n",
              "      <td>-0.001727</td>\n",
              "      <td>-0.000000</td>\n",
              "      <td>-0.004585</td>\n",
              "      <td>-0.000000</td>\n",
              "      <td>-0.0000</td>\n",
              "      <td>-0.00000</td>\n",
              "      <td>-0.000000</td>\n",
              "      <td>-0.00000</td>\n",
              "      <td>-0.000000</td>\n",
              "      <td>-0.000471</td>\n",
              "    </tr>\n",
              "    <tr>\n",
              "      <th>3</th>\n",
              "      <td>0.000000</td>\n",
              "      <td>0.000000</td>\n",
              "      <td>0.010213</td>\n",
              "      <td>0.001405</td>\n",
              "      <td>0.005027</td>\n",
              "      <td>0.000000</td>\n",
              "      <td>0.006530</td>\n",
              "      <td>0.000150</td>\n",
              "      <td>0.000000</td>\n",
              "      <td>0.000296</td>\n",
              "      <td>...</td>\n",
              "      <td>-0.000000</td>\n",
              "      <td>-0.000000</td>\n",
              "      <td>-0.000000</td>\n",
              "      <td>-0.018832</td>\n",
              "      <td>-0.0008</td>\n",
              "      <td>-0.00000</td>\n",
              "      <td>-0.004089</td>\n",
              "      <td>-0.00000</td>\n",
              "      <td>-0.002520</td>\n",
              "      <td>-0.000000</td>\n",
              "    </tr>\n",
              "    <tr>\n",
              "      <th>4</th>\n",
              "      <td>0.000000</td>\n",
              "      <td>0.000188</td>\n",
              "      <td>0.005938</td>\n",
              "      <td>0.000000</td>\n",
              "      <td>0.005940</td>\n",
              "      <td>0.006156</td>\n",
              "      <td>0.006204</td>\n",
              "      <td>0.000480</td>\n",
              "      <td>0.002053</td>\n",
              "      <td>0.000000</td>\n",
              "      <td>...</td>\n",
              "      <td>-0.002647</td>\n",
              "      <td>-0.001561</td>\n",
              "      <td>-0.000000</td>\n",
              "      <td>-0.015428</td>\n",
              "      <td>-0.0000</td>\n",
              "      <td>-0.00000</td>\n",
              "      <td>-0.000000</td>\n",
              "      <td>-0.00000</td>\n",
              "      <td>-0.000000</td>\n",
              "      <td>-0.000000</td>\n",
              "    </tr>\n",
              "    <tr>\n",
              "      <th>5</th>\n",
              "      <td>0.000000</td>\n",
              "      <td>0.000978</td>\n",
              "      <td>0.004439</td>\n",
              "      <td>0.001446</td>\n",
              "      <td>0.004136</td>\n",
              "      <td>0.000243</td>\n",
              "      <td>0.006167</td>\n",
              "      <td>0.000129</td>\n",
              "      <td>0.000000</td>\n",
              "      <td>0.000000</td>\n",
              "      <td>...</td>\n",
              "      <td>-0.000914</td>\n",
              "      <td>-0.000000</td>\n",
              "      <td>-0.000000</td>\n",
              "      <td>-0.000000</td>\n",
              "      <td>-0.0000</td>\n",
              "      <td>-0.00000</td>\n",
              "      <td>-0.002233</td>\n",
              "      <td>-0.00000</td>\n",
              "      <td>-0.000000</td>\n",
              "      <td>-0.000000</td>\n",
              "    </tr>\n",
              "  </tbody>\n",
              "</table>\n",
              "<p>6 rows × 921 columns</p>\n",
              "</div>\n",
              "      <button class=\"colab-df-convert\" onclick=\"convertToInteractive('df-b90d8edb-39d0-4f34-9c3d-00d729109d5e')\"\n",
              "              title=\"Convert this dataframe to an interactive table.\"\n",
              "              style=\"display:none;\">\n",
              "        \n",
              "  <svg xmlns=\"http://www.w3.org/2000/svg\" height=\"24px\"viewBox=\"0 0 24 24\"\n",
              "       width=\"24px\">\n",
              "    <path d=\"M0 0h24v24H0V0z\" fill=\"none\"/>\n",
              "    <path d=\"M18.56 5.44l.94 2.06.94-2.06 2.06-.94-2.06-.94-.94-2.06-.94 2.06-2.06.94zm-11 1L8.5 8.5l.94-2.06 2.06-.94-2.06-.94L8.5 2.5l-.94 2.06-2.06.94zm10 10l.94 2.06.94-2.06 2.06-.94-2.06-.94-.94-2.06-.94 2.06-2.06.94z\"/><path d=\"M17.41 7.96l-1.37-1.37c-.4-.4-.92-.59-1.43-.59-.52 0-1.04.2-1.43.59L10.3 9.45l-7.72 7.72c-.78.78-.78 2.05 0 2.83L4 21.41c.39.39.9.59 1.41.59.51 0 1.02-.2 1.41-.59l7.78-7.78 2.81-2.81c.8-.78.8-2.07 0-2.86zM5.41 20L4 18.59l7.72-7.72 1.47 1.35L5.41 20z\"/>\n",
              "  </svg>\n",
              "      </button>\n",
              "      \n",
              "  <style>\n",
              "    .colab-df-container {\n",
              "      display:flex;\n",
              "      flex-wrap:wrap;\n",
              "      gap: 12px;\n",
              "    }\n",
              "\n",
              "    .colab-df-convert {\n",
              "      background-color: #E8F0FE;\n",
              "      border: none;\n",
              "      border-radius: 50%;\n",
              "      cursor: pointer;\n",
              "      display: none;\n",
              "      fill: #1967D2;\n",
              "      height: 32px;\n",
              "      padding: 0 0 0 0;\n",
              "      width: 32px;\n",
              "    }\n",
              "\n",
              "    .colab-df-convert:hover {\n",
              "      background-color: #E2EBFA;\n",
              "      box-shadow: 0px 1px 2px rgba(60, 64, 67, 0.3), 0px 1px 3px 1px rgba(60, 64, 67, 0.15);\n",
              "      fill: #174EA6;\n",
              "    }\n",
              "\n",
              "    [theme=dark] .colab-df-convert {\n",
              "      background-color: #3B4455;\n",
              "      fill: #D2E3FC;\n",
              "    }\n",
              "\n",
              "    [theme=dark] .colab-df-convert:hover {\n",
              "      background-color: #434B5C;\n",
              "      box-shadow: 0px 1px 3px 1px rgba(0, 0, 0, 0.15);\n",
              "      filter: drop-shadow(0px 1px 2px rgba(0, 0, 0, 0.3));\n",
              "      fill: #FFFFFF;\n",
              "    }\n",
              "  </style>\n",
              "\n",
              "      <script>\n",
              "        const buttonEl =\n",
              "          document.querySelector('#df-b90d8edb-39d0-4f34-9c3d-00d729109d5e button.colab-df-convert');\n",
              "        buttonEl.style.display =\n",
              "          google.colab.kernel.accessAllowed ? 'block' : 'none';\n",
              "\n",
              "        async function convertToInteractive(key) {\n",
              "          const element = document.querySelector('#df-b90d8edb-39d0-4f34-9c3d-00d729109d5e');\n",
              "          const dataTable =\n",
              "            await google.colab.kernel.invokeFunction('convertToInteractive',\n",
              "                                                     [key], {});\n",
              "          if (!dataTable) return;\n",
              "\n",
              "          const docLinkHtml = 'Like what you see? Visit the ' +\n",
              "            '<a target=\"_blank\" href=https://colab.research.google.com/notebooks/data_table.ipynb>data table notebook</a>'\n",
              "            + ' to learn more about interactive tables.';\n",
              "          element.innerHTML = '';\n",
              "          dataTable['output_type'] = 'display_data';\n",
              "          await google.colab.output.renderOutput(dataTable, element);\n",
              "          const docLink = document.createElement('div');\n",
              "          docLink.innerHTML = docLinkHtml;\n",
              "          element.appendChild(docLink);\n",
              "        }\n",
              "      </script>\n",
              "    </div>\n",
              "  </div>\n",
              "  "
            ]
          },
          "metadata": {},
          "execution_count": 35
        }
      ],
      "source": [
        "pd.DataFrame(model_svm.dual_coef_)\n",
        "# the lagrange coefficients associated to the support vectors"
      ]
    },
    {
      "cell_type": "code",
      "execution_count": 36,
      "metadata": {
        "colab": {
          "base_uri": "https://localhost:8080/",
          "height": 708
        },
        "id": "RM8bxT-E1RXC",
        "outputId": "815c3a21-1c92-438e-91d6-1184bf113d18"
      },
      "outputs": [
        {
          "output_type": "execute_result",
          "data": {
            "text/plain": [
              "           0\n",
              "0  -0.236175\n",
              "1  -0.927271\n",
              "2  -0.384914\n",
              "3  -0.522222\n",
              "4  -0.750093\n",
              "5  -0.621677\n",
              "6  -0.400309\n",
              "7  -0.481849\n",
              "8  -0.593474\n",
              "9  -0.342533\n",
              "10 -0.681124\n",
              "11  0.151605\n",
              "12  0.002379\n",
              "13  0.107463\n",
              "14 -0.335562\n",
              "15 -0.096303\n",
              "16 -0.133967\n",
              "17 -0.430164\n",
              "18  0.036193\n",
              "19 -0.066280\n",
              "20 -0.288659"
            ],
            "text/html": [
              "\n",
              "  <div id=\"df-9ddfb4b1-4ba0-42db-b62b-8ead73987cc9\">\n",
              "    <div class=\"colab-df-container\">\n",
              "      <div>\n",
              "<style scoped>\n",
              "    .dataframe tbody tr th:only-of-type {\n",
              "        vertical-align: middle;\n",
              "    }\n",
              "\n",
              "    .dataframe tbody tr th {\n",
              "        vertical-align: top;\n",
              "    }\n",
              "\n",
              "    .dataframe thead th {\n",
              "        text-align: right;\n",
              "    }\n",
              "</style>\n",
              "<table border=\"1\" class=\"dataframe\">\n",
              "  <thead>\n",
              "    <tr style=\"text-align: right;\">\n",
              "      <th></th>\n",
              "      <th>0</th>\n",
              "    </tr>\n",
              "  </thead>\n",
              "  <tbody>\n",
              "    <tr>\n",
              "      <th>0</th>\n",
              "      <td>-0.236175</td>\n",
              "    </tr>\n",
              "    <tr>\n",
              "      <th>1</th>\n",
              "      <td>-0.927271</td>\n",
              "    </tr>\n",
              "    <tr>\n",
              "      <th>2</th>\n",
              "      <td>-0.384914</td>\n",
              "    </tr>\n",
              "    <tr>\n",
              "      <th>3</th>\n",
              "      <td>-0.522222</td>\n",
              "    </tr>\n",
              "    <tr>\n",
              "      <th>4</th>\n",
              "      <td>-0.750093</td>\n",
              "    </tr>\n",
              "    <tr>\n",
              "      <th>5</th>\n",
              "      <td>-0.621677</td>\n",
              "    </tr>\n",
              "    <tr>\n",
              "      <th>6</th>\n",
              "      <td>-0.400309</td>\n",
              "    </tr>\n",
              "    <tr>\n",
              "      <th>7</th>\n",
              "      <td>-0.481849</td>\n",
              "    </tr>\n",
              "    <tr>\n",
              "      <th>8</th>\n",
              "      <td>-0.593474</td>\n",
              "    </tr>\n",
              "    <tr>\n",
              "      <th>9</th>\n",
              "      <td>-0.342533</td>\n",
              "    </tr>\n",
              "    <tr>\n",
              "      <th>10</th>\n",
              "      <td>-0.681124</td>\n",
              "    </tr>\n",
              "    <tr>\n",
              "      <th>11</th>\n",
              "      <td>0.151605</td>\n",
              "    </tr>\n",
              "    <tr>\n",
              "      <th>12</th>\n",
              "      <td>0.002379</td>\n",
              "    </tr>\n",
              "    <tr>\n",
              "      <th>13</th>\n",
              "      <td>0.107463</td>\n",
              "    </tr>\n",
              "    <tr>\n",
              "      <th>14</th>\n",
              "      <td>-0.335562</td>\n",
              "    </tr>\n",
              "    <tr>\n",
              "      <th>15</th>\n",
              "      <td>-0.096303</td>\n",
              "    </tr>\n",
              "    <tr>\n",
              "      <th>16</th>\n",
              "      <td>-0.133967</td>\n",
              "    </tr>\n",
              "    <tr>\n",
              "      <th>17</th>\n",
              "      <td>-0.430164</td>\n",
              "    </tr>\n",
              "    <tr>\n",
              "      <th>18</th>\n",
              "      <td>0.036193</td>\n",
              "    </tr>\n",
              "    <tr>\n",
              "      <th>19</th>\n",
              "      <td>-0.066280</td>\n",
              "    </tr>\n",
              "    <tr>\n",
              "      <th>20</th>\n",
              "      <td>-0.288659</td>\n",
              "    </tr>\n",
              "  </tbody>\n",
              "</table>\n",
              "</div>\n",
              "      <button class=\"colab-df-convert\" onclick=\"convertToInteractive('df-9ddfb4b1-4ba0-42db-b62b-8ead73987cc9')\"\n",
              "              title=\"Convert this dataframe to an interactive table.\"\n",
              "              style=\"display:none;\">\n",
              "        \n",
              "  <svg xmlns=\"http://www.w3.org/2000/svg\" height=\"24px\"viewBox=\"0 0 24 24\"\n",
              "       width=\"24px\">\n",
              "    <path d=\"M0 0h24v24H0V0z\" fill=\"none\"/>\n",
              "    <path d=\"M18.56 5.44l.94 2.06.94-2.06 2.06-.94-2.06-.94-.94-2.06-.94 2.06-2.06.94zm-11 1L8.5 8.5l.94-2.06 2.06-.94-2.06-.94L8.5 2.5l-.94 2.06-2.06.94zm10 10l.94 2.06.94-2.06 2.06-.94-2.06-.94-.94-2.06-.94 2.06-2.06.94z\"/><path d=\"M17.41 7.96l-1.37-1.37c-.4-.4-.92-.59-1.43-.59-.52 0-1.04.2-1.43.59L10.3 9.45l-7.72 7.72c-.78.78-.78 2.05 0 2.83L4 21.41c.39.39.9.59 1.41.59.51 0 1.02-.2 1.41-.59l7.78-7.78 2.81-2.81c.8-.78.8-2.07 0-2.86zM5.41 20L4 18.59l7.72-7.72 1.47 1.35L5.41 20z\"/>\n",
              "  </svg>\n",
              "      </button>\n",
              "      \n",
              "  <style>\n",
              "    .colab-df-container {\n",
              "      display:flex;\n",
              "      flex-wrap:wrap;\n",
              "      gap: 12px;\n",
              "    }\n",
              "\n",
              "    .colab-df-convert {\n",
              "      background-color: #E8F0FE;\n",
              "      border: none;\n",
              "      border-radius: 50%;\n",
              "      cursor: pointer;\n",
              "      display: none;\n",
              "      fill: #1967D2;\n",
              "      height: 32px;\n",
              "      padding: 0 0 0 0;\n",
              "      width: 32px;\n",
              "    }\n",
              "\n",
              "    .colab-df-convert:hover {\n",
              "      background-color: #E2EBFA;\n",
              "      box-shadow: 0px 1px 2px rgba(60, 64, 67, 0.3), 0px 1px 3px 1px rgba(60, 64, 67, 0.15);\n",
              "      fill: #174EA6;\n",
              "    }\n",
              "\n",
              "    [theme=dark] .colab-df-convert {\n",
              "      background-color: #3B4455;\n",
              "      fill: #D2E3FC;\n",
              "    }\n",
              "\n",
              "    [theme=dark] .colab-df-convert:hover {\n",
              "      background-color: #434B5C;\n",
              "      box-shadow: 0px 1px 3px 1px rgba(0, 0, 0, 0.15);\n",
              "      filter: drop-shadow(0px 1px 2px rgba(0, 0, 0, 0.3));\n",
              "      fill: #FFFFFF;\n",
              "    }\n",
              "  </style>\n",
              "\n",
              "      <script>\n",
              "        const buttonEl =\n",
              "          document.querySelector('#df-9ddfb4b1-4ba0-42db-b62b-8ead73987cc9 button.colab-df-convert');\n",
              "        buttonEl.style.display =\n",
              "          google.colab.kernel.accessAllowed ? 'block' : 'none';\n",
              "\n",
              "        async function convertToInteractive(key) {\n",
              "          const element = document.querySelector('#df-9ddfb4b1-4ba0-42db-b62b-8ead73987cc9');\n",
              "          const dataTable =\n",
              "            await google.colab.kernel.invokeFunction('convertToInteractive',\n",
              "                                                     [key], {});\n",
              "          if (!dataTable) return;\n",
              "\n",
              "          const docLinkHtml = 'Like what you see? Visit the ' +\n",
              "            '<a target=\"_blank\" href=https://colab.research.google.com/notebooks/data_table.ipynb>data table notebook</a>'\n",
              "            + ' to learn more about interactive tables.';\n",
              "          element.innerHTML = '';\n",
              "          dataTable['output_type'] = 'display_data';\n",
              "          await google.colab.output.renderOutput(dataTable, element);\n",
              "          const docLink = document.createElement('div');\n",
              "          docLink.innerHTML = docLinkHtml;\n",
              "          element.appendChild(docLink);\n",
              "        }\n",
              "      </script>\n",
              "    </div>\n",
              "  </div>\n",
              "  "
            ]
          },
          "metadata": {},
          "execution_count": 36
        }
      ],
      "source": [
        "pd.DataFrame(model_svm.intercept_)\n",
        "# the constants of the model"
      ]
    },
    {
      "cell_type": "code",
      "execution_count": 37,
      "metadata": {
        "colab": {
          "base_uri": "https://localhost:8080/"
        },
        "id": "eR9liA6_1RXD",
        "outputId": "f2953952-ab2f-4e0d-9140-9c8a2ae64815"
      },
      "outputs": [
        {
          "output_type": "execute_result",
          "data": {
            "text/plain": [
              "1.0"
            ]
          },
          "metadata": {},
          "execution_count": 37
        }
      ],
      "source": [
        "model_svm.score(X_train_scaled, data_train.label)"
      ]
    },
    {
      "cell_type": "code",
      "execution_count": 38,
      "metadata": {
        "colab": {
          "base_uri": "https://localhost:8080/"
        },
        "id": "G30baa8N1RXD",
        "outputId": "0ffa8f7c-ba81-46d5-937d-f3b57360028b"
      },
      "outputs": [
        {
          "output_type": "execute_result",
          "data": {
            "text/plain": [
              "0.7215686274509804"
            ]
          },
          "metadata": {},
          "execution_count": 38
        }
      ],
      "source": [
        "# Sur le jeu de validation\n",
        "model_svm.score(X_valid_scaled, data_valid.label)"
      ]
    },
    {
      "cell_type": "markdown",
      "metadata": {
        "id": "36dqSXiD1RXE"
      },
      "source": [
        "On obtient une précision de 72,15% sur le jeu de validation. Est-ce que ce modèle peut-être amélioré ?"
      ]
    },
    {
      "cell_type": "markdown",
      "metadata": {
        "id": "QLVKSKUJ1RXE"
      },
      "source": [
        "#### Ajustement du modèle"
      ]
    },
    {
      "cell_type": "markdown",
      "metadata": {
        "id": "fOqj5H0J1RXF"
      },
      "source": [
        "Le modèle peut être amélioré en jouant sur le paramètre C"
      ]
    },
    {
      "cell_type": "code",
      "execution_count": 39,
      "metadata": {
        "colab": {
          "base_uri": "https://localhost:8080/"
        },
        "id": "V5xXyzod1RXF",
        "outputId": "5e42104f-040d-4bdf-ca29-06850703fcdd"
      },
      "outputs": [
        {
          "output_type": "stream",
          "name": "stdout",
          "text": [
            "Meilleur valeur de C: 0.004641588833612777, Score associé: 0.757\n"
          ]
        }
      ],
      "source": [
        "Cs = np.logspace(-3, 3, num=10)\n",
        "train_scores, valid_scores = [], []\n",
        "for c in Cs:\n",
        "    model_svm = SVC(C = c, kernel = 'linear', random_state=42).fit(X_train_scaled, data_train.label)\n",
        "    train_scores.append(model_svm.score(X_train_scaled, data_train.label))\n",
        "    valid_scores.append(model_svm.score(X_valid_scaled, data_valid.label))\n",
        "    \n",
        "max_score_index = valid_scores.index(max(valid_scores))\n",
        "print(f'Meilleur valeur de C: {Cs[max_score_index]}, Score associé: {round(max(valid_scores),3)}')"
      ]
    },
    {
      "cell_type": "code",
      "execution_count": 40,
      "metadata": {
        "colab": {
          "base_uri": "https://localhost:8080/",
          "height": 408
        },
        "id": "DUdhKFZ31RXF",
        "outputId": "353a41bd-97c5-44f6-d9ed-2a7797488938"
      },
      "outputs": [
        {
          "output_type": "display_data",
          "data": {
            "text/plain": [
              "<Figure size 576x432 with 1 Axes>"
            ],
            "image/png": "[encoded data removed]"
          },
          "metadata": {
            "needs_background": "light"
          }
        }
      ],
      "source": [
        "# Les scores d'entrainement et de validation en fonction des valeurs de C\n",
        "max_score_index = valid_scores.index(max(valid_scores))\n",
        "plt.figure(figsize=(8, 6))\n",
        "plt.plot(Cs, train_scores, 'b-', label='Entrainement')\n",
        "plt.plot(Cs, valid_scores, 'r-', label='Validation')\n",
        "plt.xlabel('Alpha')\n",
        "plt.ylabel('Scores')\n",
        "plt.tick_params('y', colors='r')\n",
        "plt.xscale('log')\n",
        "\n",
        "# Meilleur score de validation\n",
        "plt.plot(Cs[max_score_index], valid_scores[max_score_index], 'ro', label='Meilleure score')\n",
        "plt.annotate(f'Meilleur Score = {round(max(valid_scores)*100, 3)}% C = {round(Cs[max_score_index], 5)}',\n",
        "             xy=(Cs[max_score_index], valid_scores[max_score_index]+0.01), color='red')\n",
        "\n",
        "# Legende et titre\n",
        "plt.legend(loc='best')\n",
        "plt.title('Les scores d\\'entrainement et de validation en fonction des valeurs de C')\n",
        "\n",
        "# Show the plot\n",
        "plt.show()"
      ]
    },
    {
      "cell_type": "markdown",
      "metadata": {
        "id": "VNPWp6cm1RXG"
      },
      "source": [
        "Le meilleur score est obtenu avec le paramètre c=0.1 et est de 75,68%. Au-delà de C=0.01, on tombe dans du sur-apprentissage et le modèle baisse en efficacité sur de nouvelles données."
      ]
    },
    {
      "cell_type": "code",
      "execution_count": 41,
      "metadata": {
        "colab": {
          "base_uri": "https://localhost:8080/"
        },
        "id": "jO4cyA5w1RXI",
        "outputId": "ba6b6145-62fd-471e-8834-253f476aa864"
      },
      "outputs": [
        {
          "output_type": "execute_result",
          "data": {
            "text/plain": [
              "0.7607843137254902"
            ]
          },
          "metadata": {},
          "execution_count": 41
        }
      ],
      "source": [
        "model_svm = SVC(C = Cs[max_score_index], kernel = 'linear', random_state=42).fit(X_train_scaled, data_train.label)\n",
        "model_svm.score(X_test_scaled, data_test.label)"
      ]
    },
    {
      "cell_type": "markdown",
      "metadata": {
        "id": "00JJmKcZ1RXJ"
      },
      "source": [
        "On obtient un score de 76,07% sur le jeu de test. Ce score est au-dessus du score de validation. Notre modèle généralise bien."
      ]
    },
    {
      "cell_type": "markdown",
      "metadata": {
        "id": "Q60foxkU1RXL"
      },
      "source": [
        "#### Soumission des résultats sur Kaggle"
      ]
    },
    {
      "cell_type": "code",
      "execution_count": 500,
      "metadata": {
        "colab": {
          "base_uri": "https://localhost:8080/"
        },
        "id": "CgR4kwjO1RXM",
        "outputId": "b11bbc89-a6f9-4748-9537-3cdad3251a32"
      },
      "outputs": [
        {
          "output_type": "execute_result",
          "data": {
            "text/plain": [
              "array([22, 16, 16, 16, 16,  6, 18, 22, 18, 18,  2,  6, 22, 18,  6,  1,  6,\n",
              "       18, 18, 12,  2,  1, 16, 12, 12,  1, 16, 18,  1,  2,  6,  2, 18,  1,\n",
              "       18,  2,  1,  2,  1,  6, 16, 22,  2,  6,  2,  6,  6, 16,  6, 18, 16,\n",
              "        1, 12, 12, 18, 12, 18,  6, 12, 18,  6, 16,  6, 22, 18, 18,  2, 22,\n",
              "       12, 16, 18,  6, 16,  6,  1, 18, 12, 22, 18,  1, 12, 12,  1,  6, 22,\n",
              "       18,  1, 12, 22,  2, 22, 22, 22, 22,  2, 22,  1, 12, 22, 12, 12, 12,\n",
              "       16, 18, 22,  6,  6,  2, 18,  2, 12,  2,  2,  1, 16,  2,  2, 16, 18,\n",
              "       18,  1,  6, 22, 16, 12, 16,  1,  2, 22, 22,  6, 22, 18, 12,  2,  2,\n",
              "       18,  2,  1, 12, 22, 18, 12, 22, 22, 18,  6, 22, 12, 18, 18,  6,  1,\n",
              "        6, 16,  6,  6, 16,  2, 12,  1,  6, 22, 18, 16, 22,  6, 16,  1,  1,\n",
              "        6,  2,  2, 16, 16, 16, 22,  6,  2,  1,  1,  2,  1, 18, 12, 12, 12,\n",
              "        2, 18, 16, 18,  1,  1,  6,  6,  6, 12,  1, 22,  2,  1, 18, 22,  2,\n",
              "        2, 22,  1,  1, 12, 12, 16,  6,  1,  6,  6,  6, 18, 18, 12,  2,  1,\n",
              "        1, 18, 22,  6,  2,  1,  1,  2,  6,  6, 16, 22,  6,  1, 16,  2,  1,\n",
              "       18, 22, 22, 16,  2, 18,  6, 22, 22, 18,  6,  1,  6, 18, 22,  2,  1,\n",
              "       12, 12, 12,  2, 18,  2,  1,  6, 16,  6,  6,  6,  2,  2, 22,  6,  2,\n",
              "       18, 22, 18,  6, 18, 22,  2, 22, 12,  6, 12,  6,  2,  6, 22,  6,  1,\n",
              "        6, 12, 22, 12, 16, 16, 18,  1,  2, 16, 16, 12,  6, 12,  6, 16,  6,\n",
              "       16,  2, 12,  2, 16,  6, 18,  1,  6,  2, 12, 16, 12,  6,  1,  6,  6,\n",
              "        6, 22, 18,  6, 16, 18,  2,  2,  6, 18,  1,  1,  1,  1, 12,  2, 18,\n",
              "       12,  2, 12,  1, 18, 18, 12, 16, 12, 16,  6, 22,  1, 22, 22, 12, 12,\n",
              "        1,  2, 22,  2, 12, 12, 22, 18,  2,  1,  1, 12,  1,  1, 12, 18, 16,\n",
              "        2,  2,  1,  1,  1,  2,  1, 18, 18,  6, 18, 12, 12,  2, 22, 12,  6,\n",
              "       16,  2, 22,  6, 16, 16, 22,  2,  1,  1,  2,  6,  1,  6, 16,  1, 22,\n",
              "        2, 22,  1, 18,  6, 22,  1,  6, 12,  6, 12,  6,  2, 16,  6, 12,  2,\n",
              "        6,  6, 18, 16,  6, 12, 16, 12, 12, 18, 22, 16,  2,  6,  6,  2,  2,\n",
              "       18, 22, 18, 16,  6, 16, 18,  6, 16, 16, 22, 12, 12,  2, 12, 16,  6,\n",
              "        6,  6, 18, 16,  2,  6, 22,  2, 12, 16,  2,  1, 18,  6,  6,  1, 18,\n",
              "       16,  1,  2,  2,  1,  2, 16, 12,  6,  6, 22, 18, 12,  6,  1, 12,  2,\n",
              "        1, 12, 22, 16, 18, 22, 12])"
            ]
          },
          "metadata": {},
          "execution_count": 500
        }
      ],
      "source": [
        "# Prédiction du modèle sur la dataset competition mise à échelle\n",
        "competition_scaled = scaler.transform(competition)\n",
        "competition_scaled = pd.DataFrame(competition_scaled, columns=competition.columns)\n",
        "\n",
        "pred = model_svm.predict(competition_scaled.iloc[:,:])\n",
        "pred"
      ]
    },
    {
      "cell_type": "code",
      "execution_count": 43,
      "metadata": {
        "colab": {
          "base_uri": "https://localhost:8080/",
          "height": 424
        },
        "id": "1efsGY5R1RXM",
        "outputId": "322ce16c-e53a-46a7-ca11-bd2d8aa76ca3"
      },
      "outputs": [
        {
          "output_type": "execute_result",
          "data": {
            "text/plain": [
              "      Id  label\n",
              "0      1     22\n",
              "1      2     16\n",
              "2      3     16\n",
              "3      4     16\n",
              "4      5     16\n",
              "..   ...    ...\n",
              "495  496     22\n",
              "496  497     16\n",
              "497  498     18\n",
              "498  499     22\n",
              "499  500     12\n",
              "\n",
              "[500 rows x 2 columns]"
            ],
            "text/html": [
              "\n",
              "  <div id=\"df-453f6225-17b3-4a18-83c7-3ab814a916eb\">\n",
              "    <div class=\"colab-df-container\">\n",
              "      <div>\n",
              "<style scoped>\n",
              "    .dataframe tbody tr th:only-of-type {\n",
              "        vertical-align: middle;\n",
              "    }\n",
              "\n",
              "    .dataframe tbody tr th {\n",
              "        vertical-align: top;\n",
              "    }\n",
              "\n",
              "    .dataframe thead th {\n",
              "        text-align: right;\n",
              "    }\n",
              "</style>\n",
              "<table border=\"1\" class=\"dataframe\">\n",
              "  <thead>\n",
              "    <tr style=\"text-align: right;\">\n",
              "      <th></th>\n",
              "      <th>Id</th>\n",
              "      <th>label</th>\n",
              "    </tr>\n",
              "  </thead>\n",
              "  <tbody>\n",
              "    <tr>\n",
              "      <th>0</th>\n",
              "      <td>1</td>\n",
              "      <td>22</td>\n",
              "    </tr>\n",
              "    <tr>\n",
              "      <th>1</th>\n",
              "      <td>2</td>\n",
              "      <td>16</td>\n",
              "    </tr>\n",
              "    <tr>\n",
              "      <th>2</th>\n",
              "      <td>3</td>\n",
              "      <td>16</td>\n",
              "    </tr>\n",
              "    <tr>\n",
              "      <th>3</th>\n",
              "      <td>4</td>\n",
              "      <td>16</td>\n",
              "    </tr>\n",
              "    <tr>\n",
              "      <th>4</th>\n",
              "      <td>5</td>\n",
              "      <td>16</td>\n",
              "    </tr>\n",
              "    <tr>\n",
              "      <th>...</th>\n",
              "      <td>...</td>\n",
              "      <td>...</td>\n",
              "    </tr>\n",
              "    <tr>\n",
              "      <th>495</th>\n",
              "      <td>496</td>\n",
              "      <td>22</td>\n",
              "    </tr>\n",
              "    <tr>\n",
              "      <th>496</th>\n",
              "      <td>497</td>\n",
              "      <td>16</td>\n",
              "    </tr>\n",
              "    <tr>\n",
              "      <th>497</th>\n",
              "      <td>498</td>\n",
              "      <td>18</td>\n",
              "    </tr>\n",
              "    <tr>\n",
              "      <th>498</th>\n",
              "      <td>499</td>\n",
              "      <td>22</td>\n",
              "    </tr>\n",
              "    <tr>\n",
              "      <th>499</th>\n",
              "      <td>500</td>\n",
              "      <td>12</td>\n",
              "    </tr>\n",
              "  </tbody>\n",
              "</table>\n",
              "<p>500 rows × 2 columns</p>\n",
              "</div>\n",
              "      <button class=\"colab-df-convert\" onclick=\"convertToInteractive('df-453f6225-17b3-4a18-83c7-3ab814a916eb')\"\n",
              "              title=\"Convert this dataframe to an interactive table.\"\n",
              "              style=\"display:none;\">\n",
              "        \n",
              "  <svg xmlns=\"http://www.w3.org/2000/svg\" height=\"24px\"viewBox=\"0 0 24 24\"\n",
              "       width=\"24px\">\n",
              "    <path d=\"M0 0h24v24H0V0z\" fill=\"none\"/>\n",
              "    <path d=\"M18.56 5.44l.94 2.06.94-2.06 2.06-.94-2.06-.94-.94-2.06-.94 2.06-2.06.94zm-11 1L8.5 8.5l.94-2.06 2.06-.94-2.06-.94L8.5 2.5l-.94 2.06-2.06.94zm10 10l.94 2.06.94-2.06 2.06-.94-2.06-.94-.94-2.06-.94 2.06-2.06.94z\"/><path d=\"M17.41 7.96l-1.37-1.37c-.4-.4-.92-.59-1.43-.59-.52 0-1.04.2-1.43.59L10.3 9.45l-7.72 7.72c-.78.78-.78 2.05 0 2.83L4 21.41c.39.39.9.59 1.41.59.51 0 1.02-.2 1.41-.59l7.78-7.78 2.81-2.81c.8-.78.8-2.07 0-2.86zM5.41 20L4 18.59l7.72-7.72 1.47 1.35L5.41 20z\"/>\n",
              "  </svg>\n",
              "      </button>\n",
              "      \n",
              "  <style>\n",
              "    .colab-df-container {\n",
              "      display:flex;\n",
              "      flex-wrap:wrap;\n",
              "      gap: 12px;\n",
              "    }\n",
              "\n",
              "    .colab-df-convert {\n",
              "      background-color: #E8F0FE;\n",
              "      border: none;\n",
              "      border-radius: 50%;\n",
              "      cursor: pointer;\n",
              "      display: none;\n",
              "      fill: #1967D2;\n",
              "      height: 32px;\n",
              "      padding: 0 0 0 0;\n",
              "      width: 32px;\n",
              "    }\n",
              "\n",
              "    .colab-df-convert:hover {\n",
              "      background-color: #E2EBFA;\n",
              "      box-shadow: 0px 1px 2px rgba(60, 64, 67, 0.3), 0px 1px 3px 1px rgba(60, 64, 67, 0.15);\n",
              "      fill: #174EA6;\n",
              "    }\n",
              "\n",
              "    [theme=dark] .colab-df-convert {\n",
              "      background-color: #3B4455;\n",
              "      fill: #D2E3FC;\n",
              "    }\n",
              "\n",
              "    [theme=dark] .colab-df-convert:hover {\n",
              "      background-color: #434B5C;\n",
              "      box-shadow: 0px 1px 3px 1px rgba(0, 0, 0, 0.15);\n",
              "      filter: drop-shadow(0px 1px 2px rgba(0, 0, 0, 0.3));\n",
              "      fill: #FFFFFF;\n",
              "    }\n",
              "  </style>\n",
              "\n",
              "      <script>\n",
              "        const buttonEl =\n",
              "          document.querySelector('#df-453f6225-17b3-4a18-83c7-3ab814a916eb button.colab-df-convert');\n",
              "        buttonEl.style.display =\n",
              "          google.colab.kernel.accessAllowed ? 'block' : 'none';\n",
              "\n",
              "        async function convertToInteractive(key) {\n",
              "          const element = document.querySelector('#df-453f6225-17b3-4a18-83c7-3ab814a916eb');\n",
              "          const dataTable =\n",
              "            await google.colab.kernel.invokeFunction('convertToInteractive',\n",
              "                                                     [key], {});\n",
              "          if (!dataTable) return;\n",
              "\n",
              "          const docLinkHtml = 'Like what you see? Visit the ' +\n",
              "            '<a target=\"_blank\" href=https://colab.research.google.com/notebooks/data_table.ipynb>data table notebook</a>'\n",
              "            + ' to learn more about interactive tables.';\n",
              "          element.innerHTML = '';\n",
              "          dataTable['output_type'] = 'display_data';\n",
              "          await google.colab.output.renderOutput(dataTable, element);\n",
              "          const docLink = document.createElement('div');\n",
              "          docLink.innerHTML = docLinkHtml;\n",
              "          element.appendChild(docLink);\n",
              "        }\n",
              "      </script>\n",
              "    </div>\n",
              "  </div>\n",
              "  "
            ]
          },
          "metadata": {},
          "execution_count": 43
        }
      ],
      "source": [
        "# we put this predictions in a DataFrame with the right format expected by kaggle\n",
        "df = pd.DataFrame(np.arange(1,501), columns=['Id'])\n",
        "df['label'] = pred\n",
        "df"
      ]
    },
    {
      "cell_type": "code",
      "execution_count": 44,
      "metadata": {
        "id": "buyO3kAZ1RXM"
      },
      "outputs": [],
      "source": [
        "df.to_csv('svm_linear_on_competition.csv', index=False)"
      ]
    },
    {
      "cell_type": "markdown",
      "metadata": {
        "id": "3HdP1Lq61RXN"
      },
      "source": [
        "On est parvenu à augmenter la précision de notre modèle linéaire en changeant le paramètre C. \n",
        "Essayons de mettre de la non-linéarité dans notre modèle grâce au paramètre gamma et observons les performances du modèle."
      ]
    },
    {
      "cell_type": "markdown",
      "metadata": {
        "id": "SbERHuI21RXN"
      },
      "source": [
        "### SVM Polynomiale"
      ]
    },
    {
      "cell_type": "markdown",
      "metadata": {
        "id": "i6DHs5gf1RXO"
      },
      "source": [
        "On maintient le paramètre C=0.01 obtenu sur le modèle linéaire."
      ]
    },
    {
      "cell_type": "markdown",
      "metadata": {
        "id": "ZTmkkxDC1RXO"
      },
      "source": [
        "#### Création du modèle"
      ]
    },
    {
      "cell_type": "code",
      "execution_count": 45,
      "metadata": {
        "colab": {
          "base_uri": "https://localhost:8080/"
        },
        "id": "mbpOW0d71RXO",
        "outputId": "2d4f1221-a139-4052-81c9-a7b616898ea6"
      },
      "outputs": [
        {
          "output_type": "stream",
          "name": "stdout",
          "text": [
            "Training score : 0.1722689075630252\n",
            "Validation score : 0.12156862745098039\n",
            "Test score : 0.13725490196078433\n"
          ]
        }
      ],
      "source": [
        "model_svm_poly = SVC(C = Cs[max_score_index], kernel = 'poly', random_state=42).fit(X_train_scaled, data_train.label)\n",
        "print('Training score :', model_svm_poly.score(X_train_scaled, data_train.label))\n",
        "print('Validation score :',model_svm_poly.score(X_valid_scaled, data_valid.label))\n",
        "print('Test score :',model_svm_poly.score(X_test_scaled, data_test.label))"
      ]
    },
    {
      "cell_type": "markdown",
      "metadata": {
        "id": "dK5qI4YC1RXP"
      },
      "source": [
        "On obtient des scores très bas par rapport au SVM linéaire. Changeons les valeurs de gamma et de C."
      ]
    },
    {
      "cell_type": "markdown",
      "metadata": {
        "id": "lwxDtIAF1RXP"
      },
      "source": [
        "#### Amélioration du modèle"
      ]
    },
    {
      "cell_type": "code",
      "execution_count": 46,
      "metadata": {
        "colab": {
          "base_uri": "https://localhost:8080/"
        },
        "id": "om8nxWAv1RXP",
        "outputId": "e7cafe89-88f4-45bf-f3aa-8f3c444f6b81"
      },
      "outputs": [
        {
          "output_type": "stream",
          "name": "stdout",
          "text": [
            "Meilleur gamma: 0.001, Meilleur c: 1000.0 , Score associé: 0.7803921568627451\n"
          ]
        }
      ],
      "source": [
        "gammas = np.logspace(-3, 3, num=10)\n",
        "train_scores, valid_scores = [], []\n",
        "best_score = 0.0\n",
        "best_gamma = 0.0\n",
        "best_c = 0.001\n",
        "for g in gammas:\n",
        "    for c in Cs:\n",
        "        model_svm_poly = SVC(C = c, kernel = 'poly', gamma=g, random_state=42).fit(X_train_scaled, data_train.label)\n",
        "        score = model_svm_poly.score(X_valid_scaled, data_valid.label)\n",
        "        if score>best_score:\n",
        "            best_score=score\n",
        "            best_gamma = g\n",
        "            best_c = c\n",
        "        \n",
        "print(f'Meilleur gamma: {best_gamma}, Meilleur c: {best_c} , Score associé: {best_score}')"
      ]
    },
    {
      "cell_type": "code",
      "execution_count": 47,
      "metadata": {
        "colab": {
          "base_uri": "https://localhost:8080/"
        },
        "id": "-RIa7WUW1RXQ",
        "outputId": "c4a32eac-07c8-4999-fed0-03daabb44ee0"
      },
      "outputs": [
        {
          "output_type": "execute_result",
          "data": {
            "text/plain": [
              "0.7803921568627451"
            ]
          },
          "metadata": {},
          "execution_count": 47
        }
      ],
      "source": [
        "model_svm_poly = SVC(kernel = 'poly', C = best_c, gamma=best_gamma).fit(X_train_scaled, data_train.label)\n",
        "model_svm_poly.score(X_valid_scaled, data_valid.label)"
      ]
    },
    {
      "cell_type": "markdown",
      "metadata": {
        "id": "mN2-97_91RXQ"
      },
      "source": [
        "On a un score de 78,03% sur le jeu de validation, ce qui est meilleur qu'en svm linéaire"
      ]
    },
    {
      "cell_type": "code",
      "execution_count": 48,
      "metadata": {
        "colab": {
          "base_uri": "https://localhost:8080/"
        },
        "id": "_GM57PEf1RXR",
        "outputId": "2272662d-7f36-4d7e-d905-31977c2a3317"
      },
      "outputs": [
        {
          "output_type": "execute_result",
          "data": {
            "text/plain": [
              "0.807843137254902"
            ]
          },
          "metadata": {},
          "execution_count": 48
        }
      ],
      "source": [
        "model_svm_poly.score(X_test_scaled, data_test.label)"
      ]
    },
    {
      "cell_type": "markdown",
      "metadata": {
        "id": "Bci6p8gq1RXR"
      },
      "source": [
        "Le modèle a une précision 80,78% sur le jeu de test. Ceci montre une très bonne capacité de généralisation."
      ]
    },
    {
      "cell_type": "markdown",
      "metadata": {
        "id": "TspDSIWW1RXS"
      },
      "source": [
        "#### Soumission sur Kaggle"
      ]
    },
    {
      "cell_type": "code",
      "execution_count": 49,
      "metadata": {
        "id": "WmzZy15S1RXS"
      },
      "outputs": [],
      "source": [
        "# Prédiction du modèle dt_pruned sur la dataset competition\n",
        "pred = model_svm.predict(competition_scaled)\n",
        "# we put this predictions in a DataFrame with the right format expected by kaggle\n",
        "df = pd.DataFrame(np.arange(1,501), columns=['Id'])\n",
        "df['label'] = pred\n",
        "df.to_csv('svm_poly_on_competition_scaled.csv', index=False)"
      ]
    },
    {
      "cell_type": "markdown",
      "metadata": {
        "id": "72CQBgZy1RXT"
      },
      "source": [
        "### SVM RBF"
      ]
    },
    {
      "cell_type": "markdown",
      "metadata": {
        "id": "jG4h2Kzc1RXT"
      },
      "source": [
        "On gardera les mêmes valeurs d'hyper paramètres pour tester le modèle avec le noyeau RBF."
      ]
    },
    {
      "cell_type": "markdown",
      "metadata": {
        "id": "LCSOpgZ-1RXU"
      },
      "source": [
        "#### Création du modèle"
      ]
    },
    {
      "cell_type": "code",
      "execution_count": 50,
      "metadata": {
        "colab": {
          "base_uri": "https://localhost:8080/"
        },
        "id": "OpIcGMWj1RXV",
        "outputId": "816bd883-5205-4d20-c1b4-4bdad2a92b8f"
      },
      "outputs": [
        {
          "output_type": "stream",
          "name": "stdout",
          "text": [
            "Training score : 1.0\n",
            "Validation score : 0.7568627450980392\n"
          ]
        }
      ],
      "source": [
        "model_svm_rbf = SVC(kernel = 'rbf', C = best_c, gamma=best_gamma, random_state=42).fit(X_train_scaled, data_train.label)\n",
        "print('Training score :', model_svm_rbf.score(X_train_scaled, data_train.label))\n",
        "print('Validation score :', model_svm_rbf.score(X_valid_scaled, data_valid.label))"
      ]
    },
    {
      "cell_type": "markdown",
      "metadata": {
        "id": "vHGOe-ub1RXW"
      },
      "source": [
        "On obtient un score de validation bas par rapport au SVM polynomial. On peut faire varier les hyper-paramètres comme précedemment."
      ]
    },
    {
      "cell_type": "markdown",
      "metadata": {
        "id": "MAq7eonf1RXX"
      },
      "source": [
        "#### Amélioration du modèle du modèle."
      ]
    },
    {
      "cell_type": "code",
      "execution_count": 51,
      "metadata": {
        "colab": {
          "base_uri": "https://localhost:8080/"
        },
        "id": "pbi7Yyqp1RXY",
        "outputId": "61ae6c4d-cc8b-434f-d9e2-0b3be027830a"
      },
      "outputs": [
        {
          "output_type": "stream",
          "name": "stdout",
          "text": [
            "Meilleur gamma: 0.001, Meilleur c: 100.0 , Score associé: 0.7568627450980392\n"
          ]
        }
      ],
      "source": [
        "best_score = 0.0\n",
        "best_gamma = 0.0\n",
        "best_c = 0.001\n",
        "gammas = np.logspace(-3, 3, num=7)\n",
        "Cs = np.logspace(-3,3,num=7)\n",
        "for g in gammas:\n",
        "    for c in Cs:\n",
        "        model_svm_poly = SVC(kernel = 'rbf', C = c, gamma=g, random_state=42).fit(X_train_scaled, data_train.label)\n",
        "        score = model_svm_poly.score(X_valid_scaled, data_valid.label)\n",
        "        if score>best_score:\n",
        "            best_score=score\n",
        "            best_gamma = g\n",
        "            best_c = c\n",
        "        \n",
        "print(f'Meilleur gamma: {best_gamma}, Meilleur c: {best_c} , Score associé: {best_score}')"
      ]
    },
    {
      "cell_type": "markdown",
      "metadata": {
        "id": "Ve7jz-rL1RXZ"
      },
      "source": [
        "On atteint une précision 75,68% à partir de c=100 et gamma=0.001. Au-délà, le score n'augmente plus."
      ]
    },
    {
      "cell_type": "code",
      "execution_count": 52,
      "metadata": {
        "colab": {
          "base_uri": "https://localhost:8080/"
        },
        "id": "0tsILYnn1RXZ",
        "outputId": "7338cba3-f5bb-4b1b-9a78-b5415bdbafc1"
      },
      "outputs": [
        {
          "output_type": "execute_result",
          "data": {
            "text/plain": [
              "0.7411764705882353"
            ]
          },
          "metadata": {},
          "execution_count": 52
        }
      ],
      "source": [
        "model_svm_rbf = SVC(kernel='rbf', gamma=best_gamma, C=best_c, random_state=42).fit(X_train_scaled, data_train.label)\n",
        "model_svm_rbf.score(X_test_scaled, data_test.label)"
      ]
    },
    {
      "cell_type": "markdown",
      "metadata": {
        "id": "IcySJQHS1RXZ"
      },
      "source": [
        "On a un score de 74,11% sur le jeu de test, plus faible que les modèles précedents."
      ]
    },
    {
      "cell_type": "markdown",
      "metadata": {
        "id": "lzGNQFyo1RXa"
      },
      "source": [
        "#### Soumission sur Kaggle"
      ]
    },
    {
      "cell_type": "code",
      "execution_count": 53,
      "metadata": {
        "id": "-cUf9eBh1RXa"
      },
      "outputs": [],
      "source": [
        "# Prédiction du modèle dt_pruned sur la dataset competition\n",
        "pred = model_svm_rbf.predict(competition_scaled)\n",
        "# we put this predictions in a DataFrame with the right format expected by kaggle\n",
        "df = pd.DataFrame(np.arange(1,501), columns=['Id'])\n",
        "df['label'] = pred\n",
        "df.to_csv('svm_rbf_on_competition_scaled.csv', index=False)"
      ]
    },
    {
      "cell_type": "markdown",
      "metadata": {
        "id": "Omy41Gil1RXb"
      },
      "source": [
        "## K-nearest-neighbour"
      ]
    },
    {
      "cell_type": "markdown",
      "metadata": {
        "id": "sYzQGUHO1RXb"
      },
      "source": [
        "L'algorithme k-plus-proches-voisins est une méthode supervisée pour classifier les données en fonction de leurs similarités avec d'autres individus. Chaque individu est classé ensemble avec les k-voisins qui partagent majoritairement les mêmes traits que lui."
      ]
    },
    {
      "cell_type": "markdown",
      "metadata": {
        "id": "omyMvtI01RXb"
      },
      "source": [
        "### Création du modèle"
      ]
    },
    {
      "cell_type": "code",
      "execution_count": 54,
      "metadata": {
        "colab": {
          "base_uri": "https://localhost:8080/"
        },
        "id": "P5MtJcdb1RXc",
        "outputId": "927aeae1-2395-4ad7-cb29-848fb19f5327"
      },
      "outputs": [
        {
          "output_type": "execute_result",
          "data": {
            "text/plain": [
              "KNeighborsClassifier(n_neighbors=1)"
            ]
          },
          "metadata": {},
          "execution_count": 54
        }
      ],
      "source": [
        "model_1nn = KNeighborsClassifier(n_neighbors=1)\n",
        "model_1nn.fit(X_train_scaled, data_train.label)"
      ]
    },
    {
      "cell_type": "code",
      "execution_count": 55,
      "metadata": {
        "colab": {
          "base_uri": "https://localhost:8080/"
        },
        "id": "bVDm6St31RXc",
        "outputId": "0b6fb266-084c-4b5f-cb2d-98ab036367ac"
      },
      "outputs": [
        {
          "output_type": "execute_result",
          "data": {
            "text/plain": [
              "0.7372549019607844"
            ]
          },
          "metadata": {},
          "execution_count": 55
        }
      ],
      "source": [
        "model_1nn.score(X_valid_scaled, data_valid.label)"
      ]
    },
    {
      "cell_type": "markdown",
      "metadata": {
        "id": "_gqULg-_1RXc"
      },
      "source": [
        "On obtient une précision de 73,72% sur le jeu de validation. On va essayer d'améliorer ce score en augmentant le nombre de voisins K."
      ]
    },
    {
      "cell_type": "markdown",
      "metadata": {
        "id": "AJV_o2DP1RXd"
      },
      "source": [
        "### Amélioration du modèle"
      ]
    },
    {
      "cell_type": "code",
      "execution_count": 56,
      "metadata": {
        "id": "4xH3OvH01RXd"
      },
      "outputs": [],
      "source": [
        "# On prend un nombre de voisins entre 1 100 par pas de 2 voisins.\n",
        "Ks = []\n",
        "scores = []\n",
        "for k in range(1, 100, 2):\n",
        "    Ks.append(k)\n",
        "    model = KNeighborsClassifier(n_neighbors=k).fit(X_train_scaled, data_train.label)\n",
        "    score = model.score(X_valid_scaled, data_valid.label)\n",
        "    scores.append(score)"
      ]
    },
    {
      "cell_type": "code",
      "execution_count": 57,
      "metadata": {
        "colab": {
          "base_uri": "https://localhost:8080/",
          "height": 404
        },
        "id": "VxTyN85K1RXd",
        "outputId": "3c3edbc8-eb34-44da-8240-69a9e1c15be7"
      },
      "outputs": [
        {
          "output_type": "display_data",
          "data": {
            "text/plain": [
              "<Figure size 720x432 with 1 Axes>"
            ],
            "image/png": "[encoded data removed]"
          },
          "metadata": {
            "needs_background": "light"
          }
        }
      ],
      "source": [
        "# Plotting the scores per K value\n",
        "max_score_index = scores.index(max(scores))\n",
        "\n",
        "plt.figure(figsize=(10, 6))\n",
        "plt.plot(Ks, scores, '-o', label='Scores')\n",
        "plt.plot(Ks[max_score_index], scores[max_score_index], 'ro', label='Best score')\n",
        "plt.annotate('K = {}, score = {}'.format(Ks[max_score_index], round(max(scores), 3)),\n",
        "             xy=(Ks[max_score_index]+0.5, scores[max_score_index]), color='red')\n",
        "plt.xlabel('K')\n",
        "plt.ylabel('Score')\n",
        "plt.title('Validation Scores vs K (K-Nearest Neighbour)')\n",
        "plt.legend()\n",
        "plt.show()\n"
      ]
    },
    {
      "cell_type": "markdown",
      "metadata": {
        "id": "eyloaoTI1RXf"
      },
      "source": [
        "Aucune valeur de K au délà de 1 améliore le modèle. On se limitera à k=1."
      ]
    },
    {
      "cell_type": "code",
      "execution_count": 58,
      "metadata": {
        "colab": {
          "base_uri": "https://localhost:8080/"
        },
        "id": "wjGLyPq51RXg",
        "outputId": "7c992b23-ae6a-4359-dc82-1183917966ff"
      },
      "outputs": [
        {
          "output_type": "execute_result",
          "data": {
            "text/plain": [
              "0.7725490196078432"
            ]
          },
          "metadata": {},
          "execution_count": 58
        }
      ],
      "source": [
        "model_1nn.score(X_test_scaled, data_test.label)"
      ]
    },
    {
      "cell_type": "markdown",
      "metadata": {
        "id": "vdbPrc841RXg"
      },
      "source": [
        "Le modèle prédit 77% des données de test."
      ]
    },
    {
      "cell_type": "markdown",
      "metadata": {
        "id": "C09lTwPD1RXu"
      },
      "source": [
        "### Soumission sur Kaggle"
      ]
    },
    {
      "cell_type": "code",
      "execution_count": 59,
      "metadata": {
        "id": "4ot8ngmH1RXz"
      },
      "outputs": [],
      "source": [
        "# Prédiction du modèle sur la dataset competition mise à l'échelle\n",
        "pred = model_1nn.predict(competition_scaled)\n",
        "# we put this predictions in a DataFrame with the right format expected by kaggle\n",
        "df = pd.DataFrame(np.arange(1,501), columns=['Id'])\n",
        "df['label'] = pred\n",
        "df.to_csv('knn_on_competition_scaled.csv', index=False)"
      ]
    },
    {
      "cell_type": "markdown",
      "metadata": {
        "id": "0lrL6qx41RX0"
      },
      "source": [
        "## Random forest"
      ]
    },
    {
      "cell_type": "markdown",
      "metadata": {
        "id": "QKymoMhW1RX0"
      },
      "source": [
        "Le Random Forest (forêt aléatoire) est un algorithme d'apprentissage supervisé utilisé pour la classification et la régression. Il est basé sur des ensembles  d'arbres de décision. \n"
      ]
    },
    {
      "cell_type": "markdown",
      "metadata": {
        "id": "xu0k7dRz1RX1"
      },
      "source": [
        "### Création du modèle"
      ]
    },
    {
      "cell_type": "code",
      "execution_count": 60,
      "metadata": {
        "colab": {
          "base_uri": "https://localhost:8080/"
        },
        "id": "zkhdCGqd1RX1",
        "outputId": "939ac7a1-6c89-4909-9eb2-124f3629d8b7"
      },
      "outputs": [
        {
          "output_type": "execute_result",
          "data": {
            "text/plain": [
              "RandomForestClassifier(n_estimators=10, random_state=42)"
            ]
          },
          "metadata": {},
          "execution_count": 60
        }
      ],
      "source": [
        "# On initialise le modèle avec 10 arbres\n",
        "rf = RandomForestClassifier(n_estimators=10, random_state=42) \n",
        "rf.fit(X_train_scaled, data_train.label)"
      ]
    },
    {
      "cell_type": "code",
      "execution_count": 61,
      "metadata": {
        "colab": {
          "base_uri": "https://localhost:8080/"
        },
        "id": "-Pow9T2z1RX1",
        "outputId": "e84b711f-7cab-42b7-ff19-1380952bce7e"
      },
      "outputs": [
        {
          "output_type": "execute_result",
          "data": {
            "text/plain": [
              "0.6666666666666666"
            ]
          },
          "metadata": {},
          "execution_count": 61
        }
      ],
      "source": [
        "rf.score(X_valid_scaled, data_valid.label)"
      ]
    },
    {
      "cell_type": "markdown",
      "metadata": {
        "id": "JlH_N3Jz1RX2"
      },
      "source": [
        "La forêt aléatoire initialisée à 10 arbres fait un score de 66,6% sur la validation. Ce score est plus faible que celui avec les arbres de décision simples."
      ]
    },
    {
      "cell_type": "markdown",
      "metadata": {
        "id": "xT1sGY8I1RX2"
      },
      "source": [
        "### Amélioration du modèle"
      ]
    },
    {
      "cell_type": "markdown",
      "metadata": {
        "id": "gugy0OY51RX3"
      },
      "source": [
        "Une des méthodes pour améliorer notre modèle est d'augmenter le nombre d'arbre, nous allons tester des nombres aléatoires d'arbres dans notre forêt de décision."
      ]
    },
    {
      "cell_type": "code",
      "execution_count": 62,
      "metadata": {
        "colab": {
          "base_uri": "https://localhost:8080/"
        },
        "id": "EKN-nhwz1RX3",
        "outputId": "5ccd19a6-4325-444b-833d-827ac7be5503"
      },
      "outputs": [
        {
          "output_type": "stream",
          "name": "stdout",
          "text": [
            "Meilleur score de validation: 0.796 ; nombre d'arbres: 80,\n"
          ]
        }
      ],
      "source": [
        "n_trees = range(2,100)\n",
        "valid_scores, train_scores = [], []\n",
        "for n_tree in n_trees:\n",
        "    rf = RandomForestClassifier(n_estimators=n_tree, random_state=42).fit(X_train_scaled, data_train.label)\n",
        "    train_scores.append(rf.score(X_train_scaled, data_train.label))\n",
        "    valid_scores.append(rf.score(X_valid_scaled, data_valid.label))\n",
        "    \n",
        "max_score_index = valid_scores.index(max(valid_scores))\n",
        "print(f'Meilleur score de validation: {round(max(valid_scores),3)} ; nombre d\\'arbres: {n_trees[max_score_index]},')"
      ]
    },
    {
      "cell_type": "code",
      "execution_count": 63,
      "metadata": {
        "colab": {
          "base_uri": "https://localhost:8080/",
          "height": 404
        },
        "id": "TvOj4LvO1RX4",
        "outputId": "27132c88-cb73-46b0-8d6a-975db13c2398"
      },
      "outputs": [
        {
          "output_type": "display_data",
          "data": {
            "text/plain": [
              "<Figure size 576x432 with 1 Axes>"
            ],
            "image/png": "[encoded data removed]"
          },
          "metadata": {
            "needs_background": "light"
          }
        }
      ],
      "source": [
        "# Les scores d'entrainement et de validation en fonction du nombres d'arbres\n",
        "max_score_index = valid_scores.index(max(valid_scores))\n",
        "plt.figure(figsize=(8, 6))\n",
        "plt.plot(n_trees, train_scores, 'b-', label='Entrainement')\n",
        "plt.plot(n_trees, valid_scores, 'r-', label='Validation')\n",
        "plt.xlabel('Nombre d\\'arbres')\n",
        "plt.ylabel('Scores')\n",
        "plt.tick_params('y', colors='r')\n",
        "\n",
        "\n",
        "# Meilleur score de validation\n",
        "plt.plot(n_trees[max_score_index], valid_scores[max_score_index], 'ro', label='Meilleure score')\n",
        "plt.annotate(f'Meilleur Score = {round(max(valid_scores)*100, 3)}% Nombre d\\'arbre = {round(n_trees[max_score_index], 5)}',\n",
        "             xy=(n_trees[max_score_index], valid_scores[max_score_index]+0.01), color='red')\n",
        "\n",
        "# Legende et titre\n",
        "plt.legend(loc='best')\n",
        "plt.title('Les scores d\\'entrainement et de validation en fonction du nombre d\\'arbres')\n",
        "\n",
        "# Show the plot\n",
        "plt.show()"
      ]
    },
    {
      "cell_type": "markdown",
      "metadata": {
        "id": "4QUUZuHa1RX5"
      },
      "source": [
        "A travers le graphique, on remarque que plus il y a d'arbres, plus le modèle est précis jusqu'à atteindre une précision de 79,6%.\n",
        "\n",
        "Après 80 arbres, la perfomance du modèle se détériore sur de nouvelles données. C'est le signe que notre modèle fait du sur-apprentissage après 80 arbres.\n",
        "\n",
        "Nous allons nous limiter donc à 80 arbres pour faire les prédictions sur les données futures."
      ]
    },
    {
      "cell_type": "code",
      "execution_count": 64,
      "metadata": {
        "colab": {
          "base_uri": "https://localhost:8080/"
        },
        "id": "YgiXt96q1RX5",
        "outputId": "8af1acf0-127d-4ab2-da79-1d54b8fa8fd8"
      },
      "outputs": [
        {
          "output_type": "execute_result",
          "data": {
            "text/plain": [
              "0.7607843137254902"
            ]
          },
          "metadata": {},
          "execution_count": 64
        }
      ],
      "source": [
        "rf = RandomForestClassifier(n_estimators=n_trees[max_score_index], random_state=42).fit(X_train_scaled, data_train.label)\n",
        "rf.score(X_test_scaled, data_test.label)"
      ]
    },
    {
      "cell_type": "markdown",
      "metadata": {
        "id": "0sht44bv1RX6"
      },
      "source": [
        "On obtient un score de 76% sur les données de test. Notre modèle a une bonne capacité de généralisation."
      ]
    },
    {
      "cell_type": "markdown",
      "metadata": {
        "id": "VR1-wYjP1RX6"
      },
      "source": [
        "### Soumission sur Kaggle"
      ]
    },
    {
      "cell_type": "code",
      "execution_count": 65,
      "metadata": {
        "id": "_aztowPO1RX7"
      },
      "outputs": [],
      "source": [
        "# Prédiction du modèle sur la dataset competition mise à l'échelle\n",
        "pred = rf.predict(competition_scaled)\n",
        "# we put this predictions in a DataFrame with the right format expected by kaggle\n",
        "df = pd.DataFrame(np.arange(1,501), columns=['Id'])\n",
        "df['label'] = pred\n",
        "df.to_csv('random_forest_on_competition_scaled.csv', index=False)"
      ]
    },
    {
      "cell_type": "markdown",
      "metadata": {
        "id": "Vn3JnSEJ1RX7"
      },
      "source": [
        "## Régression Logistique"
      ]
    },
    {
      "cell_type": "markdown",
      "metadata": {
        "id": "zpU7UCSU1RX8"
      },
      "source": [
        "La regression logistique est une technique d'apprentissage supervisée utilisée pour la classification binaire. Le modèle utilise une fonction logistique (sigmoid) pour transformer une combinaison de variables d'entrée en une probabilité selon laquelle l'individu appartient ou non à classe donnée.\n",
        "\n",
        "Si la fonction sigmoid obtient une probabilité supérieure à 0.5, alors la probabilité que l'individu appartient à une classe vaut 1, sinon l'individu n'appartient pas à cette classe et la probabilité vaut 0."
      ]
    },
    {
      "cell_type": "markdown",
      "metadata": {
        "id": "roNeLRcv1RX9"
      },
      "source": [
        "### Création du modèle"
      ]
    },
    {
      "cell_type": "code",
      "execution_count": 66,
      "metadata": {
        "colab": {
          "base_uri": "https://localhost:8080/"
        },
        "id": "mi-JkzBu1RX-",
        "outputId": "c64515ed-f827-4633-a1a3-242a8690568b"
      },
      "outputs": [
        {
          "output_type": "execute_result",
          "data": {
            "text/plain": [
              "LogisticRegression(max_iter=1000, random_state=42)"
            ]
          },
          "metadata": {},
          "execution_count": 66
        }
      ],
      "source": [
        "lr_model = LogisticRegression(random_state=42, max_iter=1000)\n",
        "lr_model.fit(X_train_scaled, data_train.label)"
      ]
    },
    {
      "cell_type": "code",
      "execution_count": 67,
      "metadata": {
        "colab": {
          "base_uri": "https://localhost:8080/"
        },
        "id": "-Lf7D1up1RX_",
        "outputId": "a894581c-b7c6-4ca6-8e6e-fb7c28e3f698"
      },
      "outputs": [
        {
          "output_type": "execute_result",
          "data": {
            "text/plain": [
              "0.6784313725490196"
            ]
          },
          "metadata": {},
          "execution_count": 67
        }
      ],
      "source": [
        "lr_model.score(X_valid_scaled, data_valid.label)"
      ]
    },
    {
      "cell_type": "markdown",
      "metadata": {
        "id": "KWSbq7qB1RYA"
      },
      "source": [
        "On obtient un score de 67,84% pour ce modèle. Cette performance est en dessous des autres classifieurs."
      ]
    },
    {
      "cell_type": "markdown",
      "metadata": {
        "id": "8vdPu6jG1RYB"
      },
      "source": [
        "### Amélioration du modèle"
      ]
    },
    {
      "cell_type": "markdown",
      "metadata": {
        "id": "h8-m4O5w1RYC"
      },
      "source": [
        "#### Multinomial classes"
      ]
    },
    {
      "cell_type": "markdown",
      "metadata": {
        "id": "JSopESvq1RYC"
      },
      "source": [
        "Nous faisons prédictions sur des données qui peuvent être de plusieurs classes différentes (plus de deux classes différentes).\n",
        "\n",
        "On peut utiliser un modèle de regression multinomial en précisant le paramètre **muli_class** de la fonction LogisticRegression à *multinomial*"
      ]
    },
    {
      "cell_type": "code",
      "execution_count": 68,
      "metadata": {
        "colab": {
          "base_uri": "https://localhost:8080/"
        },
        "id": "NjpvwSgr1RYD",
        "outputId": "51797411-34aa-41bf-f702-44779799036d"
      },
      "outputs": [
        {
          "output_type": "execute_result",
          "data": {
            "text/plain": [
              "LogisticRegression(max_iter=1000, multi_class='multinomial')"
            ]
          },
          "metadata": {},
          "execution_count": 68
        }
      ],
      "source": [
        "mc_model = LogisticRegression(multi_class='multinomial', max_iter=1000)\n",
        "mc_model.fit(X_train_scaled, data_train.label)"
      ]
    },
    {
      "cell_type": "code",
      "execution_count": 69,
      "metadata": {
        "colab": {
          "base_uri": "https://localhost:8080/"
        },
        "id": "x3G31XNI1RYE",
        "outputId": "d832a2b1-cef5-4f9c-bd8d-709d8cf5fd66"
      },
      "outputs": [
        {
          "output_type": "execute_result",
          "data": {
            "text/plain": [
              "0.6784313725490196"
            ]
          },
          "metadata": {},
          "execution_count": 69
        }
      ],
      "source": [
        "mc_model.score(X_valid_scaled, data_valid.label)"
      ]
    },
    {
      "cell_type": "markdown",
      "metadata": {
        "id": "Ap6YiVk21RYE"
      },
      "source": [
        "#### Polynomial Features"
      ]
    },
    {
      "cell_type": "markdown",
      "metadata": {
        "id": "X3ptpks11RYF"
      },
      "source": [
        "Ce modèle ne permet pas d'améliorer les performances.\n",
        "\n",
        "Une autre technique est utilisée en régression logistique pour ajouter des ***variables polynomiales (polynomial features)*** au jeu de données avant d'entrainer le modèle.\n",
        "\n",
        "L'ajout de ces caractéristiques polynomiales peut aider à modéliser des relations plus complexes entre les variables et la variable cible."
      ]
    },
    {
      "cell_type": "code",
      "execution_count": 70,
      "metadata": {
        "colab": {
          "base_uri": "https://localhost:8080/"
        },
        "id": "KyRHNrJi1RYF",
        "outputId": "af5c6de2-75bb-471f-b1bf-5aefed061f7e"
      },
      "outputs": [
        {
          "output_type": "execute_result",
          "data": {
            "text/plain": [
              "(1190, 525825)"
            ]
          },
          "metadata": {},
          "execution_count": 70
        }
      ],
      "source": [
        "poly = PolynomialFeatures(degree=2)\n",
        "X_train_poly = poly.fit_transform(X_train_scaled)\n",
        "X_valid_poly = poly.transform(X_valid_scaled)\n",
        "X_test_poly = poly.transform(X_test_scaled)\n",
        "X_train_poly.shape"
      ]
    },
    {
      "cell_type": "markdown",
      "source": [
        "La dimension du jeu de données a considérablement augmentée avec la transformation PolynomialFeatures.\n",
        "\n",
        "Ce jeu de données sera très long à entrainer et peut conduire au sur-apprentissage. Il existe des méthodes pour réduire les dimensions : \n",
        "- La méthode Lasso (L1 normalizer) \n",
        "- La méthode Ridge (L2 normalizer) \n",
        "- PCA (Principal Composent Analysis) qui réduit la dimensionnalité tout en conservant les informations utiles\n",
        "\n",
        "Pour ce cas précis, on gardera le modèle précedent pour faire nos futures prédictions."
      ],
      "metadata": {
        "id": "mNU2gwO_IF-V"
      }
    },
    {
      "cell_type": "code",
      "execution_count": 71,
      "metadata": {
        "colab": {
          "base_uri": "https://localhost:8080/"
        },
        "id": "aKSVOZbo1RYG",
        "outputId": "0bb5dffd-da4d-4570-e01f-8b68a7b482a6"
      },
      "outputs": [
        {
          "output_type": "execute_result",
          "data": {
            "text/plain": [
              "0.6823529411764706"
            ]
          },
          "metadata": {},
          "execution_count": 71
        }
      ],
      "source": [
        "mc_model.score(X_test_scaled, data_test.label)"
      ]
    },
    {
      "cell_type": "markdown",
      "metadata": {
        "id": "T0ffqNsI1RYH"
      },
      "source": [
        "### Soumission sur Kaggle"
      ]
    },
    {
      "cell_type": "code",
      "execution_count": 447,
      "metadata": {
        "colab": {
          "base_uri": "https://localhost:8080/"
        },
        "id": "HOQEk2OXLMLQ",
        "outputId": "e6839e9d-b651-46ad-9249-5a352b264f33"
      },
      "outputs": [
        {
          "output_type": "stream",
          "name": "stdout",
          "text": [
            "[22 16 16 18 16  6 22 22 18 18  2  6 22 12 22  1 18  6 18 12 12  1 16 12\n",
            " 12  1 16 18  2  2  1  2 18  1 18 22  1  2  1 18 16 22  2  6  2 16  6 16\n",
            "  6 18 16  1 12 12 18 22 22  6 22 18  1 16 18 22 18 18  2 22 12 16 18  6\n",
            " 22 22  1 18  2 22 18  1 22 12  1  6 22 18  1 12 22  2 22 22 22 22  2 22\n",
            "  1 12 22 12 22 12 16 18  6 18  6  2  6  2 16  2 18  1 16  2  2 16 18 18\n",
            "  1 16 22 16 12 16  1  2 22 22 12 22 18 22 12  2 18  2  1 12 22  6 22 22\n",
            "  6 18 22 22 12 18 18 18  1  6 16  6  6 16 12 12  1 18 22  6 16 22  6 18\n",
            "  1  1 18  2  2 16 16 16 12  6  2  1 12  2  1 18 12 22 12  2 18 16 18  1\n",
            "  1 16 18  6 12  1 22  2  1 18 22 12  2 22  1  1 12 12 16  6 18  6  6  6\n",
            " 18 18 16  2  1  1 18 12 22  2  1  1  2  6 18  6 22  6  6 16  2  1 18 22\n",
            " 18 12 22 18  6 22 22 18 18  6  2 18 16  2 16 12 12 12  2 18  2  1  6 16\n",
            "  6  6  6  2  2 22  6  2  6 22  2  6 18 22  2 22 12  6 12  6 16  6  2 18\n",
            "  1  6 12 22 12 16 16 18  1  2 16 16 12 22 12  6 22  6 16  2 12  2 12  6\n",
            " 18  1 22  2 12 16 12  6  1  6  6 16 16 18 22  2 18  2  2  6 18  1  1  1\n",
            "  1 22  2  6 22  2 18  1 18 18 12 16 12 16  6 22  1 18 22 12 12 18  2  2\n",
            "  2 12 22 22 18 22  1  1 12 22  1 12 16 16  2  2  1  1  1  2  1 22  6  6\n",
            " 18 12 22  2 22 12 16 22  2 22  6 16 16 22  2  1  1  2 16  1  6 16  1 22\n",
            "  2 22  1 18  1 18  1  6 12 12 12 12  2 16  6 12  2  6  6 18 16  6 12 16\n",
            " 12 12 18 22 16  6 16 12 12 12 18 22  6 16  6 22 18  6 16 16 22 12 12  2\n",
            " 12 16  6 18 18 18 16  2  2 22 12 12 16  2  1 18 22 16  1 18 16  1  2  2\n",
            "  1  2 16 22 16 18 22 18  2  6  1 12  2  1 12 22 12 18 22 12]\n"
          ]
        }
      ],
      "source": [
        "# Prédiction du modèle sur competition mise à l'échelle\n",
        "pred = mc_model.predict(competition_scaled)\n",
        "print(pred)\n",
        "# we put this predictions in a DataFrame with the right format expected by kaggle\n",
        "df = pd.DataFrame(np.arange(1,501), columns=['Id'])\n",
        "df['label'] = pred\n",
        "df.to_csv('logistic_regression_on_competition_scaled.csv', index=False)"
      ]
    },
    {
      "cell_type": "markdown",
      "metadata": {
        "id": "9GQICTEf1RYI"
      },
      "source": [
        "## Neural networks"
      ]
    },
    {
      "cell_type": "markdown",
      "source": [],
      "metadata": {
        "id": "bMyInGuaPj0J"
      }
    },
    {
      "cell_type": "code",
      "source": [
        "random.seed(42)\n",
        "np.random.seed(42)\n",
        "tf.random.set_seed(42)"
      ],
      "metadata": {
        "id": "aAmon8CHwiLY"
      },
      "execution_count": 73,
      "outputs": []
    },
    {
      "cell_type": "markdown",
      "source": [
        "### Création du modèle"
      ],
      "metadata": {
        "id": "RsAPq0sdO-7C"
      }
    },
    {
      "cell_type": "code",
      "source": [
        "model = tf.keras.models.Sequential([\n",
        "    tf.keras.layers.Input(shape=(X_train_scaled.shape[1],)),\n",
        "    tf.keras.layers.Dense(128),\n",
        "    tf.keras.layers.Dense(64),\n",
        "    tf.keras.layers.Dense(32),\n",
        "    tf.keras.layers.Dense(1)\n",
        "])"
      ],
      "metadata": {
        "id": "-w9nKJkYPMYK"
      },
      "execution_count": 268,
      "outputs": []
    },
    {
      "cell_type": "code",
      "source": [
        "model.compile(optimizer=tf.keras.optimizers.Adam(),\n",
        "              loss=tf.keras.losses.CategoricalCrossentropy(from_logits=True),\n",
        "              metrics=['accuracy'])"
      ],
      "metadata": {
        "id": "-duDAX2pPf5p"
      },
      "execution_count": 269,
      "outputs": []
    },
    {
      "cell_type": "code",
      "source": [
        "history = model.fit(X_train_scaled, data_train.label, epochs=50, batch_size=32, validation_data=(X_valid_scaled, data_valid.label))"
      ],
      "metadata": {
        "colab": {
          "base_uri": "https://localhost:8080/"
        },
        "id": "WGttFlp6TG4n",
        "outputId": "1ff319f3-6146-4b3e-f150-6ec25e3578e6"
      },
      "execution_count": 270,
      "outputs": [
        {
          "output_type": "stream",
          "name": "stdout",
          "text": [
            "Epoch 1/50\n",
            "38/38 [==============================] - 1s 9ms/step - loss: 0.0000e+00 - accuracy: 0.0118 - val_loss: 0.0000e+00 - val_accuracy: 0.0039\n",
            "Epoch 2/50\n",
            "38/38 [==============================] - 0s 5ms/step - loss: 0.0000e+00 - accuracy: 0.0050 - val_loss: 0.0000e+00 - val_accuracy: 0.0039\n",
            "Epoch 3/50\n",
            "38/38 [==============================] - 0s 5ms/step - loss: 0.0000e+00 - accuracy: 0.0050 - val_loss: 0.0000e+00 - val_accuracy: 0.0039\n",
            "Epoch 4/50\n",
            "38/38 [==============================] - 0s 5ms/step - loss: 0.0000e+00 - accuracy: 0.0042 - val_loss: 0.0000e+00 - val_accuracy: 0.0039\n",
            "Epoch 5/50\n",
            "38/38 [==============================] - 0s 6ms/step - loss: 0.0000e+00 - accuracy: 0.0042 - val_loss: 0.0000e+00 - val_accuracy: 0.0039\n",
            "Epoch 6/50\n",
            "38/38 [==============================] - 0s 5ms/step - loss: 0.0000e+00 - accuracy: 0.0042 - val_loss: 0.0000e+00 - val_accuracy: 0.0039\n",
            "Epoch 7/50\n",
            "38/38 [==============================] - 0s 6ms/step - loss: 0.0000e+00 - accuracy: 0.0042 - val_loss: 0.0000e+00 - val_accuracy: 0.0039\n",
            "Epoch 8/50\n",
            "38/38 [==============================] - 0s 5ms/step - loss: 0.0000e+00 - accuracy: 0.0042 - val_loss: 0.0000e+00 - val_accuracy: 0.0039\n",
            "Epoch 9/50\n",
            "38/38 [==============================] - 0s 5ms/step - loss: 0.0000e+00 - accuracy: 0.0042 - val_loss: 0.0000e+00 - val_accuracy: 0.0039\n",
            "Epoch 10/50\n",
            "38/38 [==============================] - 0s 6ms/step - loss: 0.0000e+00 - accuracy: 0.0042 - val_loss: 0.0000e+00 - val_accuracy: 0.0039\n",
            "Epoch 11/50\n",
            "38/38 [==============================] - 0s 5ms/step - loss: 0.0000e+00 - accuracy: 0.0042 - val_loss: 0.0000e+00 - val_accuracy: 0.0039\n",
            "Epoch 12/50\n",
            "38/38 [==============================] - 0s 5ms/step - loss: 0.0000e+00 - accuracy: 0.0042 - val_loss: 0.0000e+00 - val_accuracy: 0.0039\n",
            "Epoch 13/50\n",
            "38/38 [==============================] - 0s 5ms/step - loss: 0.0000e+00 - accuracy: 0.0042 - val_loss: 0.0000e+00 - val_accuracy: 0.0039\n",
            "Epoch 14/50\n",
            "38/38 [==============================] - 0s 4ms/step - loss: 0.0000e+00 - accuracy: 0.0042 - val_loss: 0.0000e+00 - val_accuracy: 0.0039\n",
            "Epoch 15/50\n",
            "38/38 [==============================] - 0s 5ms/step - loss: 0.0000e+00 - accuracy: 0.0042 - val_loss: 0.0000e+00 - val_accuracy: 0.0039\n",
            "Epoch 16/50\n",
            "38/38 [==============================] - 0s 5ms/step - loss: 0.0000e+00 - accuracy: 0.0042 - val_loss: 0.0000e+00 - val_accuracy: 0.0039\n",
            "Epoch 17/50\n",
            "38/38 [==============================] - 0s 5ms/step - loss: 0.0000e+00 - accuracy: 0.0042 - val_loss: 0.0000e+00 - val_accuracy: 0.0039\n",
            "Epoch 18/50\n",
            "38/38 [==============================] - 0s 5ms/step - loss: 0.0000e+00 - accuracy: 0.0042 - val_loss: 0.0000e+00 - val_accuracy: 0.0039\n",
            "Epoch 19/50\n",
            "38/38 [==============================] - 0s 6ms/step - loss: 0.0000e+00 - accuracy: 0.0034 - val_loss: 0.0000e+00 - val_accuracy: 0.0039\n",
            "Epoch 20/50\n",
            "38/38 [==============================] - 0s 5ms/step - loss: 0.0000e+00 - accuracy: 0.0034 - val_loss: 0.0000e+00 - val_accuracy: 0.0039\n",
            "Epoch 21/50\n",
            "38/38 [==============================] - 0s 6ms/step - loss: 0.0000e+00 - accuracy: 0.0034 - val_loss: 0.0000e+00 - val_accuracy: 0.0039\n",
            "Epoch 22/50\n",
            "38/38 [==============================] - 0s 5ms/step - loss: 0.0000e+00 - accuracy: 0.0034 - val_loss: 0.0000e+00 - val_accuracy: 0.0039\n",
            "Epoch 23/50\n",
            "38/38 [==============================] - 0s 5ms/step - loss: 0.0000e+00 - accuracy: 0.0034 - val_loss: 0.0000e+00 - val_accuracy: 0.0039\n",
            "Epoch 24/50\n",
            "38/38 [==============================] - 0s 5ms/step - loss: 0.0000e+00 - accuracy: 0.0034 - val_loss: 0.0000e+00 - val_accuracy: 0.0039\n",
            "Epoch 25/50\n",
            "38/38 [==============================] - 0s 6ms/step - loss: 0.0000e+00 - accuracy: 0.0034 - val_loss: 0.0000e+00 - val_accuracy: 0.0039\n",
            "Epoch 26/50\n",
            "38/38 [==============================] - 0s 5ms/step - loss: 0.0000e+00 - accuracy: 0.0034 - val_loss: 0.0000e+00 - val_accuracy: 0.0039\n",
            "Epoch 27/50\n",
            "38/38 [==============================] - 0s 6ms/step - loss: 0.0000e+00 - accuracy: 0.0034 - val_loss: 0.0000e+00 - val_accuracy: 0.0039\n",
            "Epoch 28/50\n",
            "38/38 [==============================] - 0s 5ms/step - loss: 0.0000e+00 - accuracy: 0.0034 - val_loss: 0.0000e+00 - val_accuracy: 0.0039\n",
            "Epoch 29/50\n",
            "38/38 [==============================] - 0s 5ms/step - loss: 0.0000e+00 - accuracy: 0.0034 - val_loss: 0.0000e+00 - val_accuracy: 0.0039\n",
            "Epoch 30/50\n",
            "38/38 [==============================] - 0s 5ms/step - loss: 0.0000e+00 - accuracy: 0.0034 - val_loss: 0.0000e+00 - val_accuracy: 0.0039\n",
            "Epoch 31/50\n",
            "38/38 [==============================] - 0s 5ms/step - loss: 0.0000e+00 - accuracy: 0.0034 - val_loss: 0.0000e+00 - val_accuracy: 0.0039\n",
            "Epoch 32/50\n",
            "38/38 [==============================] - 0s 7ms/step - loss: 0.0000e+00 - accuracy: 0.0034 - val_loss: 0.0000e+00 - val_accuracy: 0.0039\n",
            "Epoch 33/50\n",
            "38/38 [==============================] - 0s 7ms/step - loss: 0.0000e+00 - accuracy: 0.0034 - val_loss: 0.0000e+00 - val_accuracy: 0.0039\n",
            "Epoch 34/50\n",
            "38/38 [==============================] - 0s 7ms/step - loss: 0.0000e+00 - accuracy: 0.0034 - val_loss: 0.0000e+00 - val_accuracy: 0.0039\n",
            "Epoch 35/50\n",
            "38/38 [==============================] - 0s 8ms/step - loss: 0.0000e+00 - accuracy: 0.0034 - val_loss: 0.0000e+00 - val_accuracy: 0.0039\n",
            "Epoch 36/50\n",
            "38/38 [==============================] - 0s 8ms/step - loss: 0.0000e+00 - accuracy: 0.0034 - val_loss: 0.0000e+00 - val_accuracy: 0.0039\n",
            "Epoch 37/50\n",
            "38/38 [==============================] - 0s 7ms/step - loss: 0.0000e+00 - accuracy: 0.0034 - val_loss: 0.0000e+00 - val_accuracy: 0.0039\n",
            "Epoch 38/50\n",
            "38/38 [==============================] - 0s 9ms/step - loss: 0.0000e+00 - accuracy: 0.0034 - val_loss: 0.0000e+00 - val_accuracy: 0.0039\n",
            "Epoch 39/50\n",
            "38/38 [==============================] - 0s 7ms/step - loss: 0.0000e+00 - accuracy: 0.0034 - val_loss: 0.0000e+00 - val_accuracy: 0.0039\n",
            "Epoch 40/50\n",
            "38/38 [==============================] - 0s 8ms/step - loss: 0.0000e+00 - accuracy: 0.0034 - val_loss: 0.0000e+00 - val_accuracy: 0.0039\n",
            "Epoch 41/50\n",
            "38/38 [==============================] - 0s 8ms/step - loss: 0.0000e+00 - accuracy: 0.0034 - val_loss: 0.0000e+00 - val_accuracy: 0.0039\n",
            "Epoch 42/50\n",
            "38/38 [==============================] - 0s 7ms/step - loss: 0.0000e+00 - accuracy: 0.0034 - val_loss: 0.0000e+00 - val_accuracy: 0.0039\n",
            "Epoch 43/50\n",
            "38/38 [==============================] - 0s 5ms/step - loss: 0.0000e+00 - accuracy: 0.0034 - val_loss: 0.0000e+00 - val_accuracy: 0.0039\n",
            "Epoch 44/50\n",
            "38/38 [==============================] - 0s 5ms/step - loss: 0.0000e+00 - accuracy: 0.0034 - val_loss: 0.0000e+00 - val_accuracy: 0.0039\n",
            "Epoch 45/50\n",
            "38/38 [==============================] - 0s 5ms/step - loss: 0.0000e+00 - accuracy: 0.0034 - val_loss: 0.0000e+00 - val_accuracy: 0.0039\n",
            "Epoch 46/50\n",
            "38/38 [==============================] - 0s 6ms/step - loss: 0.0000e+00 - accuracy: 0.0034 - val_loss: 0.0000e+00 - val_accuracy: 0.0039\n",
            "Epoch 47/50\n",
            "38/38 [==============================] - 0s 5ms/step - loss: 0.0000e+00 - accuracy: 0.0034 - val_loss: 0.0000e+00 - val_accuracy: 0.0039\n",
            "Epoch 48/50\n",
            "38/38 [==============================] - 0s 5ms/step - loss: 0.0000e+00 - accuracy: 0.0034 - val_loss: 0.0000e+00 - val_accuracy: 0.0039\n",
            "Epoch 49/50\n",
            "38/38 [==============================] - 0s 5ms/step - loss: 0.0000e+00 - accuracy: 0.0034 - val_loss: 0.0000e+00 - val_accuracy: 0.0039\n",
            "Epoch 50/50\n",
            "38/38 [==============================] - 0s 6ms/step - loss: 0.0000e+00 - accuracy: 0.0034 - val_loss: 0.0000e+00 - val_accuracy: 0.0039\n"
          ]
        }
      ]
    },
    {
      "cell_type": "code",
      "source": [
        "# Plot training & validation accuracy values\n",
        "plt.plot(np.absolute(history.history['val_loss']), 'r')\n",
        "plt.plot(history.history['val_accuracy'], 'green')\n",
        "plt.plot(history.history['accuracy'], 'b')\n",
        "plt.title('Loss vs Accuracy')\n",
        "plt.ylabel('Accuracy')\n",
        "plt.xlabel('Epoch')\n",
        "plt.legend(['Validation Loss', 'Validation', 'Train'], loc='best')\n",
        "plt.show()"
      ],
      "metadata": {
        "colab": {
          "base_uri": "https://localhost:8080/",
          "height": 295
        },
        "id": "jmDJNOcHTdZu",
        "outputId": "c7937555-5413-4df0-dcce-2a660b6871fb"
      },
      "execution_count": 243,
      "outputs": [
        {
          "output_type": "display_data",
          "data": {
            "text/plain": [
              "<Figure size 432x288 with 1 Axes>"
            ],
            "image/png": "[encoded data removed]"
          },
          "metadata": {
            "needs_background": "light"
          }
        }
      ]
    },
    {
      "cell_type": "markdown",
      "source": [
        "Ce modèle est très mauvais pour prédire les valeurs. L'erreur augmente à chaque itération et la précision ne s'améliore pas.\n",
        "\n",
        "Notre objectif est de minimiser le **loss** (la perte ou l'erreur de prédiction du modèle) tout en essayant d'augmenter l'**accuracy** (la précision de prédiction).\n",
        "\n",
        "La loss est une mesure de la différence entre les prédictions du modèle et les vraies étiquettes."
      ],
      "metadata": {
        "id": "7W6XH4xr-MJe"
      }
    },
    {
      "cell_type": "markdown",
      "source": [
        "On peut améliorer ce modèle par plusieurs techniques : \n",
        "- en utilisant un label binarizer\n",
        "- en ajoutant plus de couches cachées\n",
        "- en ajoutant des fonctions d'activation aux couches\n",
        "- en ajoutant des régulateurs (Dropout) aux couches"
      ],
      "metadata": {
        "id": "gtZoBDxEWwkZ"
      }
    },
    {
      "cell_type": "markdown",
      "source": [
        "### Amélioration du modèle"
      ],
      "metadata": {
        "id": "SImjyV37O-LQ"
      }
    },
    {
      "cell_type": "markdown",
      "source": [
        "#### Label Binarization"
      ],
      "metadata": {
        "id": "K3vaqwkFrTo7"
      }
    },
    {
      "cell_type": "markdown",
      "source": [
        "Comme la cible est ici multi-classes nous devons adapter notre modèle à prédire des valeurs binaires en sortie.\n",
        "\n",
        "Le Label binarizer permet de modifier la forme de la cible en un vecteur de la taille du nombre de classes différentes."
      ],
      "metadata": {
        "id": "2LPglSLo-mh-"
      }
    },
    {
      "cell_type": "code",
      "source": [
        "lb = LabelBinarizer()\n",
        "train_labels_binarized = lb.fit_transform(data_train.label)\n",
        "train_labels_binarized = pd.DataFrame(train_labels_binarized)\n",
        "\n",
        "valid_labels_binarized = lb.transform(data_valid.label)\n",
        "valid_labels_binarized = pd.DataFrame(valid_labels_binarized)\n",
        "\n",
        "test_labels_binarized = lb.transform(data_test.label)\n",
        "test_labels_binarized = pd.DataFrame(test_labels_binarized)\n",
        "\n",
        "\n",
        "train_labels_binarized"
      ],
      "metadata": {
        "colab": {
          "base_uri": "https://localhost:8080/",
          "height": 424
        },
        "id": "59APW3O3rYig",
        "outputId": "8bc22c9c-32c9-4672-a970-972c65738549"
      },
      "execution_count": 422,
      "outputs": [
        {
          "output_type": "execute_result",
          "data": {
            "text/plain": [
              "      0  1  2  3  4  5  6\n",
              "0     0  0  1  0  0  0  0\n",
              "1     0  0  0  0  1  0  0\n",
              "2     0  0  0  0  1  0  0\n",
              "3     1  0  0  0  0  0  0\n",
              "4     0  0  0  1  0  0  0\n",
              "...  .. .. .. .. .. .. ..\n",
              "1185  0  0  0  0  0  0  1\n",
              "1186  0  0  0  1  0  0  0\n",
              "1187  0  0  0  0  0  0  1\n",
              "1188  0  0  1  0  0  0  0\n",
              "1189  0  0  0  0  0  1  0\n",
              "\n",
              "[1190 rows x 7 columns]"
            ],
            "text/html": [
              "\n",
              "  <div id=\"df-0208d9a0-94ab-4438-81de-fe0b58c4983f\">\n",
              "    <div class=\"colab-df-container\">\n",
              "      <div>\n",
              "<style scoped>\n",
              "    .dataframe tbody tr th:only-of-type {\n",
              "        vertical-align: middle;\n",
              "    }\n",
              "\n",
              "    .dataframe tbody tr th {\n",
              "        vertical-align: top;\n",
              "    }\n",
              "\n",
              "    .dataframe thead th {\n",
              "        text-align: right;\n",
              "    }\n",
              "</style>\n",
              "<table border=\"1\" class=\"dataframe\">\n",
              "  <thead>\n",
              "    <tr style=\"text-align: right;\">\n",
              "      <th></th>\n",
              "      <th>0</th>\n",
              "      <th>1</th>\n",
              "      <th>2</th>\n",
              "      <th>3</th>\n",
              "      <th>4</th>\n",
              "      <th>5</th>\n",
              "      <th>6</th>\n",
              "    </tr>\n",
              "  </thead>\n",
              "  <tbody>\n",
              "    <tr>\n",
              "      <th>0</th>\n",
              "      <td>0</td>\n",
              "      <td>0</td>\n",
              "      <td>1</td>\n",
              "      <td>0</td>\n",
              "      <td>0</td>\n",
              "      <td>0</td>\n",
              "      <td>0</td>\n",
              "    </tr>\n",
              "    <tr>\n",
              "      <th>1</th>\n",
              "      <td>0</td>\n",
              "      <td>0</td>\n",
              "      <td>0</td>\n",
              "      <td>0</td>\n",
              "      <td>1</td>\n",
              "      <td>0</td>\n",
              "      <td>0</td>\n",
              "    </tr>\n",
              "    <tr>\n",
              "      <th>2</th>\n",
              "      <td>0</td>\n",
              "      <td>0</td>\n",
              "      <td>0</td>\n",
              "      <td>0</td>\n",
              "      <td>1</td>\n",
              "      <td>0</td>\n",
              "      <td>0</td>\n",
              "    </tr>\n",
              "    <tr>\n",
              "      <th>3</th>\n",
              "      <td>1</td>\n",
              "      <td>0</td>\n",
              "      <td>0</td>\n",
              "      <td>0</td>\n",
              "      <td>0</td>\n",
              "      <td>0</td>\n",
              "      <td>0</td>\n",
              "    </tr>\n",
              "    <tr>\n",
              "      <th>4</th>\n",
              "      <td>0</td>\n",
              "      <td>0</td>\n",
              "      <td>0</td>\n",
              "      <td>1</td>\n",
              "      <td>0</td>\n",
              "      <td>0</td>\n",
              "      <td>0</td>\n",
              "    </tr>\n",
              "    <tr>\n",
              "      <th>...</th>\n",
              "      <td>...</td>\n",
              "      <td>...</td>\n",
              "      <td>...</td>\n",
              "      <td>...</td>\n",
              "      <td>...</td>\n",
              "      <td>...</td>\n",
              "      <td>...</td>\n",
              "    </tr>\n",
              "    <tr>\n",
              "      <th>1185</th>\n",
              "      <td>0</td>\n",
              "      <td>0</td>\n",
              "      <td>0</td>\n",
              "      <td>0</td>\n",
              "      <td>0</td>\n",
              "      <td>0</td>\n",
              "      <td>1</td>\n",
              "    </tr>\n",
              "    <tr>\n",
              "      <th>1186</th>\n",
              "      <td>0</td>\n",
              "      <td>0</td>\n",
              "      <td>0</td>\n",
              "      <td>1</td>\n",
              "      <td>0</td>\n",
              "      <td>0</td>\n",
              "      <td>0</td>\n",
              "    </tr>\n",
              "    <tr>\n",
              "      <th>1187</th>\n",
              "      <td>0</td>\n",
              "      <td>0</td>\n",
              "      <td>0</td>\n",
              "      <td>0</td>\n",
              "      <td>0</td>\n",
              "      <td>0</td>\n",
              "      <td>1</td>\n",
              "    </tr>\n",
              "    <tr>\n",
              "      <th>1188</th>\n",
              "      <td>0</td>\n",
              "      <td>0</td>\n",
              "      <td>1</td>\n",
              "      <td>0</td>\n",
              "      <td>0</td>\n",
              "      <td>0</td>\n",
              "      <td>0</td>\n",
              "    </tr>\n",
              "    <tr>\n",
              "      <th>1189</th>\n",
              "      <td>0</td>\n",
              "      <td>0</td>\n",
              "      <td>0</td>\n",
              "      <td>0</td>\n",
              "      <td>0</td>\n",
              "      <td>1</td>\n",
              "      <td>0</td>\n",
              "    </tr>\n",
              "  </tbody>\n",
              "</table>\n",
              "<p>1190 rows × 7 columns</p>\n",
              "</div>\n",
              "      <button class=\"colab-df-convert\" onclick=\"convertToInteractive('df-0208d9a0-94ab-4438-81de-fe0b58c4983f')\"\n",
              "              title=\"Convert this dataframe to an interactive table.\"\n",
              "              style=\"display:none;\">\n",
              "        \n",
              "  <svg xmlns=\"http://www.w3.org/2000/svg\" height=\"24px\"viewBox=\"0 0 24 24\"\n",
              "       width=\"24px\">\n",
              "    <path d=\"M0 0h24v24H0V0z\" fill=\"none\"/>\n",
              "    <path d=\"M18.56 5.44l.94 2.06.94-2.06 2.06-.94-2.06-.94-.94-2.06-.94 2.06-2.06.94zm-11 1L8.5 8.5l.94-2.06 2.06-.94-2.06-.94L8.5 2.5l-.94 2.06-2.06.94zm10 10l.94 2.06.94-2.06 2.06-.94-2.06-.94-.94-2.06-.94 2.06-2.06.94z\"/><path d=\"M17.41 7.96l-1.37-1.37c-.4-.4-.92-.59-1.43-.59-.52 0-1.04.2-1.43.59L10.3 9.45l-7.72 7.72c-.78.78-.78 2.05 0 2.83L4 21.41c.39.39.9.59 1.41.59.51 0 1.02-.2 1.41-.59l7.78-7.78 2.81-2.81c.8-.78.8-2.07 0-2.86zM5.41 20L4 18.59l7.72-7.72 1.47 1.35L5.41 20z\"/>\n",
              "  </svg>\n",
              "      </button>\n",
              "      \n",
              "  <style>\n",
              "    .colab-df-container {\n",
              "      display:flex;\n",
              "      flex-wrap:wrap;\n",
              "      gap: 12px;\n",
              "    }\n",
              "\n",
              "    .colab-df-convert {\n",
              "      background-color: #E8F0FE;\n",
              "      border: none;\n",
              "      border-radius: 50%;\n",
              "      cursor: pointer;\n",
              "      display: none;\n",
              "      fill: #1967D2;\n",
              "      height: 32px;\n",
              "      padding: 0 0 0 0;\n",
              "      width: 32px;\n",
              "    }\n",
              "\n",
              "    .colab-df-convert:hover {\n",
              "      background-color: #E2EBFA;\n",
              "      box-shadow: 0px 1px 2px rgba(60, 64, 67, 0.3), 0px 1px 3px 1px rgba(60, 64, 67, 0.15);\n",
              "      fill: #174EA6;\n",
              "    }\n",
              "\n",
              "    [theme=dark] .colab-df-convert {\n",
              "      background-color: #3B4455;\n",
              "      fill: #D2E3FC;\n",
              "    }\n",
              "\n",
              "    [theme=dark] .colab-df-convert:hover {\n",
              "      background-color: #434B5C;\n",
              "      box-shadow: 0px 1px 3px 1px rgba(0, 0, 0, 0.15);\n",
              "      filter: drop-shadow(0px 1px 2px rgba(0, 0, 0, 0.3));\n",
              "      fill: #FFFFFF;\n",
              "    }\n",
              "  </style>\n",
              "\n",
              "      <script>\n",
              "        const buttonEl =\n",
              "          document.querySelector('#df-0208d9a0-94ab-4438-81de-fe0b58c4983f button.colab-df-convert');\n",
              "        buttonEl.style.display =\n",
              "          google.colab.kernel.accessAllowed ? 'block' : 'none';\n",
              "\n",
              "        async function convertToInteractive(key) {\n",
              "          const element = document.querySelector('#df-0208d9a0-94ab-4438-81de-fe0b58c4983f');\n",
              "          const dataTable =\n",
              "            await google.colab.kernel.invokeFunction('convertToInteractive',\n",
              "                                                     [key], {});\n",
              "          if (!dataTable) return;\n",
              "\n",
              "          const docLinkHtml = 'Like what you see? Visit the ' +\n",
              "            '<a target=\"_blank\" href=https://colab.research.google.com/notebooks/data_table.ipynb>data table notebook</a>'\n",
              "            + ' to learn more about interactive tables.';\n",
              "          element.innerHTML = '';\n",
              "          dataTable['output_type'] = 'display_data';\n",
              "          await google.colab.output.renderOutput(dataTable, element);\n",
              "          const docLink = document.createElement('div');\n",
              "          docLink.innerHTML = docLinkHtml;\n",
              "          element.appendChild(docLink);\n",
              "        }\n",
              "      </script>\n",
              "    </div>\n",
              "  </div>\n",
              "  "
            ]
          },
          "metadata": {},
          "execution_count": 422
        }
      ]
    },
    {
      "cell_type": "markdown",
      "source": [
        "On obtient un vecteur de taille 7 avec des zéros partout sauf à la position correspondant à la valeur de la classe où il devrait y avoir un 1. Mais les valeurs de la cible devraient commencer à 0 (ici elles commencent à 1)."
      ],
      "metadata": {
        "id": "KyGJxGXV_fiS"
      }
    },
    {
      "cell_type": "code",
      "source": [
        "model = tf.keras.models.Sequential([\n",
        "    tf.keras.layers.Input(shape=(X_train_scaled.shape[1],)),\n",
        "    tf.keras.layers.Dense(128),\n",
        "    tf.keras.layers.Dense(64),\n",
        "    tf.keras.layers.Dense(32),\n",
        "    tf.keras.layers.Dense(7)\n",
        "])"
      ],
      "metadata": {
        "id": "DQJ0Tz6Mu9E3"
      },
      "execution_count": 275,
      "outputs": []
    },
    {
      "cell_type": "code",
      "source": [
        "model.compile(optimizer=tf.keras.optimizers.Adam(),\n",
        "              loss=tf.keras.losses.BinaryCrossentropy(from_logits=True),\n",
        "              metrics=['accuracy'])"
      ],
      "metadata": {
        "id": "9HaAgymMu9W3"
      },
      "execution_count": 276,
      "outputs": []
    },
    {
      "cell_type": "code",
      "source": [
        "history = model.fit(X_train_scaled, train_labels_binarized, epochs=50, batch_size=32, validation_data=(X_valid_scaled, valid_labels_binarized))"
      ],
      "metadata": {
        "colab": {
          "base_uri": "https://localhost:8080/"
        },
        "outputId": "1e887b19-c474-464d-cc67-adab14b45f9f",
        "id": "bvDe3lcmu9W4"
      },
      "execution_count": 277,
      "outputs": [
        {
          "output_type": "stream",
          "name": "stdout",
          "text": [
            "Epoch 1/50\n",
            "38/38 [==============================] - 1s 10ms/step - loss: 0.9085 - accuracy: 0.4597 - val_loss: 0.6290 - val_accuracy: 0.5843\n",
            "Epoch 2/50\n",
            "38/38 [==============================] - 0s 5ms/step - loss: 0.5448 - accuracy: 0.7008 - val_loss: 0.5248 - val_accuracy: 0.6000\n",
            "Epoch 3/50\n",
            "38/38 [==============================] - 0s 5ms/step - loss: 0.4059 - accuracy: 0.7655 - val_loss: 0.4431 - val_accuracy: 0.6588\n",
            "Epoch 4/50\n",
            "38/38 [==============================] - 0s 5ms/step - loss: 0.3138 - accuracy: 0.8067 - val_loss: 0.3779 - val_accuracy: 0.6157\n",
            "Epoch 5/50\n",
            "38/38 [==============================] - 0s 6ms/step - loss: 0.2337 - accuracy: 0.8319 - val_loss: 0.3354 - val_accuracy: 0.6392\n",
            "Epoch 6/50\n",
            "38/38 [==============================] - 0s 6ms/step - loss: 0.1788 - accuracy: 0.8622 - val_loss: 0.3154 - val_accuracy: 0.6667\n",
            "Epoch 7/50\n",
            "38/38 [==============================] - 0s 6ms/step - loss: 0.1478 - accuracy: 0.8807 - val_loss: 0.3054 - val_accuracy: 0.6745\n",
            "Epoch 8/50\n",
            "38/38 [==============================] - 0s 5ms/step - loss: 0.1272 - accuracy: 0.9017 - val_loss: 0.3192 - val_accuracy: 0.6784\n",
            "Epoch 9/50\n",
            "38/38 [==============================] - 0s 6ms/step - loss: 0.1127 - accuracy: 0.9109 - val_loss: 0.3329 - val_accuracy: 0.6784\n",
            "Epoch 10/50\n",
            "38/38 [==============================] - 0s 6ms/step - loss: 0.1032 - accuracy: 0.9185 - val_loss: 0.3578 - val_accuracy: 0.6667\n",
            "Epoch 11/50\n",
            "38/38 [==============================] - 0s 5ms/step - loss: 0.0955 - accuracy: 0.9252 - val_loss: 0.4022 - val_accuracy: 0.6588\n",
            "Epoch 12/50\n",
            "38/38 [==============================] - 0s 6ms/step - loss: 0.0926 - accuracy: 0.9412 - val_loss: 0.4296 - val_accuracy: 0.6549\n",
            "Epoch 13/50\n",
            "38/38 [==============================] - 0s 5ms/step - loss: 0.1044 - accuracy: 0.9403 - val_loss: 0.4587 - val_accuracy: 0.6431\n",
            "Epoch 14/50\n",
            "38/38 [==============================] - 0s 6ms/step - loss: 0.0870 - accuracy: 0.9521 - val_loss: 0.4867 - val_accuracy: 0.6510\n",
            "Epoch 15/50\n",
            "38/38 [==============================] - 0s 5ms/step - loss: 0.0908 - accuracy: 0.9529 - val_loss: 0.5174 - val_accuracy: 0.6000\n",
            "Epoch 16/50\n",
            "38/38 [==============================] - 0s 4ms/step - loss: 0.0831 - accuracy: 0.9546 - val_loss: 0.5085 - val_accuracy: 0.6392\n",
            "Epoch 17/50\n",
            "38/38 [==============================] - 0s 5ms/step - loss: 0.0690 - accuracy: 0.9538 - val_loss: 0.4974 - val_accuracy: 0.6196\n",
            "Epoch 18/50\n",
            "38/38 [==============================] - 0s 5ms/step - loss: 0.0578 - accuracy: 0.9689 - val_loss: 0.5502 - val_accuracy: 0.6314\n",
            "Epoch 19/50\n",
            "38/38 [==============================] - 0s 6ms/step - loss: 0.0477 - accuracy: 0.9756 - val_loss: 0.5695 - val_accuracy: 0.6275\n",
            "Epoch 20/50\n",
            "38/38 [==============================] - 0s 5ms/step - loss: 0.0460 - accuracy: 0.9807 - val_loss: 0.5920 - val_accuracy: 0.6118\n",
            "Epoch 21/50\n",
            "38/38 [==============================] - 0s 5ms/step - loss: 0.0486 - accuracy: 0.9773 - val_loss: 0.6377 - val_accuracy: 0.6078\n",
            "Epoch 22/50\n",
            "38/38 [==============================] - 0s 5ms/step - loss: 0.0417 - accuracy: 0.9790 - val_loss: 0.6775 - val_accuracy: 0.6314\n",
            "Epoch 23/50\n",
            "38/38 [==============================] - 0s 6ms/step - loss: 0.0366 - accuracy: 0.9798 - val_loss: 0.7114 - val_accuracy: 0.6039\n",
            "Epoch 24/50\n",
            "38/38 [==============================] - 0s 6ms/step - loss: 0.0301 - accuracy: 0.9874 - val_loss: 0.7451 - val_accuracy: 0.6039\n",
            "Epoch 25/50\n",
            "38/38 [==============================] - 0s 6ms/step - loss: 0.0294 - accuracy: 0.9840 - val_loss: 0.7779 - val_accuracy: 0.5843\n",
            "Epoch 26/50\n",
            "38/38 [==============================] - 0s 6ms/step - loss: 0.0273 - accuracy: 0.9899 - val_loss: 0.8062 - val_accuracy: 0.6039\n",
            "Epoch 27/50\n",
            "38/38 [==============================] - 0s 5ms/step - loss: 0.0235 - accuracy: 0.9916 - val_loss: 0.8477 - val_accuracy: 0.5882\n",
            "Epoch 28/50\n",
            "38/38 [==============================] - 0s 5ms/step - loss: 0.0220 - accuracy: 0.9933 - val_loss: 0.8991 - val_accuracy: 0.5882\n",
            "Epoch 29/50\n",
            "38/38 [==============================] - 0s 6ms/step - loss: 0.0246 - accuracy: 0.9950 - val_loss: 0.8959 - val_accuracy: 0.6039\n",
            "Epoch 30/50\n",
            "38/38 [==============================] - 0s 6ms/step - loss: 0.0243 - accuracy: 0.9924 - val_loss: 0.9268 - val_accuracy: 0.6000\n",
            "Epoch 31/50\n",
            "38/38 [==============================] - 0s 5ms/step - loss: 0.0243 - accuracy: 0.9933 - val_loss: 0.9593 - val_accuracy: 0.6000\n",
            "Epoch 32/50\n",
            "38/38 [==============================] - 0s 6ms/step - loss: 0.0449 - accuracy: 0.9866 - val_loss: 1.0548 - val_accuracy: 0.5843\n",
            "Epoch 33/50\n",
            "38/38 [==============================] - 0s 6ms/step - loss: 0.0593 - accuracy: 0.9866 - val_loss: 0.9739 - val_accuracy: 0.6157\n",
            "Epoch 34/50\n",
            "38/38 [==============================] - 0s 6ms/step - loss: 0.0607 - accuracy: 0.9874 - val_loss: 1.0164 - val_accuracy: 0.5882\n",
            "Epoch 35/50\n",
            "38/38 [==============================] - 0s 5ms/step - loss: 0.1026 - accuracy: 0.9706 - val_loss: 1.1010 - val_accuracy: 0.5569\n",
            "Epoch 36/50\n",
            "38/38 [==============================] - 0s 7ms/step - loss: 0.0793 - accuracy: 0.9689 - val_loss: 0.9201 - val_accuracy: 0.6000\n",
            "Epoch 37/50\n",
            "38/38 [==============================] - 0s 8ms/step - loss: 0.0460 - accuracy: 0.9916 - val_loss: 0.9348 - val_accuracy: 0.6039\n",
            "Epoch 38/50\n",
            "38/38 [==============================] - 0s 8ms/step - loss: 0.0307 - accuracy: 0.9924 - val_loss: 0.9819 - val_accuracy: 0.5922\n",
            "Epoch 39/50\n",
            "38/38 [==============================] - 0s 8ms/step - loss: 0.0221 - accuracy: 0.9975 - val_loss: 1.0283 - val_accuracy: 0.5765\n",
            "Epoch 40/50\n",
            "38/38 [==============================] - 0s 8ms/step - loss: 0.0168 - accuracy: 0.9975 - val_loss: 1.0498 - val_accuracy: 0.5961\n",
            "Epoch 41/50\n",
            "38/38 [==============================] - 0s 8ms/step - loss: 0.0124 - accuracy: 1.0000 - val_loss: 1.0820 - val_accuracy: 0.5882\n",
            "Epoch 42/50\n",
            "38/38 [==============================] - 0s 8ms/step - loss: 0.0148 - accuracy: 0.9958 - val_loss: 1.1031 - val_accuracy: 0.5922\n",
            "Epoch 43/50\n",
            "38/38 [==============================] - 0s 8ms/step - loss: 0.0126 - accuracy: 1.0000 - val_loss: 1.1426 - val_accuracy: 0.5804\n",
            "Epoch 44/50\n",
            "38/38 [==============================] - 0s 8ms/step - loss: 0.0082 - accuracy: 0.9992 - val_loss: 1.1632 - val_accuracy: 0.5922\n",
            "Epoch 45/50\n",
            "38/38 [==============================] - 0s 8ms/step - loss: 0.0059 - accuracy: 1.0000 - val_loss: 1.1935 - val_accuracy: 0.5843\n",
            "Epoch 46/50\n",
            "38/38 [==============================] - 0s 6ms/step - loss: 0.0054 - accuracy: 1.0000 - val_loss: 1.2265 - val_accuracy: 0.5765\n",
            "Epoch 47/50\n",
            "38/38 [==============================] - 0s 5ms/step - loss: 0.0044 - accuracy: 1.0000 - val_loss: 1.2532 - val_accuracy: 0.5882\n",
            "Epoch 48/50\n",
            "38/38 [==============================] - 0s 5ms/step - loss: 0.0040 - accuracy: 1.0000 - val_loss: 1.2732 - val_accuracy: 0.5922\n",
            "Epoch 49/50\n",
            "38/38 [==============================] - 0s 5ms/step - loss: 0.0035 - accuracy: 1.0000 - val_loss: 1.3045 - val_accuracy: 0.5843\n",
            "Epoch 50/50\n",
            "38/38 [==============================] - 0s 5ms/step - loss: 0.0031 - accuracy: 1.0000 - val_loss: 1.3273 - val_accuracy: 0.5922\n"
          ]
        }
      ]
    },
    {
      "cell_type": "code",
      "source": [
        "max_score_index = np.argmax(history.history['val_accuracy'])\n",
        "\n",
        "print(f'{history.history[\"val_loss\"][max_score_index]} --> {history.history[\"val_accuracy\"][max_score_index]}')"
      ],
      "metadata": {
        "colab": {
          "base_uri": "https://localhost:8080/"
        },
        "id": "qCkua1nnvjoV",
        "outputId": "4b78cdaa-7184-4c13-d337-7cdeeb267fce"
      },
      "execution_count": 254,
      "outputs": [
        {
          "output_type": "stream",
          "name": "stdout",
          "text": [
            "1.563311219215393 --> 0.7098039388656616\n"
          ]
        }
      ]
    },
    {
      "cell_type": "code",
      "source": [
        "# Plot training & validation accuracy values\n",
        "plt.plot(history.history['val_loss'], 'r')\n",
        "plt.plot(history.history['val_accuracy'], 'green')\n",
        "plt.plot(history.history['accuracy'], 'b')\n",
        "plt.title('Loss')\n",
        "plt.ylabel('Accuracy')\n",
        "plt.xlabel('Epoch')\n",
        "plt.legend(['Validation Loss', 'Validation', 'Train'], loc='best')\n",
        "plt.show()"
      ],
      "metadata": {
        "colab": {
          "base_uri": "https://localhost:8080/",
          "height": 295
        },
        "id": "EhtDO953vI5u",
        "outputId": "330bb053-644e-4834-be5c-56aa1253f269"
      },
      "execution_count": 261,
      "outputs": [
        {
          "output_type": "display_data",
          "data": {
            "text/plain": [
              "<Figure size 432x288 with 1 Axes>"
            ],
            "image/png": "[encoded data removed]"
          },
          "metadata": {
            "needs_background": "light"
          }
        }
      ]
    },
    {
      "cell_type": "markdown",
      "source": [
        "Le résultat obtenu est beaucoup mieux. En particulier sur le jeu d'apprentissage, la précision atteint 1.0 au fur et à mesure de l'apprentissage.\n",
        "\n",
        "La précision sur la validation a aussi augmentée même si elle chute après quelques epochs.\n",
        "\n",
        "Qaunt à la perte sur la validation, elle n'est plus linéaire comme au départ.\n",
        "Le modèle peut encore être amélioré.\n"
      ],
      "metadata": {
        "id": "6AEECm89ziSr"
      }
    },
    {
      "cell_type": "markdown",
      "source": [
        "#### Ajouter plus de couches"
      ],
      "metadata": {
        "id": "KSP2c_dnQFY4"
      }
    },
    {
      "cell_type": "markdown",
      "source": [
        "On peut augmenter le nombre de couches cachées du modèle précédent et voir si le modèle fait mieux."
      ],
      "metadata": {
        "id": "YgcrnrDOQFY5"
      }
    },
    {
      "cell_type": "code",
      "source": [
        "model = tf.keras.models.Sequential([\n",
        "    tf.keras.layers.Input(shape=(X_train_scaled.shape[1],)),\n",
        "    tf.keras.layers.Dense(512),\n",
        "    tf.keras.layers.Dense(256),\n",
        "    tf.keras.layers.Dense(128),\n",
        "    tf.keras.layers.Dense(64),\n",
        "    tf.keras.layers.Dense(32),\n",
        "    tf.keras.layers.Dense(7)\n",
        "])\n",
        "\n",
        "model.compile(optimizer=tf.keras.optimizers.Adam(),\n",
        "              loss=tf.keras.losses.BinaryCrossentropy(from_logits=True),\n",
        "              metrics=['accuracy'])"
      ],
      "metadata": {
        "id": "19EYNgvjQFY5"
      },
      "execution_count": 365,
      "outputs": []
    },
    {
      "cell_type": "code",
      "source": [
        "history = model.fit(X_train_scaled, train_labels_binarized, epochs=50, batch_size=32, validation_data=(X_valid_scaled, valid_labels_binarized))"
      ],
      "metadata": {
        "colab": {
          "base_uri": "https://localhost:8080/"
        },
        "outputId": "24ab4fa8-60ca-4776-e020-4cc913fef167",
        "id": "Eray9AsbQFY5"
      },
      "execution_count": 366,
      "outputs": [
        {
          "output_type": "stream",
          "name": "stdout",
          "text": [
            "Epoch 1/50\n",
            "38/38 [==============================] - 2s 14ms/step - loss: 0.9298 - accuracy: 0.4765 - val_loss: 0.6590 - val_accuracy: 0.5608\n",
            "Epoch 2/50\n",
            "38/38 [==============================] - 0s 10ms/step - loss: 0.5685 - accuracy: 0.6899 - val_loss: 0.4936 - val_accuracy: 0.6196\n",
            "Epoch 3/50\n",
            "38/38 [==============================] - 0s 10ms/step - loss: 0.3962 - accuracy: 0.7387 - val_loss: 0.3659 - val_accuracy: 0.6314\n",
            "Epoch 4/50\n",
            "38/38 [==============================] - 0s 11ms/step - loss: 0.2590 - accuracy: 0.7916 - val_loss: 0.2897 - val_accuracy: 0.6588\n",
            "Epoch 5/50\n",
            "38/38 [==============================] - 0s 11ms/step - loss: 0.1954 - accuracy: 0.8303 - val_loss: 0.3379 - val_accuracy: 0.6431\n",
            "Epoch 6/50\n",
            "38/38 [==============================] - 0s 9ms/step - loss: 0.1789 - accuracy: 0.8521 - val_loss: 0.3483 - val_accuracy: 0.6667\n",
            "Epoch 7/50\n",
            "38/38 [==============================] - 0s 10ms/step - loss: 0.1525 - accuracy: 0.8588 - val_loss: 0.3433 - val_accuracy: 0.6392\n",
            "Epoch 8/50\n",
            "38/38 [==============================] - 0s 10ms/step - loss: 0.1414 - accuracy: 0.8739 - val_loss: 0.3847 - val_accuracy: 0.6431\n",
            "Epoch 9/50\n",
            "38/38 [==============================] - 0s 10ms/step - loss: 0.1240 - accuracy: 0.8891 - val_loss: 0.4311 - val_accuracy: 0.6627\n",
            "Epoch 10/50\n",
            "38/38 [==============================] - 0s 11ms/step - loss: 0.1171 - accuracy: 0.9000 - val_loss: 0.4250 - val_accuracy: 0.6471\n",
            "Epoch 11/50\n",
            "38/38 [==============================] - 0s 11ms/step - loss: 0.1463 - accuracy: 0.9025 - val_loss: 0.5980 - val_accuracy: 0.6275\n",
            "Epoch 12/50\n",
            "38/38 [==============================] - 0s 11ms/step - loss: 0.1764 - accuracy: 0.8714 - val_loss: 0.4530 - val_accuracy: 0.6275\n",
            "Epoch 13/50\n",
            "38/38 [==============================] - 0s 10ms/step - loss: 0.2111 - accuracy: 0.8580 - val_loss: 0.4685 - val_accuracy: 0.5961\n",
            "Epoch 14/50\n",
            "38/38 [==============================] - 0s 10ms/step - loss: 0.1244 - accuracy: 0.9101 - val_loss: 0.4832 - val_accuracy: 0.6549\n",
            "Epoch 15/50\n",
            "38/38 [==============================] - 0s 10ms/step - loss: 0.0884 - accuracy: 0.9353 - val_loss: 0.5178 - val_accuracy: 0.6471\n",
            "Epoch 16/50\n",
            "38/38 [==============================] - 0s 11ms/step - loss: 0.1139 - accuracy: 0.9235 - val_loss: 0.5742 - val_accuracy: 0.6314\n",
            "Epoch 17/50\n",
            "38/38 [==============================] - 0s 11ms/step - loss: 0.1079 - accuracy: 0.9210 - val_loss: 0.5394 - val_accuracy: 0.6157\n",
            "Epoch 18/50\n",
            "38/38 [==============================] - 0s 11ms/step - loss: 0.0714 - accuracy: 0.9529 - val_loss: 0.5853 - val_accuracy: 0.6196\n",
            "Epoch 19/50\n",
            "38/38 [==============================] - 0s 10ms/step - loss: 0.0539 - accuracy: 0.9613 - val_loss: 0.6359 - val_accuracy: 0.6235\n",
            "Epoch 20/50\n",
            "38/38 [==============================] - 0s 10ms/step - loss: 0.0641 - accuracy: 0.9588 - val_loss: 0.7336 - val_accuracy: 0.6157\n",
            "Epoch 21/50\n",
            "38/38 [==============================] - 0s 10ms/step - loss: 0.0847 - accuracy: 0.9487 - val_loss: 0.6985 - val_accuracy: 0.6157\n",
            "Epoch 22/50\n",
            "38/38 [==============================] - 0s 9ms/step - loss: 0.0728 - accuracy: 0.9513 - val_loss: 0.6620 - val_accuracy: 0.6118\n",
            "Epoch 23/50\n",
            "38/38 [==============================] - 0s 10ms/step - loss: 0.0535 - accuracy: 0.9664 - val_loss: 0.7239 - val_accuracy: 0.6000\n",
            "Epoch 24/50\n",
            "38/38 [==============================] - 1s 14ms/step - loss: 0.0639 - accuracy: 0.9664 - val_loss: 0.7748 - val_accuracy: 0.6039\n",
            "Epoch 25/50\n",
            "38/38 [==============================] - 1s 14ms/step - loss: 0.1022 - accuracy: 0.9521 - val_loss: 0.8232 - val_accuracy: 0.5725\n",
            "Epoch 26/50\n",
            "38/38 [==============================] - 1s 14ms/step - loss: 0.1534 - accuracy: 0.9244 - val_loss: 0.7126 - val_accuracy: 0.6078\n",
            "Epoch 27/50\n",
            "38/38 [==============================] - 1s 15ms/step - loss: 0.1264 - accuracy: 0.9303 - val_loss: 0.7094 - val_accuracy: 0.5882\n",
            "Epoch 28/50\n",
            "38/38 [==============================] - 1s 14ms/step - loss: 0.2082 - accuracy: 0.9067 - val_loss: 0.6351 - val_accuracy: 0.5765\n",
            "Epoch 29/50\n",
            "38/38 [==============================] - 1s 14ms/step - loss: 0.1213 - accuracy: 0.9387 - val_loss: 0.6022 - val_accuracy: 0.6039\n",
            "Epoch 30/50\n",
            "38/38 [==============================] - 0s 9ms/step - loss: 0.0996 - accuracy: 0.9429 - val_loss: 0.6315 - val_accuracy: 0.6118\n",
            "Epoch 31/50\n",
            "38/38 [==============================] - 0s 10ms/step - loss: 0.0728 - accuracy: 0.9655 - val_loss: 0.6472 - val_accuracy: 0.6196\n",
            "Epoch 32/50\n",
            "38/38 [==============================] - 0s 11ms/step - loss: 0.0465 - accuracy: 0.9773 - val_loss: 0.7476 - val_accuracy: 0.6196\n",
            "Epoch 33/50\n",
            "38/38 [==============================] - 0s 9ms/step - loss: 0.1222 - accuracy: 0.9588 - val_loss: 0.8032 - val_accuracy: 0.5686\n",
            "Epoch 34/50\n",
            "38/38 [==============================] - 0s 10ms/step - loss: 0.1539 - accuracy: 0.9185 - val_loss: 0.6964 - val_accuracy: 0.5961\n",
            "Epoch 35/50\n",
            "38/38 [==============================] - 0s 10ms/step - loss: 0.0770 - accuracy: 0.9529 - val_loss: 0.6323 - val_accuracy: 0.6000\n",
            "Epoch 36/50\n",
            "38/38 [==============================] - 0s 10ms/step - loss: 0.0422 - accuracy: 0.9756 - val_loss: 0.6928 - val_accuracy: 0.6078\n",
            "Epoch 37/50\n",
            "38/38 [==============================] - 0s 11ms/step - loss: 0.0287 - accuracy: 0.9908 - val_loss: 0.7635 - val_accuracy: 0.5804\n",
            "Epoch 38/50\n",
            "38/38 [==============================] - 0s 10ms/step - loss: 0.0256 - accuracy: 0.9874 - val_loss: 0.8617 - val_accuracy: 0.6039\n",
            "Epoch 39/50\n",
            "38/38 [==============================] - 0s 11ms/step - loss: 0.0216 - accuracy: 0.9899 - val_loss: 0.9236 - val_accuracy: 0.5922\n",
            "Epoch 40/50\n",
            "38/38 [==============================] - 0s 10ms/step - loss: 0.0225 - accuracy: 0.9874 - val_loss: 0.9663 - val_accuracy: 0.5961\n",
            "Epoch 41/50\n",
            "38/38 [==============================] - 0s 10ms/step - loss: 0.0189 - accuracy: 0.9941 - val_loss: 1.0257 - val_accuracy: 0.5647\n",
            "Epoch 42/50\n",
            "38/38 [==============================] - 0s 11ms/step - loss: 0.0222 - accuracy: 0.9941 - val_loss: 1.0996 - val_accuracy: 0.5608\n",
            "Epoch 43/50\n",
            "38/38 [==============================] - 0s 10ms/step - loss: 0.0367 - accuracy: 0.9908 - val_loss: 1.0643 - val_accuracy: 0.5765\n",
            "Epoch 44/50\n",
            "38/38 [==============================] - 0s 11ms/step - loss: 0.0426 - accuracy: 0.9924 - val_loss: 1.1747 - val_accuracy: 0.5686\n",
            "Epoch 45/50\n",
            "38/38 [==============================] - 0s 10ms/step - loss: 0.0413 - accuracy: 0.9916 - val_loss: 1.1530 - val_accuracy: 0.5765\n",
            "Epoch 46/50\n",
            "38/38 [==============================] - 0s 10ms/step - loss: 0.0727 - accuracy: 0.9874 - val_loss: 1.1246 - val_accuracy: 0.5804\n",
            "Epoch 47/50\n",
            "38/38 [==============================] - 0s 9ms/step - loss: 0.0689 - accuracy: 0.9773 - val_loss: 1.0502 - val_accuracy: 0.5804\n",
            "Epoch 48/50\n",
            "38/38 [==============================] - 0s 10ms/step - loss: 0.0531 - accuracy: 0.9773 - val_loss: 1.0275 - val_accuracy: 0.6039\n",
            "Epoch 49/50\n",
            "38/38 [==============================] - 0s 10ms/step - loss: 0.0917 - accuracy: 0.9588 - val_loss: 0.9154 - val_accuracy: 0.5765\n",
            "Epoch 50/50\n",
            "38/38 [==============================] - 0s 10ms/step - loss: 0.0833 - accuracy: 0.9622 - val_loss: 0.8880 - val_accuracy: 0.5725\n"
          ]
        }
      ]
    },
    {
      "cell_type": "code",
      "source": [
        "np.max(history.history['val_accuracy']) * 100"
      ],
      "metadata": {
        "colab": {
          "base_uri": "https://localhost:8080/"
        },
        "outputId": "c9a56a6d-4abf-4a4f-a3e4-30a7fd6173db",
        "id": "XMFIxIYHQFY5"
      },
      "execution_count": 367,
      "outputs": [
        {
          "output_type": "execute_result",
          "data": {
            "text/plain": [
              "66.66666865348816"
            ]
          },
          "metadata": {},
          "execution_count": 367
        }
      ]
    },
    {
      "cell_type": "code",
      "source": [
        "# Plot training & validation accuracy values\n",
        "plt.plot(history.history['val_loss'], 'r')\n",
        "plt.plot(history.history['val_accuracy'], 'green')\n",
        "plt.plot(history.history['accuracy'], 'b')\n",
        "plt.title('Loss')\n",
        "plt.ylabel('Accuracy')\n",
        "plt.xlabel('Epoch')\n",
        "plt.legend(['Validation Loss', 'Validation', 'Train'], loc='best')\n",
        "plt.show()"
      ],
      "metadata": {
        "colab": {
          "base_uri": "https://localhost:8080/",
          "height": 295
        },
        "outputId": "f19282bd-0a51-4534-91be-e889e9ffc2ae",
        "id": "SVa1l2OaQFY6"
      },
      "execution_count": 368,
      "outputs": [
        {
          "output_type": "display_data",
          "data": {
            "text/plain": [
              "<Figure size 432x288 with 1 Axes>"
            ],
            "image/png": "[encoded data removed]"
          },
          "metadata": {
            "needs_background": "light"
          }
        }
      ]
    },
    {
      "cell_type": "markdown",
      "source": [
        "Une très faible amélioration par rapport au modèle précédent. La perte augmente toujours. En plus le modèle réalise rélativement de bons scores sur les données d'entrainement, ce qui laisse croire qu'il y a sur-ajustement.\n",
        "\n",
        "Il peut être intéressant d'ajouter des fonctions d'activation aux noeuds de notre modèle afin d'introduire de la non-linéarité dans les prédictions. Cela pourrait améliorer le modèle."
      ],
      "metadata": {
        "id": "PsouwQ91QFY6"
      }
    },
    {
      "cell_type": "markdown",
      "source": [
        "#### Ajouter des fonctions d'activation aux couches"
      ],
      "metadata": {
        "id": "Un_rZbPwhUEf"
      }
    },
    {
      "cell_type": "markdown",
      "source": [
        "Les fonctions d'activation vont permettre d'ajouter de la non-linéarité aux données. L'idée est d'essayer plusieurs fonctions d'activation et de garder celles qui donnent la meilleure performance.\n",
        "\n",
        "On utilise très souvent les fonctions suivantes :\n",
        "\n",
        "- **Sigmoid** : cette fonction d'activation fait correspondre tout nombre réel à l'intervalle [0, 1]. Elle est couramment utilisée comme fonction d'activation pour les problèmes de classification binaire.\n",
        "\n",
        "- **ReLU (Rectified Linear Unit)** : Cette fonction d'activation est une fonction linéaire par morceaux qui renvoie l'entrée si elle est positive et 0 sinon. Elle est largement utilisée dans les modèles d'apprentissage profond car elle est efficace sur le plan computationnel et contribue à prévenir le problème de disparition du gradient.\n",
        "\n",
        "- **Leaky ReLU** : Il s'agit d'une variation de la fonction ReLU qui permet un petit gradient non nul lorsque l'entrée est négative, ce qui peut aider à éviter les neurones morts.\n",
        "\n",
        "- **Tanh (tangente hyperbolique)** : Cette fonction d'activation renvoie une valeur entre -1 et 1, ce qui peut être utile pour certains types de données. C'est également une version lissée de la fonction escalier, ce qui la rend plus facile à optimiser à l'aide de méthodes basées sur les gradients.\n",
        "\n",
        "- **Softmax** : Il s'agit d'une généralisation de la fonction sigmoïde qui peut être utilisée pour des problèmes de classification multiclasse. Elle cartographie la sortie de la dernière couche sur une distribution de probabilité sur les différentes classes."
      ],
      "metadata": {
        "id": "CLDJ4zHQ50xj"
      }
    },
    {
      "cell_type": "code",
      "source": [
        "model = tf.keras.models.Sequential([\n",
        "    tf.keras.layers.Input(shape=(X_train_scaled.shape[1],)),\n",
        "    tf.keras.layers.Dense(512, activation='relu'),\n",
        "    tf.keras.layers.Dense(256, activation='relu'),\n",
        "    tf.keras.layers.Dense(128, activation='relu'),\n",
        "    tf.keras.layers.Dense(64, activation='tanh'),\n",
        "    tf.keras.layers.Dense(32, activation='tanh'),\n",
        "    tf.keras.layers.Dense(7, activation='sigmoid')\n",
        "])\n",
        "\n",
        "model.compile(optimizer=tf.keras.optimizers.Adam(),\n",
        "              loss=tf.keras.losses.BinaryCrossentropy(from_logits=True),\n",
        "              metrics=['accuracy'])"
      ],
      "metadata": {
        "id": "xkUMHGLmiW-_"
      },
      "execution_count": 374,
      "outputs": []
    },
    {
      "cell_type": "code",
      "source": [
        "history = model.fit(X_train_scaled, train_labels_binarized, epochs=50, batch_size=100, validation_data=(X_valid_scaled, valid_labels_binarized))"
      ],
      "metadata": {
        "colab": {
          "base_uri": "https://localhost:8080/"
        },
        "id": "dObOYgyR1NLR",
        "outputId": "681578ec-ef56-41fe-990f-4a8078d41a3b"
      },
      "execution_count": 375,
      "outputs": [
        {
          "output_type": "stream",
          "name": "stdout",
          "text": [
            "Epoch 1/50\n"
          ]
        },
        {
          "output_type": "stream",
          "name": "stderr",
          "text": [
            "/usr/local/lib/python3.8/dist-packages/keras/backend.py:5676: UserWarning: \"`binary_crossentropy` received `from_logits=True`, but the `output` argument was produced by a Sigmoid activation and thus does not represent logits. Was this intended?\n",
            "  output, from_logits = _get_logits(\n"
          ]
        },
        {
          "output_type": "stream",
          "name": "stdout",
          "text": [
            "12/12 [==============================] - 2s 44ms/step - loss: 0.4623 - accuracy: 0.2798 - val_loss: 0.3721 - val_accuracy: 0.4627\n",
            "Epoch 2/50\n",
            " 1/12 [=>............................] - ETA: 0s - loss: 0.3595 - accuracy: 0.6200"
          ]
        },
        {
          "output_type": "stream",
          "name": "stderr",
          "text": [
            "/usr/local/lib/python3.8/dist-packages/keras/backend.py:5676: UserWarning: \"`binary_crossentropy` received `from_logits=True`, but the `output` argument was produced by a Sigmoid activation and thus does not represent logits. Was this intended?\n",
            "  output, from_logits = _get_logits(\n"
          ]
        },
        {
          "output_type": "stream",
          "name": "stdout",
          "text": [
            "12/12 [==============================] - 0s 22ms/step - loss: 0.3354 - accuracy: 0.6000 - val_loss: 0.3248 - val_accuracy: 0.5451\n",
            "Epoch 3/50\n",
            "12/12 [==============================] - 0s 21ms/step - loss: 0.2873 - accuracy: 0.6815 - val_loss: 0.2921 - val_accuracy: 0.6627\n",
            "Epoch 4/50\n",
            "12/12 [==============================] - 0s 23ms/step - loss: 0.2449 - accuracy: 0.8387 - val_loss: 0.2654 - val_accuracy: 0.6980\n",
            "Epoch 5/50\n",
            "12/12 [==============================] - 0s 22ms/step - loss: 0.2070 - accuracy: 0.9235 - val_loss: 0.2474 - val_accuracy: 0.7333\n",
            "Epoch 6/50\n",
            "12/12 [==============================] - 0s 19ms/step - loss: 0.1755 - accuracy: 0.9571 - val_loss: 0.2309 - val_accuracy: 0.7725\n",
            "Epoch 7/50\n",
            "12/12 [==============================] - 0s 16ms/step - loss: 0.1498 - accuracy: 0.9790 - val_loss: 0.2241 - val_accuracy: 0.7451\n",
            "Epoch 8/50\n",
            "12/12 [==============================] - 0s 17ms/step - loss: 0.1303 - accuracy: 0.9866 - val_loss: 0.2099 - val_accuracy: 0.7725\n",
            "Epoch 9/50\n",
            "12/12 [==============================] - 0s 17ms/step - loss: 0.1142 - accuracy: 0.9924 - val_loss: 0.2046 - val_accuracy: 0.7608\n",
            "Epoch 10/50\n",
            "12/12 [==============================] - 0s 16ms/step - loss: 0.1011 - accuracy: 0.9958 - val_loss: 0.2007 - val_accuracy: 0.7765\n",
            "Epoch 11/50\n",
            "12/12 [==============================] - 0s 17ms/step - loss: 0.0900 - accuracy: 0.9983 - val_loss: 0.1948 - val_accuracy: 0.7843\n",
            "Epoch 12/50\n",
            "12/12 [==============================] - 0s 16ms/step - loss: 0.0809 - accuracy: 0.9983 - val_loss: 0.1906 - val_accuracy: 0.7843\n",
            "Epoch 13/50\n",
            "12/12 [==============================] - 0s 17ms/step - loss: 0.0733 - accuracy: 0.9992 - val_loss: 0.1883 - val_accuracy: 0.7804\n",
            "Epoch 14/50\n",
            "12/12 [==============================] - 0s 16ms/step - loss: 0.0670 - accuracy: 1.0000 - val_loss: 0.1865 - val_accuracy: 0.7882\n",
            "Epoch 15/50\n",
            "12/12 [==============================] - 0s 17ms/step - loss: 0.0616 - accuracy: 1.0000 - val_loss: 0.1849 - val_accuracy: 0.7882\n",
            "Epoch 16/50\n",
            "12/12 [==============================] - 0s 17ms/step - loss: 0.0569 - accuracy: 1.0000 - val_loss: 0.1841 - val_accuracy: 0.7843\n",
            "Epoch 17/50\n",
            "12/12 [==============================] - 0s 17ms/step - loss: 0.0529 - accuracy: 1.0000 - val_loss: 0.1829 - val_accuracy: 0.7843\n",
            "Epoch 18/50\n",
            "12/12 [==============================] - 0s 17ms/step - loss: 0.0493 - accuracy: 1.0000 - val_loss: 0.1823 - val_accuracy: 0.7843\n",
            "Epoch 19/50\n",
            "12/12 [==============================] - 0s 17ms/step - loss: 0.0460 - accuracy: 1.0000 - val_loss: 0.1819 - val_accuracy: 0.7843\n",
            "Epoch 20/50\n",
            "12/12 [==============================] - 0s 17ms/step - loss: 0.0431 - accuracy: 1.0000 - val_loss: 0.1816 - val_accuracy: 0.7843\n",
            "Epoch 21/50\n",
            "12/12 [==============================] - 0s 16ms/step - loss: 0.0405 - accuracy: 1.0000 - val_loss: 0.1817 - val_accuracy: 0.7843\n",
            "Epoch 22/50\n",
            "12/12 [==============================] - 0s 17ms/step - loss: 0.0381 - accuracy: 1.0000 - val_loss: 0.1822 - val_accuracy: 0.7843\n",
            "Epoch 23/50\n",
            "12/12 [==============================] - 0s 17ms/step - loss: 0.0359 - accuracy: 1.0000 - val_loss: 0.1829 - val_accuracy: 0.7843\n",
            "Epoch 24/50\n",
            "12/12 [==============================] - 0s 16ms/step - loss: 0.0339 - accuracy: 1.0000 - val_loss: 0.1835 - val_accuracy: 0.7843\n",
            "Epoch 25/50\n",
            "12/12 [==============================] - 0s 17ms/step - loss: 0.0319 - accuracy: 1.0000 - val_loss: 0.1838 - val_accuracy: 0.7882\n",
            "Epoch 26/50\n",
            "12/12 [==============================] - 0s 17ms/step - loss: 0.0302 - accuracy: 1.0000 - val_loss: 0.1841 - val_accuracy: 0.7882\n",
            "Epoch 27/50\n",
            "12/12 [==============================] - 0s 15ms/step - loss: 0.0286 - accuracy: 1.0000 - val_loss: 0.1847 - val_accuracy: 0.7882\n",
            "Epoch 28/50\n",
            "12/12 [==============================] - 0s 17ms/step - loss: 0.0272 - accuracy: 1.0000 - val_loss: 0.1849 - val_accuracy: 0.7882\n",
            "Epoch 29/50\n",
            "12/12 [==============================] - 0s 16ms/step - loss: 0.0259 - accuracy: 1.0000 - val_loss: 0.1857 - val_accuracy: 0.7922\n",
            "Epoch 30/50\n",
            "12/12 [==============================] - 0s 17ms/step - loss: 0.0247 - accuracy: 1.0000 - val_loss: 0.1864 - val_accuracy: 0.7882\n",
            "Epoch 31/50\n",
            "12/12 [==============================] - 0s 16ms/step - loss: 0.0236 - accuracy: 1.0000 - val_loss: 0.1871 - val_accuracy: 0.7922\n",
            "Epoch 32/50\n",
            "12/12 [==============================] - 0s 17ms/step - loss: 0.0226 - accuracy: 1.0000 - val_loss: 0.1878 - val_accuracy: 0.7922\n",
            "Epoch 33/50\n",
            "12/12 [==============================] - 0s 16ms/step - loss: 0.0216 - accuracy: 1.0000 - val_loss: 0.1887 - val_accuracy: 0.7922\n",
            "Epoch 34/50\n",
            "12/12 [==============================] - 0s 16ms/step - loss: 0.0207 - accuracy: 1.0000 - val_loss: 0.1894 - val_accuracy: 0.7922\n",
            "Epoch 35/50\n",
            "12/12 [==============================] - 0s 16ms/step - loss: 0.0199 - accuracy: 1.0000 - val_loss: 0.1902 - val_accuracy: 0.7922\n",
            "Epoch 36/50\n",
            "12/12 [==============================] - 0s 16ms/step - loss: 0.0191 - accuracy: 1.0000 - val_loss: 0.1911 - val_accuracy: 0.7922\n",
            "Epoch 37/50\n",
            "12/12 [==============================] - 0s 16ms/step - loss: 0.0184 - accuracy: 1.0000 - val_loss: 0.1922 - val_accuracy: 0.7882\n",
            "Epoch 38/50\n",
            "12/12 [==============================] - 0s 18ms/step - loss: 0.0177 - accuracy: 1.0000 - val_loss: 0.1929 - val_accuracy: 0.7922\n",
            "Epoch 39/50\n",
            "12/12 [==============================] - 0s 16ms/step - loss: 0.0170 - accuracy: 1.0000 - val_loss: 0.1937 - val_accuracy: 0.7922\n",
            "Epoch 40/50\n",
            "12/12 [==============================] - 0s 16ms/step - loss: 0.0164 - accuracy: 1.0000 - val_loss: 0.1946 - val_accuracy: 0.7882\n",
            "Epoch 41/50\n",
            "12/12 [==============================] - 0s 16ms/step - loss: 0.0159 - accuracy: 1.0000 - val_loss: 0.1955 - val_accuracy: 0.7882\n",
            "Epoch 42/50\n",
            "12/12 [==============================] - 0s 18ms/step - loss: 0.0153 - accuracy: 1.0000 - val_loss: 0.1963 - val_accuracy: 0.7882\n",
            "Epoch 43/50\n",
            "12/12 [==============================] - 0s 17ms/step - loss: 0.0148 - accuracy: 1.0000 - val_loss: 0.1973 - val_accuracy: 0.7882\n",
            "Epoch 44/50\n",
            "12/12 [==============================] - 0s 17ms/step - loss: 0.0143 - accuracy: 1.0000 - val_loss: 0.1983 - val_accuracy: 0.7882\n",
            "Epoch 45/50\n",
            "12/12 [==============================] - 0s 16ms/step - loss: 0.0139 - accuracy: 1.0000 - val_loss: 0.1992 - val_accuracy: 0.7882\n",
            "Epoch 46/50\n",
            "12/12 [==============================] - 0s 17ms/step - loss: 0.0134 - accuracy: 1.0000 - val_loss: 0.2000 - val_accuracy: 0.7882\n",
            "Epoch 47/50\n",
            "12/12 [==============================] - 0s 16ms/step - loss: 0.0130 - accuracy: 1.0000 - val_loss: 0.2009 - val_accuracy: 0.7882\n",
            "Epoch 48/50\n",
            "12/12 [==============================] - 0s 16ms/step - loss: 0.0126 - accuracy: 1.0000 - val_loss: 0.2018 - val_accuracy: 0.7882\n",
            "Epoch 49/50\n",
            "12/12 [==============================] - 0s 17ms/step - loss: 0.0122 - accuracy: 1.0000 - val_loss: 0.2028 - val_accuracy: 0.7882\n",
            "Epoch 50/50\n",
            "12/12 [==============================] - 0s 15ms/step - loss: 0.0119 - accuracy: 1.0000 - val_loss: 0.2037 - val_accuracy: 0.7882\n"
          ]
        }
      ]
    },
    {
      "cell_type": "code",
      "source": [
        "np.max(history.history['val_accuracy']) * 100"
      ],
      "metadata": {
        "colab": {
          "base_uri": "https://localhost:8080/"
        },
        "id": "KfZTtysc1Oio",
        "outputId": "b147a5b8-ff56-4b96-87b4-6da2977ee9c5"
      },
      "execution_count": 376,
      "outputs": [
        {
          "output_type": "execute_result",
          "data": {
            "text/plain": [
              "79.21568751335144"
            ]
          },
          "metadata": {},
          "execution_count": 376
        }
      ]
    },
    {
      "cell_type": "code",
      "source": [
        "# Plot training & validation accuracy values\n",
        "plt.plot(history.history['val_loss'], 'r')\n",
        "plt.plot(history.history['val_accuracy'], 'green')\n",
        "plt.plot(history.history['accuracy'], 'b')\n",
        "plt.title('Loss')\n",
        "plt.ylabel('Accuracy')\n",
        "plt.xlabel('Epoch')\n",
        "plt.legend(['Validation Loss', 'Validation', 'Train'], loc='best')\n",
        "plt.show()"
      ],
      "metadata": {
        "colab": {
          "base_uri": "https://localhost:8080/",
          "height": 295
        },
        "id": "9PKRMlI08xkU",
        "outputId": "2791eab8-3dd6-41e2-801a-2b0f3ca6e45c"
      },
      "execution_count": 377,
      "outputs": [
        {
          "output_type": "display_data",
          "data": {
            "text/plain": [
              "<Figure size 432x288 with 1 Axes>"
            ],
            "image/png": "[encoded data removed]"
          },
          "metadata": {
            "needs_background": "light"
          }
        }
      ]
    },
    {
      "cell_type": "markdown",
      "source": [
        "Le modèle est meilleur. La perte baisse considérablement et la performance est plutôt bonne tant sur les données d'entrainement (100%) que sur les données de validation (81%).\n",
        "\n",
        "Cependant, si ce resultat est satisfaisant, le fait que le e score d'apprentissage atteint 1 et reste bloqué tandis que le score de validation atteint un plateau et se dégrade très légèrement, cela peut indiquer un sur-apprentissage (overfitting).\n",
        "\n",
        "Une dernière tentative d'amélioration du modèle serait d'ajouter des regulateurs aux couches pour éviter le sur-apprentissage."
      ],
      "metadata": {
        "id": "5sQen2fOhT7i"
      }
    },
    {
      "cell_type": "markdown",
      "source": [
        "#### Regularisation des couches par Dropout"
      ],
      "metadata": {
        "id": "jY_UtvIVhTvK"
      }
    },
    {
      "cell_type": "markdown",
      "source": [
        "Le dropout est une technique de régularisation qui consiste à désactiver aléatoirement un certain nombre de neurones d'une couche lors de l'entraînement du modèle, afin d'éviter la suradaptation (overfitting) et d'améliorer la généralisation du modèle."
      ],
      "metadata": {
        "id": "Nqe4529pPsAu"
      }
    },
    {
      "cell_type": "code",
      "source": [
        "model = tf.keras.models.Sequential([\n",
        "    tf.keras.layers.Input(shape=(X_train_scaled.shape[1],)),\n",
        "    tf.keras.layers.Dense(512, activation='relu'),\n",
        "    tf.keras.layers.Dropout(0.5),\n",
        "    tf.keras.layers.Dense(256, activation='relu'),\n",
        "    tf.keras.layers.Dropout(0.4),\n",
        "    tf.keras.layers.Dense(128, activation='relu'),\n",
        "    tf.keras.layers.Dropout(0.4),\n",
        "    tf.keras.layers.Dense(64, activation='tanh'),\n",
        "    tf.keras.layers.Dropout(0.4),\n",
        "    tf.keras.layers.Dense(32, activation='tanh'),\n",
        "    tf.keras.layers.Dropout(0.2),\n",
        "    tf.keras.layers.Dense(7, activation='sigmoid')\n",
        "])\n",
        "\n",
        "model.compile(optimizer=tf.keras.optimizers.Adam(),\n",
        "              loss=tf.keras.losses.BinaryCrossentropy(from_logits=True),\n",
        "              metrics=['accuracy'])"
      ],
      "metadata": {
        "id": "5yyg6moqOqAr"
      },
      "execution_count": 494,
      "outputs": []
    },
    {
      "cell_type": "code",
      "source": [
        "history = model.fit(X_train_scaled, train_labels_binarized, epochs=50, batch_size=100, validation_data=(X_valid_scaled, valid_labels_binarized))"
      ],
      "metadata": {
        "colab": {
          "base_uri": "https://localhost:8080/"
        },
        "outputId": "6c23caf0-1545-467c-d272-e4ecfc52655d",
        "id": "XM4UQ_GPOqAs"
      },
      "execution_count": 495,
      "outputs": [
        {
          "output_type": "stream",
          "name": "stdout",
          "text": [
            "Epoch 1/50\n"
          ]
        },
        {
          "output_type": "stream",
          "name": "stderr",
          "text": [
            "/usr/local/lib/python3.8/dist-packages/keras/backend.py:5676: UserWarning: \"`binary_crossentropy` received `from_logits=True`, but the `output` argument was produced by a Sigmoid activation and thus does not represent logits. Was this intended?\n",
            "  output, from_logits = _get_logits(\n"
          ]
        },
        {
          "output_type": "stream",
          "name": "stdout",
          "text": [
            "12/12 [==============================] - 1s 32ms/step - loss: 0.5536 - accuracy: 0.1487 - val_loss: 0.4145 - val_accuracy: 0.1882\n",
            "Epoch 2/50\n",
            " 5/12 [===========>..................] - ETA: 0s - loss: 0.4480 - accuracy: 0.1480"
          ]
        },
        {
          "output_type": "stream",
          "name": "stderr",
          "text": [
            "/usr/local/lib/python3.8/dist-packages/keras/backend.py:5676: UserWarning: \"`binary_crossentropy` received `from_logits=True`, but the `output` argument was produced by a Sigmoid activation and thus does not represent logits. Was this intended?\n",
            "  output, from_logits = _get_logits(\n"
          ]
        },
        {
          "output_type": "stream",
          "name": "stdout",
          "text": [
            "12/12 [==============================] - 0s 19ms/step - loss: 0.4403 - accuracy: 0.1538 - val_loss: 0.4211 - val_accuracy: 0.1765\n",
            "Epoch 3/50\n",
            "12/12 [==============================] - 0s 18ms/step - loss: 0.4331 - accuracy: 0.1689 - val_loss: 0.4192 - val_accuracy: 0.1804\n",
            "Epoch 4/50\n",
            "12/12 [==============================] - 0s 19ms/step - loss: 0.4231 - accuracy: 0.1824 - val_loss: 0.4074 - val_accuracy: 0.2431\n",
            "Epoch 5/50\n",
            "12/12 [==============================] - 0s 20ms/step - loss: 0.4190 - accuracy: 0.1924 - val_loss: 0.3911 - val_accuracy: 0.3451\n",
            "Epoch 6/50\n",
            "12/12 [==============================] - 0s 25ms/step - loss: 0.4084 - accuracy: 0.2176 - val_loss: 0.3582 - val_accuracy: 0.3961\n",
            "Epoch 7/50\n",
            "12/12 [==============================] - 0s 27ms/step - loss: 0.3926 - accuracy: 0.2739 - val_loss: 0.3353 - val_accuracy: 0.4471\n",
            "Epoch 8/50\n",
            "12/12 [==============================] - 0s 25ms/step - loss: 0.3733 - accuracy: 0.3286 - val_loss: 0.3230 - val_accuracy: 0.4588\n",
            "Epoch 9/50\n",
            "12/12 [==============================] - 0s 24ms/step - loss: 0.3646 - accuracy: 0.3622 - val_loss: 0.3107 - val_accuracy: 0.5137\n",
            "Epoch 10/50\n",
            "12/12 [==============================] - 0s 26ms/step - loss: 0.3480 - accuracy: 0.3916 - val_loss: 0.2993 - val_accuracy: 0.5569\n",
            "Epoch 11/50\n",
            "12/12 [==============================] - 0s 24ms/step - loss: 0.3326 - accuracy: 0.4412 - val_loss: 0.2896 - val_accuracy: 0.6196\n",
            "Epoch 12/50\n",
            "12/12 [==============================] - 0s 24ms/step - loss: 0.3233 - accuracy: 0.4378 - val_loss: 0.2809 - val_accuracy: 0.6353\n",
            "Epoch 13/50\n",
            "12/12 [==============================] - 0s 28ms/step - loss: 0.3071 - accuracy: 0.5252 - val_loss: 0.2707 - val_accuracy: 0.6471\n",
            "Epoch 14/50\n",
            "12/12 [==============================] - 0s 25ms/step - loss: 0.2927 - accuracy: 0.5462 - val_loss: 0.2598 - val_accuracy: 0.6627\n",
            "Epoch 15/50\n",
            "12/12 [==============================] - 0s 23ms/step - loss: 0.2785 - accuracy: 0.5924 - val_loss: 0.2497 - val_accuracy: 0.6510\n",
            "Epoch 16/50\n",
            "12/12 [==============================] - 0s 18ms/step - loss: 0.2662 - accuracy: 0.6227 - val_loss: 0.2381 - val_accuracy: 0.6627\n",
            "Epoch 17/50\n",
            "12/12 [==============================] - 0s 17ms/step - loss: 0.2581 - accuracy: 0.6496 - val_loss: 0.2283 - val_accuracy: 0.6980\n",
            "Epoch 18/50\n",
            "12/12 [==============================] - 0s 18ms/step - loss: 0.2473 - accuracy: 0.6773 - val_loss: 0.2221 - val_accuracy: 0.6902\n",
            "Epoch 19/50\n",
            "12/12 [==============================] - 0s 17ms/step - loss: 0.2336 - accuracy: 0.6832 - val_loss: 0.2175 - val_accuracy: 0.6941\n",
            "Epoch 20/50\n",
            "12/12 [==============================] - 0s 19ms/step - loss: 0.2229 - accuracy: 0.7277 - val_loss: 0.2097 - val_accuracy: 0.7176\n",
            "Epoch 21/50\n",
            "12/12 [==============================] - 0s 18ms/step - loss: 0.2146 - accuracy: 0.7412 - val_loss: 0.2066 - val_accuracy: 0.6980\n",
            "Epoch 22/50\n",
            "12/12 [==============================] - 0s 18ms/step - loss: 0.2062 - accuracy: 0.7571 - val_loss: 0.2025 - val_accuracy: 0.6941\n",
            "Epoch 23/50\n",
            "12/12 [==============================] - 0s 19ms/step - loss: 0.1866 - accuracy: 0.7975 - val_loss: 0.1996 - val_accuracy: 0.7059\n",
            "Epoch 24/50\n",
            "12/12 [==============================] - 0s 17ms/step - loss: 0.1801 - accuracy: 0.7891 - val_loss: 0.1994 - val_accuracy: 0.7529\n",
            "Epoch 25/50\n",
            "12/12 [==============================] - 0s 17ms/step - loss: 0.1708 - accuracy: 0.8185 - val_loss: 0.1955 - val_accuracy: 0.7529\n",
            "Epoch 26/50\n",
            "12/12 [==============================] - 0s 18ms/step - loss: 0.1688 - accuracy: 0.7933 - val_loss: 0.1984 - val_accuracy: 0.7176\n",
            "Epoch 27/50\n",
            "12/12 [==============================] - 0s 17ms/step - loss: 0.1565 - accuracy: 0.8160 - val_loss: 0.1960 - val_accuracy: 0.7059\n",
            "Epoch 28/50\n",
            "12/12 [==============================] - 0s 19ms/step - loss: 0.1510 - accuracy: 0.8395 - val_loss: 0.1960 - val_accuracy: 0.7176\n",
            "Epoch 29/50\n",
            "12/12 [==============================] - 0s 17ms/step - loss: 0.1473 - accuracy: 0.8277 - val_loss: 0.2008 - val_accuracy: 0.7451\n",
            "Epoch 30/50\n",
            "12/12 [==============================] - 0s 19ms/step - loss: 0.1439 - accuracy: 0.8252 - val_loss: 0.1987 - val_accuracy: 0.7373\n",
            "Epoch 31/50\n",
            "12/12 [==============================] - 0s 18ms/step - loss: 0.1355 - accuracy: 0.8546 - val_loss: 0.1985 - val_accuracy: 0.7373\n",
            "Epoch 32/50\n",
            "12/12 [==============================] - 0s 19ms/step - loss: 0.1308 - accuracy: 0.8361 - val_loss: 0.2007 - val_accuracy: 0.7529\n",
            "Epoch 33/50\n",
            "12/12 [==============================] - 0s 18ms/step - loss: 0.1272 - accuracy: 0.8538 - val_loss: 0.1935 - val_accuracy: 0.7451\n",
            "Epoch 34/50\n",
            "12/12 [==============================] - 0s 17ms/step - loss: 0.1225 - accuracy: 0.8689 - val_loss: 0.2038 - val_accuracy: 0.7451\n",
            "Epoch 35/50\n",
            "12/12 [==============================] - 0s 18ms/step - loss: 0.1172 - accuracy: 0.8681 - val_loss: 0.1993 - val_accuracy: 0.7529\n",
            "Epoch 36/50\n",
            "12/12 [==============================] - 0s 19ms/step - loss: 0.1155 - accuracy: 0.8639 - val_loss: 0.1933 - val_accuracy: 0.7529\n",
            "Epoch 37/50\n",
            "12/12 [==============================] - 0s 18ms/step - loss: 0.1118 - accuracy: 0.8706 - val_loss: 0.1985 - val_accuracy: 0.7608\n",
            "Epoch 38/50\n",
            "12/12 [==============================] - 0s 18ms/step - loss: 0.1105 - accuracy: 0.8739 - val_loss: 0.1891 - val_accuracy: 0.7647\n",
            "Epoch 39/50\n",
            "12/12 [==============================] - 0s 18ms/step - loss: 0.1098 - accuracy: 0.8807 - val_loss: 0.1823 - val_accuracy: 0.7804\n",
            "Epoch 40/50\n",
            "12/12 [==============================] - 0s 16ms/step - loss: 0.1067 - accuracy: 0.8958 - val_loss: 0.1944 - val_accuracy: 0.7686\n",
            "Epoch 41/50\n",
            "12/12 [==============================] - 0s 19ms/step - loss: 0.1020 - accuracy: 0.8950 - val_loss: 0.1888 - val_accuracy: 0.7804\n",
            "Epoch 42/50\n",
            "12/12 [==============================] - 0s 17ms/step - loss: 0.1000 - accuracy: 0.8983 - val_loss: 0.1955 - val_accuracy: 0.7451\n",
            "Epoch 43/50\n",
            "12/12 [==============================] - 0s 17ms/step - loss: 0.0951 - accuracy: 0.9193 - val_loss: 0.1845 - val_accuracy: 0.7804\n",
            "Epoch 44/50\n",
            "12/12 [==============================] - 0s 17ms/step - loss: 0.0936 - accuracy: 0.9134 - val_loss: 0.1849 - val_accuracy: 0.7765\n",
            "Epoch 45/50\n",
            "12/12 [==============================] - 0s 17ms/step - loss: 0.0908 - accuracy: 0.9277 - val_loss: 0.1943 - val_accuracy: 0.7686\n",
            "Epoch 46/50\n",
            "12/12 [==============================] - 0s 19ms/step - loss: 0.0911 - accuracy: 0.9252 - val_loss: 0.1913 - val_accuracy: 0.7686\n",
            "Epoch 47/50\n",
            "12/12 [==============================] - 0s 17ms/step - loss: 0.0872 - accuracy: 0.9227 - val_loss: 0.1853 - val_accuracy: 0.8000\n",
            "Epoch 48/50\n",
            "12/12 [==============================] - 0s 18ms/step - loss: 0.0873 - accuracy: 0.9269 - val_loss: 0.1829 - val_accuracy: 0.7961\n",
            "Epoch 49/50\n",
            "12/12 [==============================] - 0s 17ms/step - loss: 0.0777 - accuracy: 0.9529 - val_loss: 0.1842 - val_accuracy: 0.7922\n",
            "Epoch 50/50\n",
            "12/12 [==============================] - 0s 17ms/step - loss: 0.0787 - accuracy: 0.9437 - val_loss: 0.1925 - val_accuracy: 0.7961\n"
          ]
        }
      ]
    },
    {
      "cell_type": "code",
      "source": [
        "np.max(history.history['val_accuracy']) * 100"
      ],
      "metadata": {
        "colab": {
          "base_uri": "https://localhost:8080/"
        },
        "outputId": "cec40426-af9d-427e-94e3-f6f82174c7dc",
        "id": "3ghimKNqOqAs"
      },
      "execution_count": 496,
      "outputs": [
        {
          "output_type": "execute_result",
          "data": {
            "text/plain": [
              "80.0000011920929"
            ]
          },
          "metadata": {},
          "execution_count": 496
        }
      ]
    },
    {
      "cell_type": "code",
      "source": [
        "# Plot training & validation accuracy values\n",
        "plt.plot(history.history['val_loss'], 'r')\n",
        "plt.plot(history.history['val_accuracy'], 'green')\n",
        "plt.plot(history.history['accuracy'], 'b')\n",
        "plt.title('Loss')\n",
        "plt.ylabel('Accuracy')\n",
        "plt.xlabel('Epoch')\n",
        "plt.legend(['Validation Loss', 'Validation', 'Train'], loc='best')\n",
        "plt.show()"
      ],
      "metadata": {
        "colab": {
          "base_uri": "https://localhost:8080/",
          "height": 295
        },
        "outputId": "e520c7c4-dc71-4dc9-efc5-811bf491e0fc",
        "id": "hO24g_KTOqAt"
      },
      "execution_count": 497,
      "outputs": [
        {
          "output_type": "display_data",
          "data": {
            "text/plain": [
              "<Figure size 432x288 with 1 Axes>"
            ],
            "image/png": "[encoded data removed]"
          },
          "metadata": {
            "needs_background": "light"
          }
        }
      ]
    },
    {
      "cell_type": "markdown",
      "source": [
        "Les regulateurs sont censés éviter le sur-apprentissage. La perte continue à descendre alors que les scores de validation et d'entrainement augmentent ensemble.\n",
        "\n",
        "Le modèle a une bonne capacité de généralisation. On utilisera ce modèle pour prédire les données futures."
      ],
      "metadata": {
        "id": "UslJe8sWbSp5"
      }
    },
    {
      "cell_type": "markdown",
      "source": [
        " ### Application sur données de tests"
      ],
      "metadata": {
        "id": "WlRNLFRyc4ew"
      }
    },
    {
      "cell_type": "code",
      "source": [
        "score = model.evaluate(X_test_scaled, test_labels_binarized)\n",
        "score"
      ],
      "metadata": {
        "colab": {
          "base_uri": "https://localhost:8080/"
        },
        "id": "rGe-OV0AdAan",
        "outputId": "c4b55eae-112f-4eef-aa36-a6fdd9b4ffea"
      },
      "execution_count": 498,
      "outputs": [
        {
          "output_type": "stream",
          "name": "stdout",
          "text": [
            "8/8 [==============================] - 0s 3ms/step - loss: 0.1999 - accuracy: 0.7725\n"
          ]
        },
        {
          "output_type": "execute_result",
          "data": {
            "text/plain": [
              "[0.19985905289649963, 0.772549033164978]"
            ]
          },
          "metadata": {},
          "execution_count": 498
        }
      ]
    },
    {
      "cell_type": "markdown",
      "source": [
        "### Soumission sur Kaggle"
      ],
      "metadata": {
        "id": "ImEQBRw_O8ko"
      }
    },
    {
      "cell_type": "code",
      "execution_count": 501,
      "metadata": {
        "colab": {
          "base_uri": "https://localhost:8080/"
        },
        "id": "5xmN-cbF1RYI",
        "outputId": "bf092d08-f05c-4f11-ef58-5147767e2e8e"
      },
      "outputs": [
        {
          "output_type": "stream",
          "name": "stdout",
          "text": [
            "16/16 [==============================] - 0s 13ms/step\n"
          ]
        },
        {
          "output_type": "execute_result",
          "data": {
            "text/plain": [
              "0      6\n",
              "1      4\n",
              "2      4\n",
              "3      4\n",
              "4      4\n",
              "      ..\n",
              "495    6\n",
              "496    4\n",
              "497    2\n",
              "498    6\n",
              "499    3\n",
              "Name: label, Length: 500, dtype: int64"
            ]
          },
          "metadata": {},
          "execution_count": 501
        }
      ],
      "source": [
        "# Prédiction du modèle sur competition mise à l'échelle\n",
        "NN_pred = model.predict(competition_scaled.iloc[:,:])\n",
        "NN_pred\n",
        "# we put this predictions in a DataFrame with the right format expected by kaggle\n",
        "df = pd.DataFrame(np.arange(1,501), columns=['Id'])\n",
        "df['label'] = [np.argmax(pred, axis=0) for pred in NN_pred]\n",
        "df.label"
      ]
    },
    {
      "cell_type": "code",
      "source": [
        "df.to_csv('neural_network_on_competition_scaled.csv', index=False)"
      ],
      "metadata": {
        "id": "Oh_Jwt1Q0oFu"
      },
      "execution_count": 502,
      "outputs": []
    },
    {
      "cell_type": "markdown",
      "source": [
        "## Conclusion"
      ],
      "metadata": {
        "id": "tm6TSn5N550l"
      }
    },
    {
      "cell_type": "markdown",
      "source": [
        "Parmi tous les modèles vus jusqu'actuellement, c'est le modèle svm_rbf qui réalise le plus grand score sur les données de compétition.\n",
        "\n",
        "Le modèle Neural Network réalise une bonne performance sur les données de validation et de test, mais réalise un score très faible sur les données de compétition. Est-ce dû à un problème de mise à échelle ou de sur-ajustement ?"
      ],
      "metadata": {
        "id": "J-uNd_Ru6Bir"
      }
    },
    {
      "cell_type": "markdown",
      "metadata": {
        "id": "AprViB0Z1RYI"
      },
      "source": [
        "# Part 3 : using HOG representation"
      ]
    },
    {
      "cell_type": "markdown",
      "metadata": {
        "id": "NNBNjcuw1RYK"
      },
      "source": [
        "## Decision trees"
      ]
    },
    {
      "cell_type": "code",
      "execution_count": null,
      "metadata": {
        "colab": {
          "background_save": true
        },
        "id": "GpGjmNAB1RYN"
      },
      "outputs": [],
      "source": [
        "# TODO"
      ]
    },
    {
      "cell_type": "markdown",
      "metadata": {
        "id": "Uw5SbE_m1RYV"
      },
      "source": [
        "## SVM"
      ]
    },
    {
      "cell_type": "code",
      "execution_count": null,
      "metadata": {
        "colab": {
          "background_save": true
        },
        "id": "mlt8a1I21RYb"
      },
      "outputs": [],
      "source": [
        "# TODO"
      ]
    },
    {
      "cell_type": "markdown",
      "metadata": {
        "id": "DVbR4JZ01RYc"
      },
      "source": [
        "## K-nearest-neighbour"
      ]
    },
    {
      "cell_type": "code",
      "execution_count": null,
      "metadata": {
        "colab": {
          "background_save": true
        },
        "id": "6Wig-tcr1RYc"
      },
      "outputs": [],
      "source": [
        "# TODO"
      ]
    },
    {
      "cell_type": "markdown",
      "metadata": {
        "id": "PcFbiqRZ1RYc"
      },
      "source": [
        "## Random forest"
      ]
    },
    {
      "cell_type": "code",
      "execution_count": null,
      "metadata": {
        "colab": {
          "background_save": true
        },
        "id": "7xfpOjey1RYd"
      },
      "outputs": [],
      "source": [
        "# TODO"
      ]
    },
    {
      "cell_type": "markdown",
      "metadata": {
        "id": "93C-hETQ1RYd"
      },
      "source": [
        "## Logistic regression"
      ]
    },
    {
      "cell_type": "code",
      "execution_count": null,
      "metadata": {
        "colab": {
          "background_save": true
        },
        "id": "PvgcOT8d1RYe"
      },
      "outputs": [],
      "source": [
        "# TODO"
      ]
    },
    {
      "cell_type": "markdown",
      "metadata": {
        "id": "eiifhCnG1RYe"
      },
      "source": [
        "## Neural networks"
      ]
    },
    {
      "cell_type": "code",
      "execution_count": null,
      "metadata": {
        "colab": {
          "background_save": true
        },
        "id": "rOxOz0uJ1RYf"
      },
      "outputs": [],
      "source": [
        "# TODO"
      ]
    }
  ],
  "metadata": {
    "accelerator": "GPU",
    "colab": {
      "toc_visible": true,
      "provenance": [],
      "include_colab_link": true
    },
    "gpuClass": "standard",
    "kernelspec": {
      "display_name": "Python 3",
      "language": "python",
      "name": "python3"
    },
    "language_info": {
      "codemirror_mode": {
        "name": "ipython",
        "version": 3
      },
      "file_extension": ".py",
      "mimetype": "text/x-python",
      "name": "python",
      "nbconvert_exporter": "python",
      "pygments_lexer": "ipython3",
      "version": "3.7.12"
    },
    "vscode": {
      "interpreter": {
        "hash": "ad2bdc8ecc057115af97d19610ffacc2b4e99fae6737bb82f5d7fb13d2f2c186"
      }
    }
  },
  "nbformat": 4,
  "nbformat_minor": 0
}